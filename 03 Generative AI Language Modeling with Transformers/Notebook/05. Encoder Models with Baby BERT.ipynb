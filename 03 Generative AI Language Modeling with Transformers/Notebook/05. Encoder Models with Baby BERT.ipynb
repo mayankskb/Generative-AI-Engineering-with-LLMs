{
  "cells": [
    {
      "cell_type": "markdown",
      "metadata": {
        "id": "Ny1vpEQGgnqN"
      },
      "source": [
        "<p style=\"text-align:center\">\n",
        "    <a href=\"https://skills.network\" target=\"_blank\">\n",
        "    <img src=\"https://cf-courses-data.s3.us.cloud-object-storage.appdomain.cloud/assets/logos/SN_web_lightmode.png\" width=\"200\" alt=\"Skills Network Logo\">\n",
        "    </a>\n",
        "</p>\n"
      ]
    },
    {
      "cell_type": "markdown",
      "metadata": {
        "id": "xwIPWP5cgnqP"
      },
      "source": [
        "# **Pretraining BERT Models**\n"
      ]
    },
    {
      "cell_type": "markdown",
      "metadata": {
        "id": "bSjLI_WtgnqP"
      },
      "source": [
        "Estimated time needed: **60** minutes\n"
      ]
    },
    {
      "cell_type": "markdown",
      "metadata": {
        "id": "IrqRw-51gnqP"
      },
      "source": [
        "In this hands-on lab, you will learn how to build a BERT model from scratch using PyTorch.\n"
      ]
    },
    {
      "cell_type": "markdown",
      "metadata": {
        "id": "LiifwpZKgnqP"
      },
      "source": [
        "## __Table of contents__\n",
        "\n",
        "<ol>\n",
        "    <li><a href=\"#Objectives\">Objectives</a></li>\n",
        "    <li>\n",
        "        <a href=\"#Setup\">Setup</a>\n",
        "        <ol>\n",
        "            <li><a href=\"#Installing-required-libraries\">Installing required libraries</a></li>\n",
        "            <li><a href=\"#Importing-required-libraries\">Importing required libraries</a></li>\n",
        "        </ol>\n",
        "    </li>\n",
        "    <li>\n",
        "        <a href=\"#Background\">Background</a>\n",
        "        <ol>\n",
        "            <li><a href=\"#Introduction-to-pretraining\">Introduction to pretraining</a></li>\n",
        "            <li><a href=\"#Pretraining-objectives\">Pretraining objectives</a></li>\n",
        "            <li><a href=\"#Pretraining-a-BERT-model\">Pretraining a BERT model</a></li>\n",
        "        </ol>\n",
        "    </li>\n",
        "    <li><a href=\"#Loading-data\">Loading data</a></li>\n",
        "    <li><a href=\"#Model-creation\">Model creation</a></li>\n",
        "    <li><a href=\"#Evaluation\">Evaluation</a></li>\n",
        "    <li><a href=\"#Training\">Training</a></li>\n",
        "    <li><a href=\"#Inference\">Inference</a></li>\n",
        "    <li>\n",
        "        <a href=\"#Exercises\">Exercises</a>\n",
        "        <ol>\n",
        "            <li><a href=\"#Exercise-1:-Next-Sentence-Prediction-(NSP)-with-BERT\">Exercise 1: Next Sentence Prediction (NSP) with BERT</a></li>\n",
        "            <li><a href=\"#Exercise-2:-Masked-Language-Modeling-(MLM)-with-BERT\">Exercise 2: Masked Language Modeling (MLM) with BERT</a></li>\n",
        "        </ol>\n",
        "    </li>\n",
        "</ol>\n"
      ]
    },
    {
      "cell_type": "markdown",
      "metadata": {
        "id": "ykQRqHs0gnqP"
      },
      "source": [
        "## Objectives\n",
        "\n",
        "In this interactive guide, you will delve into the core components of encoder models, with a spotlight on 'Baby BERT', a streamlined variant of the BERT model. This notebook aims to:\n",
        "\n",
        "- **Demystify tokenization**: Introduce the critical first step in processing text for Natural Language Processing (NLP) — tokenization. We'll learn how to convert raw text into a format that's amenable to machine processing.\n",
        "- **Decode encoder models**: Shed light on the structure and function of encoder models, particularly how they capture and process the complexities of language.\n",
        "- **Pretraining dynamics**: Walk through the pretraining phase of 'Baby BERT' on a bespoke dataset, showcasing how language models are equipped to understand context and meaning.\n",
        "- **Task-specific proficiency**: Assess 'Baby BERT's capabilities in handling sentence sequencing and word prediction challenges through Next Sentence Prediction (NSP) and Masked Language Modeling (MLM).\n",
        "- **Performance analysis**: Evaluate how well our model performs these tasks, providing insights into its linguistic comprehension and ability to predict accurately.\n"
      ]
    },
    {
      "cell_type": "markdown",
      "metadata": {
        "id": "xn6BhJVBgnqQ"
      },
      "source": [
        "## Setup\n"
      ]
    },
    {
      "cell_type": "markdown",
      "metadata": {
        "id": "Imko7qdKgnqQ"
      },
      "source": [
        "### Installing required libraries\n",
        "The following required libraries are __not__ pre-installed in the Skills Network Labs environment. __You will need to run the following cell__ to install them:\n",
        "> Note: After executing the 'pip install' cell restart the kernel and execute the subsequent cells.\n"
      ]
    },
    {
      "cell_type": "code",
      "execution_count": 1,
      "metadata": {
        "colab": {
          "base_uri": "https://localhost:8080/"
        },
        "id": "jBfuUiWVgnqQ",
        "outputId": "f526cc0d-9b47-46e2-8990-8dafca010c02",
        "scrolled": true
      },
      "outputs": [
        {
          "output_type": "stream",
          "name": "stdout",
          "text": [
            "Requirement already satisfied: numpy==1.26.4 in /usr/local/lib/python3.12/dist-packages (1.26.4)\n",
            "Requirement already satisfied: pandas==2.2.1 in /usr/local/lib/python3.12/dist-packages (2.2.1)\n",
            "Requirement already satisfied: python-dateutil>=2.8.2 in /usr/local/lib/python3.12/dist-packages (from pandas==2.2.1) (2.9.0.post0)\n",
            "Requirement already satisfied: pytz>=2020.1 in /usr/local/lib/python3.12/dist-packages (from pandas==2.2.1) (2025.2)\n",
            "Requirement already satisfied: tzdata>=2022.7 in /usr/local/lib/python3.12/dist-packages (from pandas==2.2.1) (2025.2)\n",
            "Requirement already satisfied: six>=1.5 in /usr/local/lib/python3.12/dist-packages (from python-dateutil>=2.8.2->pandas==2.2.1) (1.17.0)\n",
            "Requirement already satisfied: torch==2.3.0 in /usr/local/lib/python3.12/dist-packages (2.3.0)\n",
            "Requirement already satisfied: torchtext==0.18.0 in /usr/local/lib/python3.12/dist-packages (0.18.0)\n",
            "Requirement already satisfied: transformers==4.35.2 in /usr/local/lib/python3.12/dist-packages (4.35.2)\n",
            "Requirement already satisfied: filelock in /usr/local/lib/python3.12/dist-packages (from torch==2.3.0) (3.19.1)\n",
            "Requirement already satisfied: typing-extensions>=4.8.0 in /usr/local/lib/python3.12/dist-packages (from torch==2.3.0) (4.15.0)\n",
            "Requirement already satisfied: sympy in /usr/local/lib/python3.12/dist-packages (from torch==2.3.0) (1.13.3)\n",
            "Requirement already satisfied: networkx in /usr/local/lib/python3.12/dist-packages (from torch==2.3.0) (3.5)\n",
            "Requirement already satisfied: jinja2 in /usr/local/lib/python3.12/dist-packages (from torch==2.3.0) (3.1.6)\n",
            "Requirement already satisfied: fsspec in /usr/local/lib/python3.12/dist-packages (from torch==2.3.0) (2025.3.0)\n",
            "Requirement already satisfied: nvidia-cuda-nvrtc-cu12==12.1.105 in /usr/local/lib/python3.12/dist-packages (from torch==2.3.0) (12.1.105)\n",
            "Requirement already satisfied: nvidia-cuda-runtime-cu12==12.1.105 in /usr/local/lib/python3.12/dist-packages (from torch==2.3.0) (12.1.105)\n",
            "Requirement already satisfied: nvidia-cuda-cupti-cu12==12.1.105 in /usr/local/lib/python3.12/dist-packages (from torch==2.3.0) (12.1.105)\n",
            "Requirement already satisfied: nvidia-cudnn-cu12==8.9.2.26 in /usr/local/lib/python3.12/dist-packages (from torch==2.3.0) (8.9.2.26)\n",
            "Requirement already satisfied: nvidia-cublas-cu12==12.1.3.1 in /usr/local/lib/python3.12/dist-packages (from torch==2.3.0) (12.1.3.1)\n",
            "Requirement already satisfied: nvidia-cufft-cu12==11.0.2.54 in /usr/local/lib/python3.12/dist-packages (from torch==2.3.0) (11.0.2.54)\n",
            "Requirement already satisfied: nvidia-curand-cu12==10.3.2.106 in /usr/local/lib/python3.12/dist-packages (from torch==2.3.0) (10.3.2.106)\n",
            "Requirement already satisfied: nvidia-cusolver-cu12==11.4.5.107 in /usr/local/lib/python3.12/dist-packages (from torch==2.3.0) (11.4.5.107)\n",
            "Requirement already satisfied: nvidia-cusparse-cu12==12.1.0.106 in /usr/local/lib/python3.12/dist-packages (from torch==2.3.0) (12.1.0.106)\n",
            "Requirement already satisfied: nvidia-nccl-cu12==2.20.5 in /usr/local/lib/python3.12/dist-packages (from torch==2.3.0) (2.20.5)\n",
            "Requirement already satisfied: nvidia-nvtx-cu12==12.1.105 in /usr/local/lib/python3.12/dist-packages (from torch==2.3.0) (12.1.105)\n",
            "Requirement already satisfied: tqdm in /usr/local/lib/python3.12/dist-packages (from torchtext==0.18.0) (4.67.1)\n",
            "Requirement already satisfied: requests in /usr/local/lib/python3.12/dist-packages (from torchtext==0.18.0) (2.32.4)\n",
            "Requirement already satisfied: numpy in /usr/local/lib/python3.12/dist-packages (from torchtext==0.18.0) (1.26.4)\n",
            "Requirement already satisfied: huggingface-hub<1.0,>=0.16.4 in /usr/local/lib/python3.12/dist-packages (from transformers==4.35.2) (0.34.4)\n",
            "Requirement already satisfied: packaging>=20.0 in /usr/local/lib/python3.12/dist-packages (from transformers==4.35.2) (25.0)\n",
            "Requirement already satisfied: pyyaml>=5.1 in /usr/local/lib/python3.12/dist-packages (from transformers==4.35.2) (6.0.2)\n",
            "Requirement already satisfied: regex!=2019.12.17 in /usr/local/lib/python3.12/dist-packages (from transformers==4.35.2) (2024.11.6)\n",
            "Requirement already satisfied: tokenizers<0.19,>=0.14 in /usr/local/lib/python3.12/dist-packages (from transformers==4.35.2) (0.15.2)\n",
            "Requirement already satisfied: safetensors>=0.3.1 in /usr/local/lib/python3.12/dist-packages (from transformers==4.35.2) (0.6.2)\n",
            "Requirement already satisfied: nvidia-nvjitlink-cu12 in /usr/local/lib/python3.12/dist-packages (from nvidia-cusolver-cu12==11.4.5.107->torch==2.3.0) (12.6.85)\n",
            "Requirement already satisfied: hf-xet<2.0.0,>=1.1.3 in /usr/local/lib/python3.12/dist-packages (from huggingface-hub<1.0,>=0.16.4->transformers==4.35.2) (1.1.8)\n",
            "Requirement already satisfied: MarkupSafe>=2.0 in /usr/local/lib/python3.12/dist-packages (from jinja2->torch==2.3.0) (3.0.2)\n",
            "Requirement already satisfied: charset_normalizer<4,>=2 in /usr/local/lib/python3.12/dist-packages (from requests->torchtext==0.18.0) (3.4.3)\n",
            "Requirement already satisfied: idna<4,>=2.5 in /usr/local/lib/python3.12/dist-packages (from requests->torchtext==0.18.0) (3.10)\n",
            "Requirement already satisfied: urllib3<3,>=1.21.1 in /usr/local/lib/python3.12/dist-packages (from requests->torchtext==0.18.0) (2.5.0)\n",
            "Requirement already satisfied: certifi>=2017.4.17 in /usr/local/lib/python3.12/dist-packages (from requests->torchtext==0.18.0) (2025.8.3)\n",
            "Requirement already satisfied: mpmath<1.4,>=1.1.0 in /usr/local/lib/python3.12/dist-packages (from sympy->torch==2.3.0) (1.3.0)\n",
            "Requirement already satisfied: matplotlib==3.9.0 in /usr/local/lib/python3.12/dist-packages (3.9.0)\n",
            "Requirement already satisfied: contourpy>=1.0.1 in /usr/local/lib/python3.12/dist-packages (from matplotlib==3.9.0) (1.3.3)\n",
            "Requirement already satisfied: cycler>=0.10 in /usr/local/lib/python3.12/dist-packages (from matplotlib==3.9.0) (0.12.1)\n",
            "Requirement already satisfied: fonttools>=4.22.0 in /usr/local/lib/python3.12/dist-packages (from matplotlib==3.9.0) (4.59.1)\n",
            "Requirement already satisfied: kiwisolver>=1.3.1 in /usr/local/lib/python3.12/dist-packages (from matplotlib==3.9.0) (1.4.9)\n",
            "Requirement already satisfied: numpy>=1.23 in /usr/local/lib/python3.12/dist-packages (from matplotlib==3.9.0) (1.26.4)\n",
            "Requirement already satisfied: packaging>=20.0 in /usr/local/lib/python3.12/dist-packages (from matplotlib==3.9.0) (25.0)\n",
            "Requirement already satisfied: pillow>=8 in /usr/local/lib/python3.12/dist-packages (from matplotlib==3.9.0) (11.3.0)\n",
            "Requirement already satisfied: pyparsing>=2.3.1 in /usr/local/lib/python3.12/dist-packages (from matplotlib==3.9.0) (3.2.3)\n",
            "Requirement already satisfied: python-dateutil>=2.7 in /usr/local/lib/python3.12/dist-packages (from matplotlib==3.9.0) (2.9.0.post0)\n",
            "Requirement already satisfied: six>=1.5 in /usr/local/lib/python3.12/dist-packages (from python-dateutil>=2.7->matplotlib==3.9.0) (1.17.0)\n"
          ]
        }
      ],
      "source": [
        "!pip install --no-cache-dir numpy==1.26.4 pandas==2.2.1\n",
        "!pip install --no-cache-dir torch==2.3.0 torchtext==0.18.0 transformers==4.35.2\n",
        "!pip install --no-cache-dir matplotlib==3.9.0"
      ]
    },
    {
      "cell_type": "markdown",
      "metadata": {
        "id": "OpDbL53ygnqR"
      },
      "source": [
        "### Importing required libraries\n",
        "\n",
        "_It is recommended you import all required libraries in one place (here):_\n"
      ]
    },
    {
      "cell_type": "code",
      "execution_count": 2,
      "metadata": {
        "colab": {
          "base_uri": "https://localhost:8080/"
        },
        "id": "kdYGVjdlgnqR",
        "outputId": "cad90830-bd9c-42d6-b8f6-4aca4ff2124a"
      },
      "outputs": [
        {
          "output_type": "stream",
          "name": "stderr",
          "text": [
            "/usr/local/lib/python3.12/dist-packages/transformers/utils/generic.py:441: UserWarning: torch.utils._pytree._register_pytree_node is deprecated. Please use torch.utils._pytree.register_pytree_node instead.\n",
            "  _torch_pytree._register_pytree_node(\n",
            "/usr/local/lib/python3.12/dist-packages/torchtext/vocab/__init__.py:4: UserWarning: \n",
            "/!\\ IMPORTANT WARNING ABOUT TORCHTEXT STATUS /!\\ \n",
            "Torchtext is deprecated and the last released version will be 0.18 (this one). You can silence this warning by calling the following at the beginnign of your scripts: `import torchtext; torchtext.disable_torchtext_deprecation_warning()`\n",
            "  warnings.warn(torchtext._TORCHTEXT_DEPRECATION_MSG)\n",
            "/usr/local/lib/python3.12/dist-packages/torchtext/utils.py:4: UserWarning: \n",
            "/!\\ IMPORTANT WARNING ABOUT TORCHTEXT STATUS /!\\ \n",
            "Torchtext is deprecated and the last released version will be 0.18 (this one). You can silence this warning by calling the following at the beginnign of your scripts: `import torchtext; torchtext.disable_torchtext_deprecation_warning()`\n",
            "  warnings.warn(torchtext._TORCHTEXT_DEPRECATION_MSG)\n",
            "/usr/local/lib/python3.12/dist-packages/torchtext/data/__init__.py:4: UserWarning: \n",
            "/!\\ IMPORTANT WARNING ABOUT TORCHTEXT STATUS /!\\ \n",
            "Torchtext is deprecated and the last released version will be 0.18 (this one). You can silence this warning by calling the following at the beginnign of your scripts: `import torchtext; torchtext.disable_torchtext_deprecation_warning()`\n",
            "  warnings.warn(torchtext._TORCHTEXT_DEPRECATION_MSG)\n",
            "/usr/local/lib/python3.12/dist-packages/torchtext/datasets/__init__.py:4: UserWarning: \n",
            "/!\\ IMPORTANT WARNING ABOUT TORCHTEXT STATUS /!\\ \n",
            "Torchtext is deprecated and the last released version will be 0.18 (this one). You can silence this warning by calling the following at the beginnign of your scripts: `import torchtext; torchtext.disable_torchtext_deprecation_warning()`\n",
            "  warnings.warn(torchtext._TORCHTEXT_DEPRECATION_MSG)\n"
          ]
        }
      ],
      "source": [
        "import torch\n",
        "from torch.utils.data import DataLoader\n",
        "from torch import Tensor\n",
        "from torch.nn.utils.rnn import pad_sequence\n",
        "from torch.utils.data import Dataset, DataLoader\n",
        "import torch.nn as nn\n",
        "from torch.nn import Transformer\n",
        "from transformers import BertTokenizer\n",
        "from torch.optim import Adam\n",
        "from torch.nn import CrossEntropyLoss\n",
        "from torchtext.vocab import Vocab,build_vocab_from_iterator\n",
        "from torchtext.data.utils import get_tokenizer\n",
        "from torchtext.datasets import IMDB\n",
        "import random\n",
        "from itertools import chain\n",
        "import pandas as pd\n",
        "from copy import deepcopy\n",
        "import csv\n",
        "import json\n",
        "import math\n",
        "from tqdm import tqdm\n",
        "import matplotlib.pyplot as plt\n",
        "from transformers import get_linear_schedule_with_warmup\n",
        "\n",
        "# You can also use this section to suppress warnings generated by your code:\n",
        "def warn(*args, **kwargs):\n",
        "    pass\n",
        "import warnings\n",
        "warnings.warn = warn\n",
        "warnings.filterwarnings('ignore')\n"
      ]
    },
    {
      "cell_type": "markdown",
      "metadata": {
        "id": "d76pCt3QgnqR"
      },
      "source": [
        "## Background\n",
        "### Introduction to pretraining\n"
      ]
    },
    {
      "cell_type": "markdown",
      "metadata": {
        "id": "J5qlll81gnqR"
      },
      "source": [
        "Pretraining involves training a model on a large corpus of unlabeled text to capture general language patterns and semantic relationships. Pretrained models can then be fine-tuned on specific downstream NLP tasks, such as sentiment analysis, question answering, or machine translation.\n",
        "\n",
        "The motivation behind pretraining transformers is to address the limitations of traditional approaches that require significant amounts of labeled data for each specific task. Pretraining leverages the abundance of unlabeled text data available on the internet and facilitates transfer learning, where knowledge learned from one task can be transferred to aid in solving other related tasks.\n",
        "\n",
        "Pretraining objectives play a crucial role in training transformers. For example, masked language modeling (MLM) involves randomly masking some words in a sentence and training the model to predict the masked words based on the surrounding context. This objective helps the model learn contextual understanding and fill in missing information. Another objective called next sentence prediction (NSP) involves predicting whether two sentences are consecutive or randomly chosen from the corpus, enabling the model to learn sentence-level relationships.\n",
        "\n",
        "In the next sections of this lab, you will delve deeper into pretraining objectives. By the end of this lab, you will have a solid understanding of pretraining tasks for BERT models.\n"
      ]
    },
    {
      "cell_type": "markdown",
      "metadata": {
        "id": "c80tgJJYgnqR"
      },
      "source": [
        "### Pretraining objectives\n",
        "\n",
        "Pretraining objectives are crucial components of the pretraining process for transformers. These objectives define the tasks that the model is trained on during the pretraining phase, allowing it to learn meaningful contextual representations of language. Two commonly used pretraining objectives are masked language modeling (MLM) and next sentence prediction (NSP).\n",
        "\n",
        "1. Masked Language Modeling (MLM):\n",
        "   Masked language modeling involves randomly masking some words in a sentence and training the model to predict the masked words based on the context provided by the surrounding words(i.e., words that appear either before or after the masked word). The objective is to enable the model to learn contextual understanding and fill in missing information.\n",
        "\n",
        "   Here's how MLM works:\n",
        "   - Given an input sentence, a certain percentage of the words are randomly chosen and replaced with a special [MASK] token.\n",
        "   - The model's task is to predict the original words that were masked, given the context of the surrounding words.\n",
        "   - During training, the model learns to understand the relationship between the masked words and the rest of the sentence, effectively capturing the contextual information.\n",
        "\n",
        "2. Next Sentence Prediction (NSP):\n",
        "   Next sentence prediction involves training the model to predict whether two sentences are consecutive in the original text or randomly chosen from the corpus. This objective helps the model learn sentence-level relationships and understand the coherence between sentences.\n",
        "\n",
        "   Here's how NSP works:\n",
        "   - Given a pair of sentences, the model is trained to predict whether the second sentence follows the first sentence in the original text or if it is randomly selected from the corpus.\n",
        "   - The model learns to capture the relationships between sentences and understand the flow of information in the text.\n",
        "\n",
        "   NSP is particularly useful for tasks that involve understanding the relationship between multiple sentences, such as question answering or document classification. By training the model to predict the coherence of sentence pairs, it learns to capture the semantic connections between them.\n",
        "\n",
        "It's important to note that different pretrained models may use variations or combinations of these objectives, depending on the specific architecture and training setup.\n"
      ]
    },
    {
      "cell_type": "markdown",
      "metadata": {
        "id": "qnbIvd25gnqS"
      },
      "source": [
        "### Pretraining a BERT model\n",
        "Pretraining a BERT(Bidirectional Encoder Representations from Transformers) model is a complex and time-consuming process that requires a large corpus of unlabeled text data and significant computational resources. However, you provide with a simplified exercise to demonstrate the steps involved in pretraining a BERT model using the Masked Language Modeling (MLM) as well as the Next Sentence Prediction (NSP) objectives.\n",
        "\n",
        "You will be instructed to:\n",
        "- Create train and test dataloaders from dataset\n",
        "- Pretrain BERT using an MLM task\n",
        "- Pretrain BERT using an NSP task\n",
        "- Evaluate the trained model\n"
      ]
    },
    {
      "cell_type": "markdown",
      "metadata": {
        "id": "f7loEhpegnqS"
      },
      "source": [
        "## Loading data\n",
        "Let's load the CSV files created in the data preparation lab.\n"
      ]
    },
    {
      "cell_type": "code",
      "execution_count": 3,
      "metadata": {
        "id": "B72DuJTLgnqS"
      },
      "outputs": [],
      "source": [
        "%%bash\n",
        "# Remove any earlier instance of the dataset loaded\n",
        "if [ -d \"bert_dataset\" ]; then\n",
        "    rm -rf bert_dataset\n",
        "fi"
      ]
    },
    {
      "cell_type": "code",
      "execution_count": 4,
      "metadata": {
        "colab": {
          "base_uri": "https://localhost:8080/"
        },
        "id": "97M0bg14gnqS",
        "outputId": "88bd384c-5ea5-48af-ecb9-499380b0444a"
      },
      "outputs": [
        {
          "output_type": "stream",
          "name": "stdout",
          "text": [
            "--2025-08-30 11:19:15--  https://cf-courses-data.s3.us.cloud-object-storage.appdomain.cloud/bZaoQD52DcMpE7-kxwAG8A.zip\n",
            "Resolving cf-courses-data.s3.us.cloud-object-storage.appdomain.cloud (cf-courses-data.s3.us.cloud-object-storage.appdomain.cloud)... 169.45.118.108\n",
            "Connecting to cf-courses-data.s3.us.cloud-object-storage.appdomain.cloud (cf-courses-data.s3.us.cloud-object-storage.appdomain.cloud)|169.45.118.108|:443... connected.\n",
            "HTTP request sent, awaiting response... 200 OK\n",
            "Length: 88958506 (85M) [application/zip]\n",
            "Saving to: ‘BERT_dataset.zip’\n",
            "\n",
            "BERT_dataset.zip    100%[===================>]  84.84M  92.9MB/s    in 0.9s    \n",
            "\n",
            "2025-08-30 11:19:16 (92.9 MB/s) - ‘BERT_dataset.zip’ saved [88958506/88958506]\n",
            "\n",
            "Archive:  BERT_dataset.zip\n",
            "   creating: bert_dataset/\n",
            "  inflating: bert_dataset/.DS_Store  \n",
            "  inflating: bert_dataset/bert_train_data.csv  \n",
            "  inflating: bert_dataset/bert_test_data_sampled.csv  \n",
            "  inflating: bert_dataset/bert_test_data.csv  \n",
            "  inflating: bert_dataset/bert_train_data_sampled.csv  \n"
          ]
        }
      ],
      "source": [
        "!wget -O BERT_dataset.zip https://cf-courses-data.s3.us.cloud-object-storage.appdomain.cloud/bZaoQD52DcMpE7-kxwAG8A.zip\n",
        "!unzip BERT_dataset.zip"
      ]
    },
    {
      "cell_type": "markdown",
      "metadata": {
        "id": "RPEoAnqqgnqS"
      },
      "source": [
        "Now, you can create a torch Dataset using the CSV file you just created:\n"
      ]
    },
    {
      "cell_type": "code",
      "execution_count": 5,
      "metadata": {
        "id": "-qZV58P1gnqS"
      },
      "outputs": [],
      "source": [
        "class BERTCSVDataset(Dataset):\n",
        "    def __init__(self, filename):\n",
        "        self.data = pd.read_csv(filename)\n",
        "        self.tokenizer = BertTokenizer.from_pretrained('bert-base-uncased')\n",
        "\n",
        "    def __len__(self):\n",
        "        return len(self.data)\n",
        "\n",
        "    def __getitem__(self, idx):\n",
        "        row = self.data.iloc[idx]\n",
        "        try:\n",
        "\n",
        "            bert_input = torch.tensor(json.loads(row['BERT Input']), dtype=torch.long)\n",
        "            bert_label = torch.tensor(json.loads(row['BERT Label']), dtype=torch.long)\n",
        "            segment_label = torch.tensor([int(x) for x in row['Segment Label'].split(',')], dtype=torch.long)\n",
        "            is_next = torch.tensor(row['Is Next'], dtype=torch.long)\n",
        "            original_text = row['Original Text']  # If you want to use it\n",
        "        except json.JSONDecodeError as e:\n",
        "            print(f\"Error decoding JSON for row {idx}: {e}\")\n",
        "            print(\"BERT Input:\", row['BERT Input'])\n",
        "            print(\"BERT Label:\", row['BERT Label'])\n",
        "            # Handle the error, e.g., by skipping this row or using default values\n",
        "            return None  # or some default values\n",
        "\n",
        "            # Tokenizing the original text with BERT\n",
        "        encoded_input = self.tokenizer.encode_plus(\n",
        "            original_text,\n",
        "            add_special_tokens=True,\n",
        "            max_length=512,\n",
        "            padding='max_length',\n",
        "            truncation=True,\n",
        "            return_tensors=\"pt\"\n",
        "        )\n",
        "\n",
        "        input_ids = encoded_input['input_ids'].squeeze()\n",
        "        attention_mask = encoded_input['attention_mask'].squeeze()\n",
        "\n",
        "        return(bert_input, bert_label, segment_label, is_next, input_ids, attention_mask, original_text)"
      ]
    },
    {
      "cell_type": "markdown",
      "metadata": {
        "id": "JnZD3ZGygnqS"
      },
      "source": [
        "Next, create a collate function that applies transformations on batches of data iterator:\n"
      ]
    },
    {
      "cell_type": "code",
      "execution_count": 6,
      "metadata": {
        "id": "BM0JdHFfgnqS"
      },
      "outputs": [],
      "source": [
        "PAD_IDX = 0\n",
        "def collate_batch(batch):\n",
        "\n",
        "\n",
        "    bert_inputs_batch, bert_labels_batch, segment_labels_batch, is_nexts_batch,input_ids_batch,attention_mask_batch,original_text_battch = [], [], [], [],[],[],[]\n",
        "\n",
        "    for bert_input, bert_label, segment_label, is_next,input_ids,attention_mask,original_text in batch:\n",
        "        # Convert each sequence to a tensor and append to the respective list\n",
        "        bert_inputs_batch.append(torch.tensor(bert_input, dtype=torch.long))\n",
        "        bert_labels_batch.append(torch.tensor(bert_label, dtype=torch.long))\n",
        "        segment_labels_batch.append(torch.tensor(segment_label, dtype=torch.long))\n",
        "        is_nexts_batch.append(is_next)\n",
        "        input_ids_batch.append(input_ids)\n",
        "        attention_mask_batch.append(attention_mask)\n",
        "        original_text_battch.append(original_text)\n",
        "\n",
        "    # Pad the sequences in the batch\n",
        "    bert_inputs_final = pad_sequence(bert_inputs_batch, padding_value=PAD_IDX, batch_first=False)\n",
        "    bert_labels_final = pad_sequence(bert_labels_batch, padding_value=PAD_IDX, batch_first=False)\n",
        "    segment_labels_final = pad_sequence(segment_labels_batch, padding_value=PAD_IDX, batch_first=False)\n",
        "    is_nexts_batch = torch.tensor(is_nexts_batch, dtype=torch.long)\n",
        "\n",
        "    return bert_inputs_final, bert_labels_final, segment_labels_final, is_nexts_batch"
      ]
    },
    {
      "cell_type": "markdown",
      "metadata": {
        "id": "Slt_PMNHgnqS"
      },
      "source": [
        "Using an arbitrary batch size, you can create train and test dataloaders:\n"
      ]
    },
    {
      "cell_type": "code",
      "execution_count": 7,
      "metadata": {
        "id": "9u4wCH6wgnqS"
      },
      "outputs": [],
      "source": [
        "BATCH_SIZE = 2\n",
        "\n",
        "train_dataset_path = './bert_dataset/bert_train_data.csv'\n",
        "test_dataset_path = './bert_dataset/bert_test_data.csv'\n",
        "\n",
        "train_dataset = BERTCSVDataset(train_dataset_path)\n",
        "test_dataset = BERTCSVDataset(test_dataset_path)\n",
        "\n",
        "train_dataloader = DataLoader(train_dataset, batch_size=BATCH_SIZE, shuffle=True, collate_fn=collate_batch)\n",
        "test_dataloader = DataLoader(test_dataset, batch_size=BATCH_SIZE, shuffle=False, collate_fn=collate_batch)"
      ]
    },
    {
      "cell_type": "markdown",
      "metadata": {
        "id": "uq0CvJ6AgnqU"
      },
      "source": [
        "## Model creation\n",
        "\n",
        "In BERT, positional embedding, token embedding, and segment embedding are three types of embeddings used to represent the input tokens in the model.\n",
        "\n",
        "1. Token Embedding: Token embedding is the initial representation of each token in a BERT model. It maps each token to a dense vector representation of a fixed size, typically referred to as the embedding size. The token embedding layer in BERT learns the contextual representations of the input tokens. These embeddings capture the semantic meaning of the tokens and their relationships with other tokens in the context.\n",
        "\n",
        "2. Positional Embedding: BERT is a transformer-based model that processes the input tokens in parallel. However, since transformers don't inherently capture the order of tokens, positional embedding is used to inject positional information into the model. It adds a vector representation to each token that encodes its position in the input sequence. The positional embedding allows BERT to understand the sequential order of the tokens and capture their relative positions.\n",
        "\n",
        "\n",
        "3. Segment Embedding: BERT can handle sentence pairs or sequences that have distinct segments or parts. To differentiate between different segments, such as sentences or document sections, segment embedding is used. It assigns a unique vector representation to each segment or part of the input. The segment embeddings help BERT understand the relationships between different segments and capture the context within and between them.\n"
      ]
    },
    {
      "cell_type": "code",
      "execution_count": 8,
      "metadata": {
        "id": "mZ8hh2E4gnqU"
      },
      "outputs": [],
      "source": [
        "EMBEDDING_DIM = 10\n",
        "\n",
        "class TokenEmbedding(nn.Module):\n",
        "    def __init__(self, vocab_size, emb_size):\n",
        "        super(TokenEmbedding, self).__init__()\n",
        "        self.embedding = nn.Embedding(vocab_size, emb_size)\n",
        "        self.emb_size = emb_size\n",
        "\n",
        "    def forward(self, tokens: Tensor):\n",
        "        return self.embedding(tokens.long()) * math.sqrt(self.emb_size)\n",
        "\n",
        "# Define the PositionalEncoding class as a PyTorch module for adding positional information to token embeddings\n",
        "class PositionalEncoding(nn.Module):\n",
        "    def __init__(self, emb_size: int, dropout: float, maxlen: int = 5000):\n",
        "        super(PositionalEncoding, self).__init__()\n",
        "        # Create a positional encoding matrix as per the Transformer paper's formula\n",
        "        den = torch.exp(- torch.arange(0, emb_size, 2) * math.log(10000) / emb_size)\n",
        "        pos = torch.arange(0, maxlen).reshape(maxlen, 1)\n",
        "        pos_embedding = torch.zeros((maxlen, emb_size))\n",
        "        pos_embedding[:, 0::2] = torch.sin(pos * den)\n",
        "        pos_embedding[:, 1::2] = torch.cos(pos * den)\n",
        "        pos_embedding = pos_embedding.unsqueeze(-2)\n",
        "\n",
        "        self.dropout = nn.Dropout(dropout)\n",
        "        self.register_buffer('pos_embedding', pos_embedding)\n",
        "\n",
        "    def forward(self, token_embedding: torch.Tensor):\n",
        "        # Apply the positional encodings to the input token embeddings\n",
        "\n",
        "        return self.dropout(token_embedding + self.pos_embedding[:token_embedding.size(0), :])"
      ]
    },
    {
      "cell_type": "code",
      "execution_count": 9,
      "metadata": {
        "id": "HCCJtJc9gnqU"
      },
      "outputs": [],
      "source": [
        "class BERTEmbedding (nn.Module):\n",
        "\n",
        "    def __init__(self, vocab_size, emb_size ,dropout=0.1,train=True):\n",
        "\n",
        "        super().__init__()\n",
        "\n",
        "        self.token_embedding = TokenEmbedding( vocab_size,emb_size )\n",
        "        self.positional_encoding = PositionalEncoding(emb_size,dropout)\n",
        "        self.segment_embedding = nn.Embedding(3, emb_size)\n",
        "        self.dropout = torch.nn.Dropout(p=dropout)\n",
        "\n",
        "    def forward(self, bert_inputs, segment_labels=False):\n",
        "        my_embeddings=self.token_embedding(bert_inputs)\n",
        "        if self.train:\n",
        "          x = self.dropout(my_embeddings + self.positional_encoding(my_embeddings) + self.segment_embedding(segment_labels))\n",
        "        else:\n",
        "          x = my_embeddings + self.positional_encoding(my_embeddings)\n",
        "\n",
        "        return x"
      ]
    },
    {
      "cell_type": "markdown",
      "metadata": {
        "id": "seOA0GuugnqU"
      },
      "source": [
        "Now, define a complete BERT model with the following key components:\n",
        "\n",
        "1. Initialization: The `BERT` class is defined as a subclass of `torch.nn.Module`. It initializes the BERT model with parameters such as vocabulary size, model dimension, number of layers, number of attention heads, and dropout rate.\n",
        "\n",
        "2. Embedding Layer: The BERT model includes an embedding layer that combines token embeddings and segment embeddings using the `BERTEmbedding` class.\n",
        "\n",
        "3. Transformer Encoder: Transformer Encoder layers are used to encode the input embeddings. The number of layers, attention heads, dropout rate, and model dimension are specified based on the defined parameters.\n",
        "\n",
        "4. Next Sentence Prediction: The model has a linear layer for Next Sentence Prediction. It takes the output from the Transformer encoder and predicts the relationship between two consecutive sentences, classifying them into two classes.\n",
        "\n",
        "5. Masked Language Modeling: The model also includes a linear layer for Masked Language Modeling. It predicts the masked tokens in the input sequence by taking the output from the Transformer encoder and making predictions across the vocabulary.\n",
        "\n",
        "6. Forward Pass: The `forward` method defines the forward pass of the BERT model. It takes input tokens (`bert_inputs`) and segment labels (`segment_labels`) and returns predictions for Next Sentence Prediction and Masked Language Modeling tasks.\n"
      ]
    },
    {
      "cell_type": "markdown",
      "metadata": {
        "id": "h3U-Vq5egnqU"
      },
      "source": [
        "Using an example input, let's break down the embedding into its three essential components: token embedding, positional encoding and segment embedding to comprehend the process:\n"
      ]
    },
    {
      "cell_type": "code",
      "execution_count": 10,
      "metadata": {
        "id": "NoP7UNX7gnqU"
      },
      "outputs": [],
      "source": [
        "VOCAB_SIZE=147161\n",
        "batch = 2\n",
        "count = 0\n",
        "device = torch.device(\"cuda\" if torch.cuda.is_available() else \"cpu\")\n",
        "# load sample batches from dataloader\n",
        "for batch in train_dataloader:\n",
        "    bert_inputs, bert_labels, segment_labels, is_nexts = [b.to(device) for b in batch]\n",
        "    count += 1\n",
        "    if count == 5:\n",
        "        break"
      ]
    },
    {
      "cell_type": "code",
      "execution_count": 11,
      "metadata": {
        "colab": {
          "base_uri": "https://localhost:8080/"
        },
        "id": "et8UEJlIgnqU",
        "outputId": "89c30d41-6bf1-4e65-fbf4-093e12d3fd02"
      },
      "outputs": [
        {
          "output_type": "execute_result",
          "data": {
            "text/plain": [
              "torch.Size([72, 2])"
            ]
          },
          "metadata": {},
          "execution_count": 11
        }
      ],
      "source": [
        "bert_inputs.shape"
      ]
    },
    {
      "cell_type": "code",
      "execution_count": 12,
      "metadata": {
        "colab": {
          "base_uri": "https://localhost:8080/"
        },
        "id": "J89c3H7lgnqU",
        "outputId": "aa1101c0-31c9-42a1-decc-15d91545b02e"
      },
      "outputs": [
        {
          "output_type": "execute_result",
          "data": {
            "text/plain": [
              "tensor([    1,    83,     7,    33,   166,    12,     3,     6,     2,     0,\n",
              "            0,     0,     0,     0,     0,     0,     0,     0,     0,     0,\n",
              "            0,     0,     0,     0,     0,     0,     0,     0,     0,     0,\n",
              "            0,     0,     0,     0,     0,     0,    16,   107,   334,    32,\n",
              "          271,    18,     9,   138,     3,     3,   791,     3,   117,  1127,\n",
              "           23, 38768,    12,    44,    12, 39033,    12,   107,   310,     9,\n",
              "           62,  8397,   185,     3,    21,    20,  2162,     3,     5,   279,\n",
              "            6,     2], device='cuda:0')"
            ]
          },
          "metadata": {},
          "execution_count": 12
        }
      ],
      "source": [
        "#pick a sample input\n",
        "bert_inputs[:,0]"
      ]
    },
    {
      "cell_type": "code",
      "execution_count": 13,
      "metadata": {
        "colab": {
          "base_uri": "https://localhost:8080/"
        },
        "id": "fK7xwVl7gnqV",
        "outputId": "a3c88d7a-54e8-4e9b-d3da-358d9de2af24",
        "scrolled": true
      },
      "outputs": [
        {
          "output_type": "execute_result",
          "data": {
            "text/plain": [
              "tensor([[    1,     1],\n",
              "        [   83,    63],\n",
              "        [    7,    24],\n",
              "        [   33,    55],\n",
              "        [  166,     9],\n",
              "        [   12, 33767],\n",
              "        [    3,    31],\n",
              "        [    6,   141],\n",
              "        [    2,    16],\n",
              "        [    0,   532],\n",
              "        [    0,    18],\n",
              "        [    0,     3],\n",
              "        [    0,     3],\n",
              "        [    0,   108],\n",
              "        [    0,    24],\n",
              "        [    0,    66],\n",
              "        [    0,   136],\n",
              "        [    0,    28],\n",
              "        [    0, 43746],\n",
              "        [    0,     6],\n",
              "        [    0,     2],\n",
              "        [    0,   548],\n",
              "        [    0,  1312],\n",
              "        [    0,    27],\n",
              "        [    0,    25],\n",
              "        [    0,    17],\n",
              "        [    0, 33767],\n",
              "        [    0,   174],\n",
              "        [    0,    24],\n",
              "        [    0,    66],\n",
              "        [    0,     3],\n",
              "        [    0,     6],\n",
              "        [    0,     2],\n",
              "        [    0,     0],\n",
              "        [    0,     0],\n",
              "        [    0,     0],\n",
              "        [   16,     0],\n",
              "        [  107,     0],\n",
              "        [  334,     0],\n",
              "        [   32,     0],\n",
              "        [  271,     0],\n",
              "        [   18,     0],\n",
              "        [    9,     0],\n",
              "        [  138,     0],\n",
              "        [    3,     0],\n",
              "        [    3,     0],\n",
              "        [  791,     0],\n",
              "        [    3,     0],\n",
              "        [  117,     0],\n",
              "        [ 1127,     0],\n",
              "        [   23,     0],\n",
              "        [38768,     0],\n",
              "        [   12,     0],\n",
              "        [   44,     0],\n",
              "        [   12,     0],\n",
              "        [39033,     0],\n",
              "        [   12,     0],\n",
              "        [  107,     0],\n",
              "        [  310,     0],\n",
              "        [    9,     0],\n",
              "        [   62,     0],\n",
              "        [ 8397,     0],\n",
              "        [  185,     0],\n",
              "        [    3,     0],\n",
              "        [   21,     0],\n",
              "        [   20,     0],\n",
              "        [ 2162,     0],\n",
              "        [    3,     0],\n",
              "        [    5,     0],\n",
              "        [  279,     0],\n",
              "        [    6,     0],\n",
              "        [    2,     0]], device='cuda:0')"
            ]
          },
          "metadata": {},
          "execution_count": 13
        }
      ],
      "source": [
        "bert_inputs"
      ]
    },
    {
      "cell_type": "code",
      "execution_count": 14,
      "metadata": {
        "colab": {
          "base_uri": "https://localhost:8080/"
        },
        "id": "dw7rBp9ignqV",
        "outputId": "3a6cc2b7-dc14-45b0-a676-d973812b69d7"
      },
      "outputs": [
        {
          "output_type": "execute_result",
          "data": {
            "text/plain": [
              "torch.Size([72, 2])"
            ]
          },
          "metadata": {},
          "execution_count": 14
        }
      ],
      "source": [
        "segment_labels.shape"
      ]
    },
    {
      "cell_type": "code",
      "execution_count": 15,
      "metadata": {
        "colab": {
          "base_uri": "https://localhost:8080/"
        },
        "id": "4lHdGC4pgnqV",
        "outputId": "8dce3316-7cf8-4d69-9711-8afada4b936e"
      },
      "outputs": [
        {
          "output_type": "execute_result",
          "data": {
            "text/plain": [
              "tensor([1, 1, 1, 1, 1, 1, 1, 1, 1, 0, 0, 0, 0, 0, 0, 0, 0, 0, 0, 0, 0, 0, 0, 0,\n",
              "        0, 0, 0, 0, 0, 0, 0, 0, 0, 0, 0, 0, 2, 2, 2, 2, 2, 2, 2, 2, 2, 2, 2, 2,\n",
              "        2, 2, 2, 2, 2, 2, 2, 2, 2, 2, 2, 2, 2, 2, 2, 2, 2, 2, 2, 2, 2, 2, 2, 2],\n",
              "       device='cuda:0')"
            ]
          },
          "metadata": {},
          "execution_count": 15
        }
      ],
      "source": [
        "segment_labels[:,0]"
      ]
    },
    {
      "cell_type": "code",
      "execution_count": 16,
      "metadata": {
        "colab": {
          "base_uri": "https://localhost:8080/"
        },
        "id": "rQkr0SjmgnqV",
        "outputId": "aab9dcd5-d495-42c1-fed3-1e1bcb37e813"
      },
      "outputs": [
        {
          "output_type": "execute_result",
          "data": {
            "text/plain": [
              "(147161, 10)"
            ]
          },
          "metadata": {},
          "execution_count": 16
        }
      ],
      "source": [
        "VOCAB_SIZE, EMBEDDING_DIM"
      ]
    },
    {
      "cell_type": "code",
      "execution_count": 17,
      "metadata": {
        "colab": {
          "base_uri": "https://localhost:8080/"
        },
        "id": "BeJ1mnt6gnqV",
        "outputId": "8d38ae5e-58e1-4d00-8112-9a72988974ba"
      },
      "outputs": [
        {
          "output_type": "stream",
          "name": "stdout",
          "text": [
            "Dimensions of token embeddings: torch.Size([72, 2, 10])\n",
            "Token Embeddings for the 0th token of the first sample: tensor([ 5.3170, -1.5197, -2.4954, -1.9284, -1.2573,  0.0882,  1.8790, -7.4427,\n",
            "        -2.1110,  0.7432], device='cuda:0', grad_fn=<SliceBackward0>)\n",
            "Token Embeddings for the 1th token of the first sample: tensor([ 5.1895, -0.6704, -0.5665,  2.5322,  1.2714,  2.4628, -0.4591, -2.7660,\n",
            "        -0.2261, -2.2584], device='cuda:0', grad_fn=<SliceBackward0>)\n",
            "Token Embeddings for the 2th token of the first sample: tensor([-3.4277, -1.7421, -0.9451,  1.6653,  2.3682,  6.4822,  1.5040, -0.7190,\n",
            "         3.0965, -0.6151], device='cuda:0', grad_fn=<SliceBackward0>)\n"
          ]
        }
      ],
      "source": [
        "# Instantiate the TokenEmbedding\n",
        "token_embedding = TokenEmbedding(VOCAB_SIZE, emb_size=EMBEDDING_DIM ).to(device)\n",
        "\n",
        "# Get the token embeddings for a sample input\n",
        "t_embeddings = token_embedding(bert_inputs)\n",
        "#Each token is transformed into a tensor of size emb_size\n",
        "print(f\"Dimensions of token embeddings: {t_embeddings.size()}\") # Expected: (sequence_length, batch_size, EMBEDDING_DIM)\n",
        "#Check the embedded vectors for first 3 tokens of the first sample in the batch\n",
        "# you get embeddings[i,0,:] where i refers to the i'th token of the first sample in the batch (b=0)\n",
        "for i in range(3):\n",
        "    print(f\"Token Embeddings for the {i}th token of the first sample: {t_embeddings[i,0,:]}\")"
      ]
    },
    {
      "cell_type": "code",
      "execution_count": 18,
      "metadata": {
        "colab": {
          "base_uri": "https://localhost:8080/"
        },
        "id": "z_zOLN63gnqV",
        "outputId": "40198927-20c5-4e87-f425-6887e28c827e"
      },
      "outputs": [
        {
          "output_type": "stream",
          "name": "stdout",
          "text": [
            "Dimensions of positionally encoded tokens: torch.Size([72, 2, 10])\n",
            "Positional Embeddings for the 0th token of the first sample: tensor([ 5.3170, -0.5197, -2.4954, -0.9284, -1.2573,  1.0882,  1.8790, -6.4427,\n",
            "        -2.1110,  1.7432], device='cuda:0', grad_fn=<SliceBackward0>)\n",
            "Positional Embeddings for the 1th token of the first sample: tensor([ 6.0310, -0.1301, -0.4086,  3.5197,  1.2965,  3.4624, -0.4551, -1.7660,\n",
            "        -0.2254, -1.2584], device='cuda:0', grad_fn=<SliceBackward0>)\n",
            "Positional Embeddings for the 2th token of the first sample: tensor([-2.5184, -2.1583, -0.6334,  2.6155,  2.4185,  7.4809,  1.5120,  0.2810,\n",
            "         3.0978,  0.3849], device='cuda:0', grad_fn=<SliceBackward0>)\n"
          ]
        }
      ],
      "source": [
        "positional_encoding = PositionalEncoding(emb_size=EMBEDDING_DIM,dropout=0).to(device)\n",
        "\n",
        "# Apply positional encoding to token embeddings\n",
        "p_embedding = positional_encoding(t_embeddings)\n",
        "\n",
        "print(f\"Dimensions of positionally encoded tokens: {p_embedding.size()}\")# Expected: (sequence_length, batch_size, EMBEDDING_DIM)\n",
        "#Check the positional encoded vectors for first 3 tokens of the first sample in the batch\n",
        "# you get encoded_tokens[i,0,:] where i refers to the i'th token of the first sample(b=0) in the batch\n",
        "for i in range(3):\n",
        "    print(f\"Positional Embeddings for the {i}th token of the first sample: {p_embedding[i,0,:]}\")"
      ]
    },
    {
      "cell_type": "code",
      "execution_count": 19,
      "metadata": {
        "colab": {
          "base_uri": "https://localhost:8080/"
        },
        "id": "MEpABfRngnqV",
        "outputId": "72653543-e872-4299-9f6a-ef1d8b55f63a"
      },
      "outputs": [
        {
          "output_type": "stream",
          "name": "stdout",
          "text": [
            "Dimensions of segment embedding: torch.Size([72, 2, 10])\n",
            "Segment Embeddings for the 0th token of the first sample: tensor([ 0.2892,  0.7540,  0.5089, -1.5904, -0.5392,  0.5304, -0.1265,  0.2803,\n",
            "         0.5679, -0.8713], device='cuda:0', grad_fn=<SliceBackward0>)\n",
            "Segment Embeddings for the 1th token of the first sample: tensor([ 0.2892,  0.7540,  0.5089, -1.5904, -0.5392,  0.5304, -0.1265,  0.2803,\n",
            "         0.5679, -0.8713], device='cuda:0', grad_fn=<SliceBackward0>)\n",
            "Segment Embeddings for the 2th token of the first sample: tensor([ 0.2892,  0.7540,  0.5089, -1.5904, -0.5392,  0.5304, -0.1265,  0.2803,\n",
            "         0.5679, -0.8713], device='cuda:0', grad_fn=<SliceBackward0>)\n"
          ]
        }
      ],
      "source": [
        "segment_embedding = nn.Embedding(3, EMBEDDING_DIM).to(device)\n",
        "s_embedding = segment_embedding(segment_labels)\n",
        "print(f\"Dimensions of segment embedding: {s_embedding.size()}\")# Expected: (sequence_length, batch_size, EMBEDDING_DIM)\n",
        "#Check the Segment Embedding vectors for first 3 tokens of the first sample in the batch\n",
        "# you get segment_embedded[i,0,:] where i refers to the i'th token of the first sample(b=0) in the batch\n",
        "for i in range(3):\n",
        "    print(f\"Segment Embeddings for the {i}th token of the first sample: {s_embedding[i,0,:]}\")"
      ]
    },
    {
      "cell_type": "code",
      "execution_count": 20,
      "metadata": {
        "colab": {
          "base_uri": "https://localhost:8080/"
        },
        "id": "6B7FZrDVgnqi",
        "outputId": "70ed6914-e6f0-4df7-c1d6-1902377c4284"
      },
      "outputs": [
        {
          "output_type": "stream",
          "name": "stdout",
          "text": [
            "Dimensions of token + position + segment encoded tokens: torch.Size([72, 2, 10])\n",
            "BERT_Embedding for 0th token: tensor([ 10.9231,  -1.2855,  -4.4819,  -4.4473,  -3.0537,   1.7068,   3.6315,\n",
            "        -13.6052,  -3.6542,   1.6151], device='cuda:0',\n",
            "       grad_fn=<SliceBackward0>)\n",
            "BERT_Embedding for 1th token: tensor([11.5096, -0.0465, -0.4662,  4.4614,  2.0287,  6.4556, -1.0406, -4.2517,\n",
            "         0.1164, -4.3882], device='cuda:0', grad_fn=<SliceBackward0>)\n",
            "BERT_Embedding for 2th token: tensor([-5.6569, -3.1464, -1.0696,  2.6903,  4.2475, 14.4936,  2.8895, -0.1577,\n",
            "         6.7622, -1.1014], device='cuda:0', grad_fn=<SliceBackward0>)\n"
          ]
        }
      ],
      "source": [
        "#Create the combined embedding vectors\n",
        "bert_embeddings = t_embeddings + p_embedding + s_embedding\n",
        "print(f\"Dimensions of token + position + segment encoded tokens: {bert_embeddings.size()}\")\n",
        "#Check the BERT Embedding vectors for first 3 tokens of the first sample in the batch\n",
        "# you get bert_embeddings[i,0,:] where i refers to the i'th token of the first sample(b=0) in the batch\n",
        "for i in range(3):\n",
        "    print(f\"BERT_Embedding for {i}th token: {bert_embeddings[i,0,:]}\")"
      ]
    },
    {
      "cell_type": "code",
      "execution_count": 21,
      "metadata": {
        "id": "NHTvgi-ggnqj"
      },
      "outputs": [],
      "source": [
        "class BERT(torch.nn.Module):\n",
        "\n",
        "    def __init__(self, vocab_size, d_model=768, n_layers=12, heads=12, dropout=0.1):\n",
        "        \"\"\"\n",
        "        vocab_size: The size of the vocabulary.\n",
        "        d_model: The size of the embeddings (hidden size).\n",
        "        n_layers: The number of Transformer layers.\n",
        "        heads: The number of attention heads in each Transformer layer.\n",
        "        dropout: The dropout rate applied to embeddings and Transformer layers.\n",
        "        \"\"\"\n",
        "        super().__init__()\n",
        "        self.d_model = d_model\n",
        "        self.n_layers = n_layers\n",
        "        self.heads = heads\n",
        "\n",
        "        # Embedding layer that combines token embeddings and segment embeddings\n",
        "        self.bert_embedding = BERTEmbedding(vocab_size, d_model, dropout)\n",
        "\n",
        "        # Transformer Encoder layers\n",
        "        self.encoder_layer = nn.TransformerEncoderLayer(d_model=d_model, nhead=heads, dropout=dropout,batch_first=False)\n",
        "        self.transformer_encoder = nn.TransformerEncoder(self.encoder_layer, num_layers=n_layers)\n",
        "\n",
        "        # Linear layer for Next Sentence Prediction\n",
        "        self.nextsentenceprediction = nn.Linear(d_model, 2)\n",
        "\n",
        "        # Linear layer for Masked Language Modeling\n",
        "        self.masked_language = nn.Linear(d_model, vocab_size)\n",
        "\n",
        "    def forward(self, bert_inputs, segment_labels):\n",
        "        \"\"\"\n",
        "        bert_inputs: Input tokens.\n",
        "        segment_labels: Segment IDs for distinguishing different segments in the input.\n",
        "        mask: Attention mask to prevent attention to padding tokens.\n",
        "\n",
        "        return: Predictions for next sentence task and masked language modeling task.\n",
        "        \"\"\"\n",
        "\n",
        "        padding_mask = (bert_inputs == PAD_IDX).transpose(0, 1)\n",
        "        # Generate embeddings from input tokens and segment labels\n",
        "        my_bert_embedding = self.bert_embedding(bert_inputs, segment_labels)\n",
        "\n",
        "        # Pass embeddings through the Transformer encoder\n",
        "        transformer_encoder_output = self.transformer_encoder(my_bert_embedding,src_key_padding_mask=padding_mask)\n",
        "\n",
        "\n",
        "        next_sentence_prediction = self.nextsentenceprediction(transformer_encoder_output[ 0,:])\n",
        "\n",
        "\n",
        "        # Masked Language Modeling: Predict all tokens in the sequence\n",
        "        masked_language = self.masked_language(transformer_encoder_output)\n",
        "\n",
        "        return  next_sentence_prediction, masked_language"
      ]
    },
    {
      "cell_type": "markdown",
      "metadata": {
        "id": "gUegTS9pgnqj"
      },
      "source": [
        "Let's create an instance of the model:\n"
      ]
    },
    {
      "cell_type": "code",
      "execution_count": 22,
      "metadata": {
        "colab": {
          "base_uri": "https://localhost:8080/"
        },
        "id": "iydqTvw4gnqj",
        "outputId": "4d7d0cb5-4f2e-431f-d09e-371e3bbb8eab"
      },
      "outputs": [
        {
          "output_type": "stream",
          "name": "stdout",
          "text": [
            "2\n"
          ]
        }
      ],
      "source": [
        "EMBEDDING_DIM = 10\n",
        "\n",
        "# Define parameters\n",
        "vocab_size = 147161  # Replace VOCAB_SIZE with your vocabulary size\n",
        "d_model = EMBEDDING_DIM  # Replace EMBEDDING_DIM with your embedding dimension\n",
        "n_layers = 2  # Number of Transformer layers\n",
        "initial_heads = 12 # Initial number of attention heads\n",
        "initial_heads = 2\n",
        "# Ensure the number of heads is a factor of the embedding dimension\n",
        "heads = initial_heads - d_model % initial_heads\n",
        "print(heads)\n",
        "dropout = 0.1  # Dropout rate\n",
        "\n",
        "# Create an instance of the BERT model\n",
        "model = BERT(vocab_size, d_model, n_layers, heads, dropout)"
      ]
    },
    {
      "cell_type": "code",
      "execution_count": 23,
      "metadata": {
        "colab": {
          "base_uri": "https://localhost:8080/"
        },
        "id": "GQJOn1gsgnqj",
        "outputId": "c81af1e7-20f9-40f6-d902-9fe454c01b82"
      },
      "outputs": [
        {
          "output_type": "execute_result",
          "data": {
            "text/plain": [
              "torch.Size([2, 72])"
            ]
          },
          "metadata": {},
          "execution_count": 23
        }
      ],
      "source": [
        "padding_mask = (bert_inputs == PAD_IDX).transpose(0, 1)\n",
        "padding_mask.shape"
      ]
    },
    {
      "cell_type": "code",
      "execution_count": 24,
      "metadata": {
        "colab": {
          "base_uri": "https://localhost:8080/"
        },
        "id": "w69mZYl0gnqj",
        "outputId": "e98d0dea-6267-4a3e-e5db-43689055d064"
      },
      "outputs": [
        {
          "output_type": "execute_result",
          "data": {
            "text/plain": [
              "torch.Size([72, 2, 10])"
            ]
          },
          "metadata": {},
          "execution_count": 24
        }
      ],
      "source": [
        "bert_embeddings.shape"
      ]
    },
    {
      "cell_type": "code",
      "execution_count": 25,
      "metadata": {
        "colab": {
          "base_uri": "https://localhost:8080/"
        },
        "id": "9u-hwv9ugnqj",
        "outputId": "7fa644bf-aee3-4789-bc71-3df058340180"
      },
      "outputs": [
        {
          "output_type": "execute_result",
          "data": {
            "text/plain": [
              "torch.Size([72, 2, 10])"
            ]
          },
          "metadata": {},
          "execution_count": 25
        }
      ],
      "source": [
        "encoder_layer = nn.TransformerEncoderLayer(d_model=d_model, nhead=heads, dropout=dropout,batch_first=False)\n",
        "transformer_encoder = nn.TransformerEncoder(encoder_layer, num_layers=n_layers).to(device)\n",
        "# Pass embeddings through the Transformer encoder\n",
        "transformer_encoder_output = transformer_encoder(bert_embeddings,src_key_padding_mask=padding_mask.to(device))\n",
        "transformer_encoder_output.shape"
      ]
    },
    {
      "cell_type": "code",
      "execution_count": 26,
      "metadata": {
        "colab": {
          "base_uri": "https://localhost:8080/"
        },
        "id": "Hc_ZHtHjgnqj",
        "outputId": "050203ba-a3e1-41c3-b967-c5b42adce560"
      },
      "outputs": [
        {
          "output_type": "stream",
          "name": "stdout",
          "text": [
            "NSP Output Shape: torch.Size([2, 2])\n"
          ]
        }
      ],
      "source": [
        "nextsentenceprediction = nn.Linear(d_model, 2).to(device)\n",
        "nsp = nextsentenceprediction(transformer_encoder_output[ 0,:])\n",
        "#logits for NSP task\n",
        "print(f\"NSP Output Shape: {nsp.shape}\")  # Expected shape: (batch_size, 2)"
      ]
    },
    {
      "cell_type": "code",
      "execution_count": 27,
      "metadata": {
        "colab": {
          "base_uri": "https://localhost:8080/"
        },
        "id": "zO9uZl8Agnqj",
        "outputId": "dcb13b64-eb1e-4dd7-ad81-77b36fb1b2a4"
      },
      "outputs": [
        {
          "output_type": "stream",
          "name": "stdout",
          "text": [
            "MLM Output Shape: torch.Size([72, 2, 147161])\n"
          ]
        }
      ],
      "source": [
        "masked_language = nn.Linear(d_model, vocab_size).to(device)\n",
        "# Masked Language Modeling: Predict all tokens in the sequence\n",
        "mlm = masked_language(transformer_encoder_output)\n",
        "#logits for MLM task\n",
        "print(f\"MLM Output Shape: {mlm.shape}\")  # Expected shape: (seq_length, batch_size, vocab_size)"
      ]
    },
    {
      "cell_type": "markdown",
      "metadata": {
        "id": "A5aBbzvLgnqj"
      },
      "source": [
        "## Evaluation\n",
        "\n",
        "After creating the BERT model, the next step is training and evaluating its performance. To facilitate this, an `evaluate` function is defined with the following steps:\n",
        "\n",
        "1. Loss Function: The CrossEntropyLoss function is defined to calculate the loss between predicted and actual values.\n",
        "\n",
        "2. Function Arguments: The function takes arguments including the dataloader, model, loss function, and device.\n",
        "\n",
        "3. Evaluation Mode: The BERT model is put into evaluation mode using `model.eval()`, disabling dropout and training-specific behaviors. Variables are initialized to track the total loss, total next sentence loss, total mask loss, and total number of batches.\n",
        "\n",
        "4. Evaluation Loop: The function iterates through the batches in the provided dataloader.\n",
        "\n",
        "5. Forward Pass: A forward pass is performed with the BERT model to obtain predictions for the next sentence and masked language tasks.\n",
        "\n",
        "6. Loss Calculation: The losses for the next sentence and masked language tasks are calculated, and then summed up to obtain the total loss for the batch.\n",
        "\n",
        "7. Average Loss Calculation: The average loss, average next sentence loss, and average mask loss are calculated by dividing the total losses by the total number of batches.\n",
        "\n",
        "\n",
        "The `evaluate` function is used not only for evaluating the BERT model's performance but also during the training phase to assess the model's progress.\n"
      ]
    },
    {
      "cell_type": "code",
      "execution_count": 28,
      "metadata": {
        "id": "eRXbQNbNgnqj"
      },
      "outputs": [],
      "source": [
        "PAD_IDX=0\n",
        "loss_fn_mlm = nn.CrossEntropyLoss(ignore_index=PAD_IDX)# The loss function must ignore PAD tokens and only calculates loss for the masked tokens\n",
        "loss_fn_nsp = nn.CrossEntropyLoss()"
      ]
    },
    {
      "cell_type": "code",
      "execution_count": 29,
      "metadata": {
        "colab": {
          "base_uri": "https://localhost:8080/"
        },
        "id": "5GQJfA0Kgnqj",
        "outputId": "25399447-0bb6-45b9-8131-4186c2162875"
      },
      "outputs": [
        {
          "output_type": "execute_result",
          "data": {
            "text/plain": [
              "device(type='cuda')"
            ]
          },
          "metadata": {},
          "execution_count": 29
        }
      ],
      "source": [
        "device = torch.device(\"cuda\" if torch.cuda.is_available() else \"cpu\")\n",
        "model.to(device)\n",
        "device"
      ]
    },
    {
      "cell_type": "code",
      "execution_count": 30,
      "metadata": {
        "id": "iIVm7Bu7gnqj"
      },
      "outputs": [],
      "source": [
        "def evaluate(dataloader=test_dataloader, model=model, loss_fn_mlm=loss_fn_mlm, loss_fn_nsp=loss_fn_nsp, device=device):\n",
        "    model.eval()  # Turn off dropout and other training-specific behaviors\n",
        "\n",
        "    total_loss = 0\n",
        "    total_next_sentence_loss = 0\n",
        "    total_mask_loss = 0\n",
        "    total_batches = 0\n",
        "    with torch.no_grad():  # Turn off gradients for validation, saves memory and computations\n",
        "        for batch in dataloader:\n",
        "            bert_inputs, bert_labels, segment_labels, is_nexts = [b.to(device) for b in batch]\n",
        "\n",
        "            # Forward pass\n",
        "            next_sentence_prediction, masked_language = model(bert_inputs, segment_labels)\n",
        "\n",
        "            # Calculate loss for next sentence prediction\n",
        "            # Ensure is_nexts is of the correct shape for CrossEntropyLoss\n",
        "            next_loss = loss_fn_nsp(next_sentence_prediction, is_nexts.view(-1))\n",
        "\n",
        "            # Calculate loss for predicting masked tokens\n",
        "            # Flatten both masked_language predictions and bert_labels to match CrossEntropyLoss input requirements\n",
        "            mask_loss = loss_fn_mlm(masked_language.view(-1, masked_language.size(-1)), bert_labels.view(-1))\n",
        "\n",
        "            # Sum up the two losses\n",
        "            loss = next_loss + mask_loss\n",
        "            if torch.isnan(loss):\n",
        "                continue\n",
        "            else:\n",
        "                total_loss += loss.item()\n",
        "                total_next_sentence_loss += next_loss.item()\n",
        "                total_mask_loss += mask_loss.item()\n",
        "                total_batches += 1\n",
        "\n",
        "    avg_loss = total_loss / (total_batches + 1)\n",
        "    avg_next_sentence_loss = total_next_sentence_loss / (total_batches + 1)\n",
        "    avg_mask_loss = total_mask_loss / (total_batches + 1)\n",
        "\n",
        "    print(f\"Average Loss: {avg_loss:.4f}, Average Next Sentence Loss: {avg_next_sentence_loss:.4f}, Average Mask Loss: {avg_mask_loss:.4f}\")\n",
        "    return avg_loss"
      ]
    },
    {
      "cell_type": "markdown",
      "metadata": {
        "id": "ALIu0fOYgnqk"
      },
      "source": [
        "## Training\n",
        "The training process for the BERT model involves the following steps:\n",
        "\n",
        "1. Optimizer Definition: Before training starts, an optimizer is defined for training the BERT model. In this case, the Adam optimizer is used.\n",
        "\n",
        "2. Training Loop: Within each epoch, the training data is iterated through in batches.\n",
        "\n",
        "3. Forward Pass: For each batch, a forward pass is performed, where the BERT model predicts the next sentence and masked language tasks.\n",
        "\n",
        "4. Loss Calculation and Parameter Update: The loss is calculated based on the predicted and actual values. The model's parameters are then updated through backpropagation and gradient clipping.\n",
        "\n",
        "5. Epoch Evaluation: After each epoch, the average training loss is printed. The model's performance on the test set is evaluated. Additionally, the model is saved after each epoch.\n",
        "\n",
        "These steps are repeated for multiple epochs to train the BERT model and monitor its progress over time.\n",
        "\n",
        "**NOTE: The current DataLoader is quite huge, and it will take several hours for the model to train with such a huge dataset. Hence, below is the randomly sampled dataset (which is relatively small which still takes 1-2 hours to run) from IMDB to make the process faster. If you want to train the model on the entire dataset, skip the next cell and directly run the training cell.**\n"
      ]
    },
    {
      "cell_type": "code",
      "execution_count": 31,
      "metadata": {
        "id": "NVtrZ5Lugnqk"
      },
      "outputs": [],
      "source": [
        "BATCH_SIZE = 3\n",
        "\n",
        "train_dataset_path = './bert_dataset/bert_train_data_sampled.csv'\n",
        "test_dataset_path = './bert_dataset/bert_test_data_sampled.csv'\n",
        "\n",
        "train_dataset = BERTCSVDataset(train_dataset_path)\n",
        "test_dataset = BERTCSVDataset(test_dataset_path)\n",
        "\n",
        "train_dataloader = DataLoader(train_dataset, batch_size=BATCH_SIZE, shuffle=True, collate_fn=collate_batch)\n",
        "test_dataloader = DataLoader(test_dataset, batch_size=BATCH_SIZE, shuffle=False, collate_fn=collate_batch)"
      ]
    },
    {
      "cell_type": "code",
      "execution_count": 32,
      "metadata": {
        "colab": {
          "base_uri": "https://localhost:8080/"
        },
        "id": "TwDuSAJYgnqk",
        "outputId": "c35b1a2a-5415-496b-c9bd-fe25c0d85a88"
      },
      "outputs": [
        {
          "output_type": "stream",
          "name": "stderr",
          "text": [
            "Training Epochs:   0%|          | 0/1 [00:00<?, ?it/s]\n",
            "Epoch 1:   0%|          | 0/3334 [00:00<?, ?it/s]\u001b[A\n",
            "Epoch 1:   0%|          | 1/3334 [00:00<07:18,  7.60it/s]\u001b[A\n",
            "Epoch 1:   0%|          | 5/3334 [00:00<02:38, 21.00it/s]\u001b[A\n",
            "Epoch 1:   0%|          | 8/3334 [00:00<02:18, 24.01it/s]\u001b[A\n",
            "Epoch 1:   0%|          | 12/3334 [00:00<01:56, 28.46it/s]\u001b[A\n",
            "Epoch 1:   0%|          | 16/3334 [00:00<01:55, 28.73it/s]\u001b[A\n",
            "Epoch 1:   1%|          | 20/3334 [00:00<01:52, 29.48it/s]\u001b[A\n",
            "Epoch 1:   1%|          | 24/3334 [00:00<01:51, 29.81it/s]\u001b[A\n",
            "Epoch 1:   1%|          | 28/3334 [00:00<01:47, 30.88it/s]\u001b[A\n",
            "Epoch 1:   1%|          | 32/3334 [00:01<01:50, 29.77it/s]\u001b[A\n",
            "Epoch 1:   1%|          | 36/3334 [00:01<01:48, 30.40it/s]\u001b[A\n",
            "Epoch 1:   1%|          | 40/3334 [00:01<01:46, 30.96it/s]\u001b[A\n",
            "Epoch 1:   1%|▏         | 44/3334 [00:01<01:41, 32.31it/s]\u001b[A\n",
            "Epoch 1:   1%|▏         | 48/3334 [00:01<01:36, 34.16it/s]\u001b[A\n",
            "Epoch 1:   2%|▏         | 52/3334 [00:01<01:59, 27.42it/s]\u001b[A\n",
            "Epoch 1:   2%|▏         | 55/3334 [00:01<02:01, 26.94it/s]\u001b[A\n",
            "Epoch 1:   2%|▏         | 58/3334 [00:02<02:07, 25.70it/s]\u001b[A\n",
            "Epoch 1:   2%|▏         | 61/3334 [00:02<02:14, 24.39it/s]\u001b[A\n",
            "Epoch 1:   2%|▏         | 64/3334 [00:02<02:30, 21.80it/s]\u001b[A\n",
            "Epoch 1:   2%|▏         | 67/3334 [00:02<02:35, 21.06it/s]\u001b[A\n",
            "Epoch 1:   2%|▏         | 70/3334 [00:02<02:31, 21.61it/s]\u001b[A\n",
            "Epoch 1:   2%|▏         | 73/3334 [00:02<02:23, 22.67it/s]\u001b[A\n",
            "Epoch 1:   2%|▏         | 76/3334 [00:02<02:26, 22.22it/s]\u001b[A\n",
            "Epoch 1:   2%|▏         | 79/3334 [00:03<02:24, 22.59it/s]\u001b[A\n",
            "Epoch 1:   2%|▏         | 82/3334 [00:03<02:25, 22.34it/s]\u001b[A\n",
            "Epoch 1:   3%|▎         | 85/3334 [00:03<02:29, 21.79it/s]\u001b[A\n",
            "Epoch 1:   3%|▎         | 88/3334 [00:03<02:31, 21.48it/s]\u001b[A\n",
            "Epoch 1:   3%|▎         | 91/3334 [00:03<02:28, 21.81it/s]\u001b[A\n",
            "Epoch 1:   3%|▎         | 94/3334 [00:03<02:21, 22.88it/s]\u001b[A\n",
            "Epoch 1:   3%|▎         | 97/3334 [00:03<02:37, 20.58it/s]\u001b[A\n",
            "Epoch 1:   3%|▎         | 100/3334 [00:04<02:37, 20.50it/s]\u001b[A\n",
            "Epoch 1:   3%|▎         | 103/3334 [00:04<02:37, 20.57it/s]\u001b[A\n",
            "Epoch 1:   3%|▎         | 106/3334 [00:04<02:42, 19.91it/s]\u001b[A\n",
            "Epoch 1:   3%|▎         | 110/3334 [00:04<02:13, 24.20it/s]\u001b[A\n",
            "Epoch 1:   3%|▎         | 114/3334 [00:04<01:57, 27.49it/s]\u001b[A\n",
            "Epoch 1:   4%|▎         | 118/3334 [00:04<01:54, 28.11it/s]\u001b[A\n",
            "Epoch 1:   4%|▎         | 122/3334 [00:04<01:49, 29.46it/s]\u001b[A\n",
            "Epoch 1:   4%|▍         | 126/3334 [00:04<01:46, 30.22it/s]\u001b[A\n",
            "Epoch 1:   4%|▍         | 130/3334 [00:05<01:44, 30.73it/s]\u001b[A\n",
            "Epoch 1:   4%|▍         | 134/3334 [00:05<01:40, 31.71it/s]\u001b[A\n",
            "Epoch 1:   4%|▍         | 138/3334 [00:05<01:40, 31.83it/s]\u001b[A\n",
            "Epoch 1:   4%|▍         | 142/3334 [00:05<01:34, 33.86it/s]\u001b[A\n",
            "Epoch 1:   4%|▍         | 146/3334 [00:05<01:40, 31.84it/s]\u001b[A\n",
            "Epoch 1:   4%|▍         | 150/3334 [00:05<01:35, 33.30it/s]\u001b[A\n",
            "Epoch 1:   5%|▍         | 154/3334 [00:05<01:34, 33.59it/s]\u001b[A\n",
            "Epoch 1:   5%|▍         | 158/3334 [00:05<01:33, 34.11it/s]\u001b[A\n",
            "Epoch 1:   5%|▍         | 162/3334 [00:06<01:30, 35.01it/s]\u001b[A\n",
            "Epoch 1:   5%|▍         | 166/3334 [00:06<01:35, 33.18it/s]\u001b[A\n",
            "Epoch 1:   5%|▌         | 170/3334 [00:06<01:36, 32.64it/s]\u001b[A\n",
            "Epoch 1:   5%|▌         | 174/3334 [00:06<01:45, 29.83it/s]\u001b[A\n",
            "Epoch 1:   5%|▌         | 178/3334 [00:06<01:40, 31.36it/s]\u001b[A\n",
            "Epoch 1:   5%|▌         | 182/3334 [00:06<01:37, 32.18it/s]\u001b[A\n",
            "Epoch 1:   6%|▌         | 186/3334 [00:06<01:33, 33.54it/s]\u001b[A\n",
            "Epoch 1:   6%|▌         | 190/3334 [00:06<01:29, 35.12it/s]\u001b[A\n",
            "Epoch 1:   6%|▌         | 194/3334 [00:07<01:33, 33.73it/s]\u001b[A\n",
            "Epoch 1:   6%|▌         | 198/3334 [00:07<01:30, 34.58it/s]\u001b[A\n",
            "Epoch 1:   6%|▌         | 202/3334 [00:07<01:32, 33.88it/s]\u001b[A\n",
            "Epoch 1:   6%|▌         | 206/3334 [00:07<01:30, 34.41it/s]\u001b[A\n",
            "Epoch 1:   6%|▋         | 210/3334 [00:07<01:33, 33.43it/s]\u001b[A\n",
            "Epoch 1:   6%|▋         | 214/3334 [00:07<01:37, 31.94it/s]\u001b[A\n",
            "Epoch 1:   7%|▋         | 219/3334 [00:07<01:31, 34.17it/s]\u001b[A\n",
            "Epoch 1:   7%|▋         | 223/3334 [00:07<01:36, 32.32it/s]\u001b[A\n",
            "Epoch 1:   7%|▋         | 227/3334 [00:07<01:33, 33.15it/s]\u001b[A\n",
            "Epoch 1:   7%|▋         | 232/3334 [00:08<01:28, 35.20it/s]\u001b[A\n",
            "Epoch 1:   7%|▋         | 236/3334 [00:08<01:26, 36.01it/s]\u001b[A\n",
            "Epoch 1:   7%|▋         | 240/3334 [00:08<01:23, 36.97it/s]\u001b[A\n",
            "Epoch 1:   7%|▋         | 244/3334 [00:08<01:24, 36.67it/s]\u001b[A\n",
            "Epoch 1:   7%|▋         | 248/3334 [00:08<01:30, 33.94it/s]\u001b[A\n",
            "Epoch 1:   8%|▊         | 252/3334 [00:08<01:37, 31.46it/s]\u001b[A\n",
            "Epoch 1:   8%|▊         | 256/3334 [00:08<01:33, 32.80it/s]\u001b[A\n",
            "Epoch 1:   8%|▊         | 260/3334 [00:08<01:38, 31.26it/s]\u001b[A\n",
            "Epoch 1:   8%|▊         | 264/3334 [00:09<01:35, 32.18it/s]\u001b[A\n",
            "Epoch 1:   8%|▊         | 268/3334 [00:09<01:35, 32.09it/s]\u001b[A\n",
            "Epoch 1:   8%|▊         | 272/3334 [00:09<01:42, 29.76it/s]\u001b[A\n",
            "Epoch 1:   8%|▊         | 276/3334 [00:09<01:38, 31.13it/s]\u001b[A\n",
            "Epoch 1:   8%|▊         | 281/3334 [00:09<01:31, 33.36it/s]\u001b[A\n",
            "Epoch 1:   9%|▊         | 285/3334 [00:09<01:28, 34.60it/s]\u001b[A\n",
            "Epoch 1:   9%|▊         | 289/3334 [00:09<01:28, 34.50it/s]\u001b[A\n",
            "Epoch 1:   9%|▉         | 293/3334 [00:09<01:25, 35.39it/s]\u001b[A\n",
            "Epoch 1:   9%|▉         | 297/3334 [00:10<01:29, 33.86it/s]\u001b[A\n",
            "Epoch 1:   9%|▉         | 301/3334 [00:10<01:32, 32.95it/s]\u001b[A\n",
            "Epoch 1:   9%|▉         | 305/3334 [00:10<01:28, 34.12it/s]\u001b[A\n",
            "Epoch 1:   9%|▉         | 309/3334 [00:10<01:33, 32.31it/s]\u001b[A\n",
            "Epoch 1:   9%|▉         | 313/3334 [00:10<01:30, 33.33it/s]\u001b[A\n",
            "Epoch 1:  10%|▉         | 318/3334 [00:10<01:26, 34.89it/s]\u001b[A\n",
            "Epoch 1:  10%|▉         | 322/3334 [00:10<01:24, 35.80it/s]\u001b[A\n",
            "Epoch 1:  10%|▉         | 326/3334 [00:10<01:22, 36.43it/s]\u001b[A\n",
            "Epoch 1:  10%|▉         | 330/3334 [00:11<01:25, 35.07it/s]\u001b[A\n",
            "Epoch 1:  10%|█         | 334/3334 [00:11<01:22, 36.18it/s]\u001b[A\n",
            "Epoch 1:  10%|█         | 338/3334 [00:11<01:30, 33.13it/s]\u001b[A\n",
            "Epoch 1:  10%|█         | 342/3334 [00:11<01:30, 32.96it/s]\u001b[A\n",
            "Epoch 1:  10%|█         | 346/3334 [00:11<01:33, 31.98it/s]\u001b[A\n",
            "Epoch 1:  10%|█         | 350/3334 [00:11<01:30, 32.94it/s]\u001b[A\n",
            "Epoch 1:  11%|█         | 354/3334 [00:11<01:33, 32.03it/s]\u001b[A\n",
            "Epoch 1:  11%|█         | 358/3334 [00:11<01:31, 32.65it/s]\u001b[A\n",
            "Epoch 1:  11%|█         | 362/3334 [00:12<01:28, 33.49it/s]\u001b[A\n",
            "Epoch 1:  11%|█         | 366/3334 [00:12<01:25, 34.80it/s]\u001b[A\n",
            "Epoch 1:  11%|█         | 370/3334 [00:12<01:25, 34.53it/s]\u001b[A\n",
            "Epoch 1:  11%|█         | 374/3334 [00:12<01:25, 34.59it/s]\u001b[A\n",
            "Epoch 1:  11%|█▏        | 378/3334 [00:12<01:28, 33.46it/s]\u001b[A\n",
            "Epoch 1:  11%|█▏        | 382/3334 [00:12<01:24, 34.86it/s]\u001b[A\n",
            "Epoch 1:  12%|█▏        | 386/3334 [00:12<01:33, 31.50it/s]\u001b[A\n",
            "Epoch 1:  12%|█▏        | 390/3334 [00:12<01:36, 30.41it/s]\u001b[A\n",
            "Epoch 1:  12%|█▏        | 394/3334 [00:13<01:35, 30.79it/s]\u001b[A\n",
            "Epoch 1:  12%|█▏        | 398/3334 [00:13<01:32, 31.78it/s]\u001b[A\n",
            "Epoch 1:  12%|█▏        | 402/3334 [00:13<01:35, 30.71it/s]\u001b[A\n",
            "Epoch 1:  12%|█▏        | 406/3334 [00:13<01:32, 31.53it/s]\u001b[A\n",
            "Epoch 1:  12%|█▏        | 411/3334 [00:13<01:27, 33.47it/s]\u001b[A\n",
            "Epoch 1:  12%|█▏        | 415/3334 [00:13<01:23, 34.91it/s]\u001b[A\n",
            "Epoch 1:  13%|█▎        | 419/3334 [00:13<01:28, 32.76it/s]\u001b[A\n",
            "Epoch 1:  13%|█▎        | 424/3334 [00:13<01:22, 35.12it/s]\u001b[A\n",
            "Epoch 1:  13%|█▎        | 428/3334 [00:13<01:25, 34.16it/s]\u001b[A\n",
            "Epoch 1:  13%|█▎        | 432/3334 [00:14<01:22, 35.28it/s]\u001b[A\n",
            "Epoch 1:  13%|█▎        | 436/3334 [00:14<01:20, 36.00it/s]\u001b[A\n",
            "Epoch 1:  13%|█▎        | 440/3334 [00:14<01:20, 36.15it/s]\u001b[A\n",
            "Epoch 1:  13%|█▎        | 444/3334 [00:14<01:28, 32.73it/s]\u001b[A\n",
            "Epoch 1:  13%|█▎        | 448/3334 [00:14<01:34, 30.65it/s]\u001b[A\n",
            "Epoch 1:  14%|█▎        | 452/3334 [00:14<01:37, 29.44it/s]\u001b[A\n",
            "Epoch 1:  14%|█▎        | 456/3334 [00:14<01:40, 28.74it/s]\u001b[A\n",
            "Epoch 1:  14%|█▍        | 459/3334 [00:15<01:45, 27.27it/s]\u001b[A\n",
            "Epoch 1:  14%|█▍        | 462/3334 [00:15<01:56, 24.62it/s]\u001b[A\n",
            "Epoch 1:  14%|█▍        | 465/3334 [00:15<01:59, 23.92it/s]\u001b[A\n",
            "Epoch 1:  14%|█▍        | 468/3334 [00:15<01:59, 24.05it/s]\u001b[A\n",
            "Epoch 1:  14%|█▍        | 471/3334 [00:15<01:56, 24.56it/s]\u001b[A\n",
            "Epoch 1:  14%|█▍        | 474/3334 [00:15<01:53, 25.16it/s]\u001b[A\n",
            "Epoch 1:  14%|█▍        | 477/3334 [00:15<01:57, 24.31it/s]\u001b[A\n",
            "Epoch 1:  14%|█▍        | 480/3334 [00:15<02:06, 22.63it/s]\u001b[A\n",
            "Epoch 1:  14%|█▍        | 483/3334 [00:16<02:04, 22.92it/s]\u001b[A\n",
            "Epoch 1:  15%|█▍        | 486/3334 [00:16<01:58, 24.07it/s]\u001b[A\n",
            "Epoch 1:  15%|█▍        | 489/3334 [00:16<01:57, 24.30it/s]\u001b[A\n",
            "Epoch 1:  15%|█▍        | 492/3334 [00:16<02:07, 22.26it/s]\u001b[A\n",
            "Epoch 1:  15%|█▍        | 495/3334 [00:16<02:07, 22.30it/s]\u001b[A\n",
            "Epoch 1:  15%|█▍        | 498/3334 [00:16<02:03, 22.90it/s]\u001b[A\n",
            "Epoch 1:  15%|█▌        | 501/3334 [00:16<02:04, 22.74it/s]\u001b[A\n",
            "Epoch 1:  15%|█▌        | 504/3334 [00:17<02:16, 20.76it/s]\u001b[A\n",
            "Epoch 1:  15%|█▌        | 507/3334 [00:17<02:22, 19.87it/s]\u001b[A\n",
            "Epoch 1:  15%|█▌        | 510/3334 [00:17<02:15, 20.85it/s]\u001b[A\n",
            "Epoch 1:  15%|█▌        | 514/3334 [00:17<01:52, 25.16it/s]\u001b[A\n",
            "Epoch 1:  16%|█▌        | 518/3334 [00:17<01:41, 27.74it/s]\u001b[A\n",
            "Epoch 1:  16%|█▌        | 522/3334 [00:17<01:35, 29.52it/s]\u001b[A\n",
            "Epoch 1:  16%|█▌        | 527/3334 [00:17<01:25, 32.75it/s]\u001b[A\n",
            "Epoch 1:  16%|█▌        | 531/3334 [00:17<01:23, 33.47it/s]\u001b[A\n",
            "Epoch 1:  16%|█▌        | 535/3334 [00:18<01:19, 35.11it/s]\u001b[A\n",
            "Epoch 1:  16%|█▌        | 539/3334 [00:18<01:20, 34.55it/s]\u001b[A\n",
            "Epoch 1:  16%|█▋        | 543/3334 [00:18<01:24, 33.08it/s]\u001b[A\n",
            "Epoch 1:  16%|█▋        | 547/3334 [00:18<01:25, 32.76it/s]\u001b[A\n",
            "Epoch 1:  17%|█▋        | 551/3334 [00:18<01:23, 33.46it/s]\u001b[A\n",
            "Epoch 1:  17%|█▋        | 555/3334 [00:18<01:25, 32.51it/s]\u001b[A\n",
            "Epoch 1:  17%|█▋        | 559/3334 [00:18<01:23, 33.27it/s]\u001b[A\n",
            "Epoch 1:  17%|█▋        | 563/3334 [00:18<01:20, 34.24it/s]\u001b[A\n",
            "Epoch 1:  17%|█▋        | 567/3334 [00:18<01:19, 34.63it/s]\u001b[A\n",
            "Epoch 1:  17%|█▋        | 572/3334 [00:19<01:15, 36.72it/s]\u001b[A\n",
            "Epoch 1:  17%|█▋        | 576/3334 [00:19<01:13, 37.37it/s]\u001b[A\n",
            "Epoch 1:  17%|█▋        | 580/3334 [00:19<01:16, 36.00it/s]\u001b[A\n",
            "Epoch 1:  18%|█▊        | 584/3334 [00:19<01:22, 33.29it/s]\u001b[A\n",
            "Epoch 1:  18%|█▊        | 588/3334 [00:19<01:26, 31.59it/s]\u001b[A\n",
            "Epoch 1:  18%|█▊        | 592/3334 [00:19<01:32, 29.63it/s]\u001b[A\n",
            "Epoch 1:  18%|█▊        | 596/3334 [00:19<01:28, 30.85it/s]\u001b[A\n",
            "Epoch 1:  18%|█▊        | 600/3334 [00:19<01:25, 31.93it/s]\u001b[A\n",
            "Epoch 1:  18%|█▊        | 604/3334 [00:20<01:22, 33.08it/s]\u001b[A\n",
            "Epoch 1:  18%|█▊        | 608/3334 [00:20<01:20, 33.71it/s]\u001b[A\n",
            "Epoch 1:  18%|█▊        | 612/3334 [00:20<01:23, 32.52it/s]\u001b[A\n",
            "Epoch 1:  18%|█▊        | 616/3334 [00:20<01:19, 34.13it/s]\u001b[A\n",
            "Epoch 1:  19%|█▊        | 620/3334 [00:20<01:22, 33.08it/s]\u001b[A\n",
            "Epoch 1:  19%|█▊        | 624/3334 [00:20<01:21, 33.37it/s]\u001b[A\n",
            "Epoch 1:  19%|█▉        | 628/3334 [00:20<01:23, 32.44it/s]\u001b[A\n",
            "Epoch 1:  19%|█▉        | 632/3334 [00:20<01:21, 33.01it/s]\u001b[A\n",
            "Epoch 1:  19%|█▉        | 636/3334 [00:21<01:22, 32.75it/s]\u001b[A\n",
            "Epoch 1:  19%|█▉        | 640/3334 [00:21<01:23, 32.10it/s]\u001b[A\n",
            "Epoch 1:  19%|█▉        | 644/3334 [00:21<01:22, 32.44it/s]\u001b[A\n",
            "Epoch 1:  19%|█▉        | 648/3334 [00:21<01:18, 34.34it/s]\u001b[A\n",
            "Epoch 1:  20%|█▉        | 652/3334 [00:21<01:15, 35.60it/s]\u001b[A\n",
            "Epoch 1:  20%|█▉        | 656/3334 [00:21<01:14, 36.04it/s]\u001b[A\n",
            "Epoch 1:  20%|█▉        | 660/3334 [00:21<01:15, 35.55it/s]\u001b[A\n",
            "Epoch 1:  20%|█▉        | 664/3334 [00:21<01:21, 32.95it/s]\u001b[A\n",
            "Epoch 1:  20%|██        | 668/3334 [00:22<01:23, 32.03it/s]\u001b[A\n",
            "Epoch 1:  20%|██        | 672/3334 [00:22<01:23, 31.73it/s]\u001b[A\n",
            "Epoch 1:  20%|██        | 676/3334 [00:22<01:23, 31.86it/s]\u001b[A\n",
            "Epoch 1:  20%|██        | 680/3334 [00:22<01:24, 31.42it/s]\u001b[A\n",
            "Epoch 1:  21%|██        | 685/3334 [00:22<01:18, 33.69it/s]\u001b[A\n",
            "Epoch 1:  21%|██        | 689/3334 [00:22<01:15, 34.82it/s]\u001b[A\n",
            "Epoch 1:  21%|██        | 693/3334 [00:22<01:17, 33.88it/s]\u001b[A\n",
            "Epoch 1:  21%|██        | 697/3334 [00:22<01:21, 32.20it/s]\u001b[A\n",
            "Epoch 1:  21%|██        | 701/3334 [00:23<01:20, 32.70it/s]\u001b[A\n",
            "Epoch 1:  21%|██        | 705/3334 [00:23<01:18, 33.39it/s]\u001b[A\n",
            "Epoch 1:  21%|██▏       | 709/3334 [00:23<01:19, 32.88it/s]\u001b[A\n",
            "Epoch 1:  21%|██▏       | 713/3334 [00:23<01:23, 31.21it/s]\u001b[A\n",
            "Epoch 1:  22%|██▏       | 717/3334 [00:23<01:23, 31.37it/s]\u001b[A\n",
            "Epoch 1:  22%|██▏       | 721/3334 [00:23<01:20, 32.42it/s]\u001b[A\n",
            "Epoch 1:  22%|██▏       | 725/3334 [00:23<01:17, 33.46it/s]\u001b[A\n",
            "Epoch 1:  22%|██▏       | 729/3334 [00:23<01:18, 33.07it/s]\u001b[A\n",
            "Epoch 1:  22%|██▏       | 733/3334 [00:24<01:19, 32.72it/s]\u001b[A\n",
            "Epoch 1:  22%|██▏       | 737/3334 [00:24<01:19, 32.71it/s]\u001b[A\n",
            "Epoch 1:  22%|██▏       | 741/3334 [00:24<01:16, 33.93it/s]\u001b[A\n",
            "Epoch 1:  22%|██▏       | 745/3334 [00:24<01:16, 33.72it/s]\u001b[A\n",
            "Epoch 1:  22%|██▏       | 749/3334 [00:24<01:15, 34.35it/s]\u001b[A\n",
            "Epoch 1:  23%|██▎       | 753/3334 [00:24<01:15, 33.99it/s]\u001b[A\n",
            "Epoch 1:  23%|██▎       | 757/3334 [00:24<01:25, 30.20it/s]\u001b[A\n",
            "Epoch 1:  23%|██▎       | 761/3334 [00:24<01:22, 31.03it/s]\u001b[A\n",
            "Epoch 1:  23%|██▎       | 765/3334 [00:25<01:24, 30.32it/s]\u001b[A\n",
            "Epoch 1:  23%|██▎       | 769/3334 [00:25<01:25, 29.87it/s]\u001b[A\n",
            "Epoch 1:  23%|██▎       | 773/3334 [00:25<01:24, 30.43it/s]\u001b[A\n",
            "Epoch 1:  23%|██▎       | 777/3334 [00:25<01:29, 28.58it/s]\u001b[A\n",
            "Epoch 1:  23%|██▎       | 781/3334 [00:25<01:24, 30.35it/s]\u001b[A\n",
            "Epoch 1:  24%|██▎       | 785/3334 [00:25<01:19, 31.88it/s]\u001b[A\n",
            "Epoch 1:  24%|██▎       | 789/3334 [00:25<01:16, 33.48it/s]\u001b[A\n",
            "Epoch 1:  24%|██▍       | 793/3334 [00:25<01:14, 34.25it/s]\u001b[A\n",
            "Epoch 1:  24%|██▍       | 797/3334 [00:25<01:13, 34.62it/s]\u001b[A\n",
            "Epoch 1:  24%|██▍       | 802/3334 [00:26<01:08, 36.71it/s]\u001b[A\n",
            "Epoch 1:  24%|██▍       | 806/3334 [00:26<01:13, 34.27it/s]\u001b[A\n",
            "Epoch 1:  24%|██▍       | 810/3334 [00:26<01:13, 34.37it/s]\u001b[A\n",
            "Epoch 1:  24%|██▍       | 814/3334 [00:26<01:16, 32.94it/s]\u001b[A\n",
            "Epoch 1:  25%|██▍       | 818/3334 [00:26<01:16, 32.81it/s]\u001b[A\n",
            "Epoch 1:  25%|██▍       | 822/3334 [00:26<01:16, 33.03it/s]\u001b[A\n",
            "Epoch 1:  25%|██▍       | 826/3334 [00:26<01:13, 34.04it/s]\u001b[A\n",
            "Epoch 1:  25%|██▍       | 830/3334 [00:26<01:10, 35.58it/s]\u001b[A\n",
            "Epoch 1:  25%|██▌       | 834/3334 [00:27<01:11, 34.73it/s]\u001b[A\n",
            "Epoch 1:  25%|██▌       | 838/3334 [00:27<01:09, 35.98it/s]\u001b[A\n",
            "Epoch 1:  25%|██▌       | 843/3334 [00:27<01:05, 38.17it/s]\u001b[A\n",
            "Epoch 1:  25%|██▌       | 847/3334 [00:27<01:12, 34.13it/s]\u001b[A\n",
            "Epoch 1:  26%|██▌       | 851/3334 [00:27<01:28, 28.02it/s]\u001b[A\n",
            "Epoch 1:  26%|██▌       | 855/3334 [00:27<01:32, 26.81it/s]\u001b[A\n",
            "Epoch 1:  26%|██▌       | 858/3334 [00:27<01:43, 23.88it/s]\u001b[A\n",
            "Epoch 1:  26%|██▌       | 861/3334 [00:28<01:45, 23.55it/s]\u001b[A\n",
            "Epoch 1:  26%|██▌       | 864/3334 [00:28<01:53, 21.76it/s]\u001b[A\n",
            "Epoch 1:  26%|██▌       | 867/3334 [00:28<01:48, 22.80it/s]\u001b[A\n",
            "Epoch 1:  26%|██▌       | 870/3334 [00:28<01:44, 23.50it/s]\u001b[A\n",
            "Epoch 1:  26%|██▌       | 873/3334 [00:28<01:49, 22.55it/s]\u001b[A\n",
            "Epoch 1:  26%|██▋       | 876/3334 [00:28<01:47, 22.97it/s]\u001b[A\n",
            "Epoch 1:  26%|██▋       | 879/3334 [00:28<01:45, 23.20it/s]\u001b[A\n",
            "Epoch 1:  26%|██▋       | 882/3334 [00:29<01:48, 22.52it/s]\u001b[A\n",
            "Epoch 1:  27%|██▋       | 885/3334 [00:29<01:51, 22.05it/s]\u001b[A\n",
            "Epoch 1:  27%|██▋       | 888/3334 [00:29<01:48, 22.60it/s]\u001b[A\n",
            "Epoch 1:  27%|██▋       | 891/3334 [00:29<01:48, 22.42it/s]\u001b[A\n",
            "Epoch 1:  27%|██▋       | 894/3334 [00:29<01:50, 22.13it/s]\u001b[A\n",
            "Epoch 1:  27%|██▋       | 897/3334 [00:29<01:56, 21.01it/s]\u001b[A\n",
            "Epoch 1:  27%|██▋       | 900/3334 [00:29<01:53, 21.49it/s]\u001b[A\n",
            "Epoch 1:  27%|██▋       | 903/3334 [00:30<02:01, 20.08it/s]\u001b[A\n",
            "Epoch 1:  27%|██▋       | 906/3334 [00:30<01:58, 20.42it/s]\u001b[A\n",
            "Epoch 1:  27%|██▋       | 910/3334 [00:30<01:41, 23.84it/s]\u001b[A\n",
            "Epoch 1:  27%|██▋       | 914/3334 [00:30<01:28, 27.42it/s]\u001b[A\n",
            "Epoch 1:  28%|██▊       | 918/3334 [00:30<01:25, 28.24it/s]\u001b[A\n",
            "Epoch 1:  28%|██▊       | 921/3334 [00:30<01:25, 28.27it/s]\u001b[A\n",
            "Epoch 1:  28%|██▊       | 924/3334 [00:30<01:25, 28.28it/s]\u001b[A\n",
            "Epoch 1:  28%|██▊       | 928/3334 [00:30<01:20, 29.76it/s]\u001b[A\n",
            "Epoch 1:  28%|██▊       | 932/3334 [00:31<01:19, 30.13it/s]\u001b[A\n",
            "Epoch 1:  28%|██▊       | 936/3334 [00:31<01:15, 31.89it/s]\u001b[A\n",
            "Epoch 1:  28%|██▊       | 940/3334 [00:31<01:14, 31.98it/s]\u001b[A\n",
            "Epoch 1:  28%|██▊       | 944/3334 [00:31<01:11, 33.50it/s]\u001b[A\n",
            "Epoch 1:  28%|██▊       | 948/3334 [00:31<01:13, 32.56it/s]\u001b[A\n",
            "Epoch 1:  29%|██▊       | 952/3334 [00:31<01:10, 33.95it/s]\u001b[A\n",
            "Epoch 1:  29%|██▊       | 956/3334 [00:31<01:10, 33.59it/s]\u001b[A\n",
            "Epoch 1:  29%|██▉       | 960/3334 [00:31<01:17, 30.76it/s]\u001b[A\n",
            "Epoch 1:  29%|██▉       | 964/3334 [00:32<01:16, 31.03it/s]\u001b[A\n",
            "Epoch 1:  29%|██▉       | 968/3334 [00:32<01:16, 30.78it/s]\u001b[A\n",
            "Epoch 1:  29%|██▉       | 973/3334 [00:32<01:10, 33.47it/s]\u001b[A\n",
            "Epoch 1:  29%|██▉       | 977/3334 [00:32<01:09, 34.07it/s]\u001b[A\n",
            "Epoch 1:  29%|██▉       | 981/3334 [00:32<01:09, 34.01it/s]\u001b[A\n",
            "Epoch 1:  30%|██▉       | 985/3334 [00:32<01:16, 30.66it/s]\u001b[A\n",
            "Epoch 1:  30%|██▉       | 989/3334 [00:32<01:18, 29.71it/s]\u001b[A\n",
            "Epoch 1:  30%|██▉       | 993/3334 [00:32<01:13, 31.88it/s]\u001b[A\n",
            "Epoch 1:  30%|██▉       | 997/3334 [00:33<01:10, 33.13it/s]\u001b[A\n",
            "Epoch 1:  30%|███       | 1002/3334 [00:33<01:07, 34.31it/s]\u001b[A\n",
            "Epoch 1:  30%|███       | 1006/3334 [00:33<01:07, 34.40it/s]\u001b[A\n",
            "Epoch 1:  30%|███       | 1010/3334 [00:33<01:08, 34.07it/s]\u001b[A\n",
            "Epoch 1:  30%|███       | 1014/3334 [00:33<01:08, 33.98it/s]\u001b[A\n",
            "Epoch 1:  31%|███       | 1018/3334 [00:33<01:09, 33.38it/s]\u001b[A\n",
            "Epoch 1:  31%|███       | 1022/3334 [00:33<01:06, 34.77it/s]\u001b[A\n",
            "Epoch 1:  31%|███       | 1026/3334 [00:33<01:11, 32.49it/s]\u001b[A\n",
            "Epoch 1:  31%|███       | 1030/3334 [00:33<01:09, 33.39it/s]\u001b[A\n",
            "Epoch 1:  31%|███       | 1034/3334 [00:34<01:05, 35.03it/s]\u001b[A\n",
            "Epoch 1:  31%|███       | 1038/3334 [00:34<01:05, 35.26it/s]\u001b[A\n",
            "Epoch 1:  31%|███▏      | 1042/3334 [00:34<01:07, 34.13it/s]\u001b[A\n",
            "Epoch 1:  31%|███▏      | 1046/3334 [00:34<01:06, 34.55it/s]\u001b[A\n",
            "Epoch 1:  31%|███▏      | 1050/3334 [00:34<01:09, 32.98it/s]\u001b[A\n",
            "Epoch 1:  32%|███▏      | 1054/3334 [00:34<01:09, 32.71it/s]\u001b[A\n",
            "Epoch 1:  32%|███▏      | 1058/3334 [00:34<01:09, 32.60it/s]\u001b[A\n",
            "Epoch 1:  32%|███▏      | 1062/3334 [00:34<01:13, 30.84it/s]\u001b[A\n",
            "Epoch 1:  32%|███▏      | 1066/3334 [00:35<01:16, 29.70it/s]\u001b[A\n",
            "Epoch 1:  32%|███▏      | 1071/3334 [00:35<01:08, 32.94it/s]\u001b[A\n",
            "Epoch 1:  32%|███▏      | 1075/3334 [00:35<01:11, 31.42it/s]\u001b[A\n",
            "Epoch 1:  32%|███▏      | 1079/3334 [00:35<01:14, 30.33it/s]\u001b[A\n",
            "Epoch 1:  32%|███▏      | 1083/3334 [00:35<01:14, 30.13it/s]\u001b[A\n",
            "Epoch 1:  33%|███▎      | 1087/3334 [00:35<01:11, 31.35it/s]\u001b[A\n",
            "Epoch 1:  33%|███▎      | 1091/3334 [00:35<01:14, 30.21it/s]\u001b[A\n",
            "Epoch 1:  33%|███▎      | 1095/3334 [00:36<01:10, 31.57it/s]\u001b[A\n",
            "Epoch 1:  33%|███▎      | 1099/3334 [00:36<01:07, 32.99it/s]\u001b[A\n",
            "Epoch 1:  33%|███▎      | 1103/3334 [00:36<01:08, 32.43it/s]\u001b[A\n",
            "Epoch 1:  33%|███▎      | 1107/3334 [00:36<01:08, 32.72it/s]\u001b[A\n",
            "Epoch 1:  33%|███▎      | 1111/3334 [00:36<01:14, 29.93it/s]\u001b[A\n",
            "Epoch 1:  33%|███▎      | 1115/3334 [00:36<01:15, 29.34it/s]\u001b[A\n",
            "Epoch 1:  34%|███▎      | 1119/3334 [00:36<01:11, 30.98it/s]\u001b[A\n",
            "Epoch 1:  34%|███▎      | 1123/3334 [00:36<01:10, 31.21it/s]\u001b[A\n",
            "Epoch 1:  34%|███▍      | 1127/3334 [00:37<01:11, 30.86it/s]\u001b[A\n",
            "Epoch 1:  34%|███▍      | 1131/3334 [00:37<01:11, 30.69it/s]\u001b[A\n",
            "Epoch 1:  34%|███▍      | 1135/3334 [00:37<01:09, 31.60it/s]\u001b[A\n",
            "Epoch 1:  34%|███▍      | 1139/3334 [00:37<01:06, 33.19it/s]\u001b[A\n",
            "Epoch 1:  34%|███▍      | 1143/3334 [00:37<01:05, 33.40it/s]\u001b[A\n",
            "Epoch 1:  34%|███▍      | 1147/3334 [00:37<01:06, 33.10it/s]\u001b[A\n",
            "Epoch 1:  35%|███▍      | 1151/3334 [00:37<01:05, 33.20it/s]\u001b[A\n",
            "Epoch 1:  35%|███▍      | 1155/3334 [00:37<01:05, 33.38it/s]\u001b[A\n",
            "Epoch 1:  35%|███▍      | 1159/3334 [00:38<01:06, 32.58it/s]\u001b[A\n",
            "Epoch 1:  35%|███▍      | 1163/3334 [00:38<01:03, 33.96it/s]\u001b[A\n",
            "Epoch 1:  35%|███▌      | 1167/3334 [00:38<01:01, 35.17it/s]\u001b[A\n",
            "Epoch 1:  35%|███▌      | 1171/3334 [00:38<01:08, 31.36it/s]\u001b[A\n",
            "Epoch 1:  35%|███▌      | 1175/3334 [00:38<01:10, 30.54it/s]\u001b[A\n",
            "Epoch 1:  35%|███▌      | 1179/3334 [00:38<01:07, 32.01it/s]\u001b[A\n",
            "Epoch 1:  35%|███▌      | 1183/3334 [00:38<01:09, 30.81it/s]\u001b[A\n",
            "Epoch 1:  36%|███▌      | 1188/3334 [00:38<01:05, 33.01it/s]\u001b[A\n",
            "Epoch 1:  36%|███▌      | 1192/3334 [00:39<01:05, 32.86it/s]\u001b[A\n",
            "Epoch 1:  36%|███▌      | 1196/3334 [00:39<01:03, 33.57it/s]\u001b[A\n",
            "Epoch 1:  36%|███▌      | 1200/3334 [00:39<01:02, 34.34it/s]\u001b[A\n",
            "Epoch 1:  36%|███▌      | 1204/3334 [00:39<01:02, 34.23it/s]\u001b[A\n",
            "Epoch 1:  36%|███▌      | 1208/3334 [00:39<01:04, 32.96it/s]\u001b[A\n",
            "Epoch 1:  36%|███▋      | 1212/3334 [00:39<01:05, 32.19it/s]\u001b[A\n",
            "Epoch 1:  36%|███▋      | 1216/3334 [00:39<01:05, 32.10it/s]\u001b[A\n",
            "Epoch 1:  37%|███▋      | 1220/3334 [00:39<01:02, 33.84it/s]\u001b[A\n",
            "Epoch 1:  37%|███▋      | 1224/3334 [00:39<01:01, 34.11it/s]\u001b[A\n",
            "Epoch 1:  37%|███▋      | 1228/3334 [00:40<01:09, 30.28it/s]\u001b[A\n",
            "Epoch 1:  37%|███▋      | 1232/3334 [00:40<01:12, 29.03it/s]\u001b[A\n",
            "Epoch 1:  37%|███▋      | 1235/3334 [00:40<01:14, 28.02it/s]\u001b[A\n",
            "Epoch 1:  37%|███▋      | 1238/3334 [00:40<01:21, 25.73it/s]\u001b[A\n",
            "Epoch 1:  37%|███▋      | 1241/3334 [00:40<01:29, 23.33it/s]\u001b[A\n",
            "Epoch 1:  37%|███▋      | 1244/3334 [00:40<01:32, 22.57it/s]\u001b[A\n",
            "Epoch 1:  37%|███▋      | 1248/3334 [00:40<01:23, 25.05it/s]\u001b[A\n",
            "Epoch 1:  38%|███▊      | 1251/3334 [00:41<01:26, 24.07it/s]\u001b[A\n",
            "Epoch 1:  38%|███▊      | 1254/3334 [00:41<01:27, 23.87it/s]\u001b[A\n",
            "Epoch 1:  38%|███▊      | 1257/3334 [00:41<01:30, 22.89it/s]\u001b[A\n",
            "Epoch 1:  38%|███▊      | 1260/3334 [00:41<01:31, 22.64it/s]\u001b[A\n",
            "Epoch 1:  38%|███▊      | 1263/3334 [00:41<01:30, 22.92it/s]\u001b[A\n",
            "Epoch 1:  38%|███▊      | 1266/3334 [00:41<01:37, 21.28it/s]\u001b[A\n",
            "Epoch 1:  38%|███▊      | 1269/3334 [00:41<01:30, 22.73it/s]\u001b[A\n",
            "Epoch 1:  38%|███▊      | 1272/3334 [00:42<01:32, 22.33it/s]\u001b[A\n",
            "Epoch 1:  38%|███▊      | 1275/3334 [00:42<01:44, 19.79it/s]\u001b[A\n",
            "Epoch 1:  38%|███▊      | 1278/3334 [00:42<01:42, 20.06it/s]\u001b[A\n",
            "Epoch 1:  38%|███▊      | 1281/3334 [00:42<01:41, 20.31it/s]\u001b[A\n",
            "Epoch 1:  39%|███▊      | 1284/3334 [00:42<01:42, 20.08it/s]\u001b[A\n",
            "Epoch 1:  39%|███▊      | 1287/3334 [00:42<01:34, 21.77it/s]\u001b[A\n",
            "Epoch 1:  39%|███▊      | 1290/3334 [00:42<01:38, 20.76it/s]\u001b[A\n",
            "Epoch 1:  39%|███▉      | 1294/3334 [00:43<01:23, 24.53it/s]\u001b[A\n",
            "Epoch 1:  39%|███▉      | 1297/3334 [00:43<01:20, 25.40it/s]\u001b[A\n",
            "Epoch 1:  39%|███▉      | 1301/3334 [00:43<01:10, 28.67it/s]\u001b[A\n",
            "Epoch 1:  39%|███▉      | 1306/3334 [00:43<01:02, 32.22it/s]\u001b[A\n",
            "Epoch 1:  39%|███▉      | 1310/3334 [00:43<01:08, 29.39it/s]\u001b[A\n",
            "Epoch 1:  39%|███▉      | 1314/3334 [00:43<01:04, 31.17it/s]\u001b[A\n",
            "Epoch 1:  40%|███▉      | 1318/3334 [00:43<01:02, 32.48it/s]\u001b[A\n",
            "Epoch 1:  40%|███▉      | 1322/3334 [00:43<00:59, 33.97it/s]\u001b[A\n",
            "Epoch 1:  40%|███▉      | 1326/3334 [00:44<01:00, 33.38it/s]\u001b[A\n",
            "Epoch 1:  40%|███▉      | 1330/3334 [00:44<01:00, 33.18it/s]\u001b[A\n",
            "Epoch 1:  40%|████      | 1334/3334 [00:44<01:02, 32.02it/s]\u001b[A\n",
            "Epoch 1:  40%|████      | 1338/3334 [00:44<01:00, 33.03it/s]\u001b[A\n",
            "Epoch 1:  40%|████      | 1342/3334 [00:44<01:00, 32.78it/s]\u001b[A\n",
            "Epoch 1:  40%|████      | 1346/3334 [00:44<00:59, 33.25it/s]\u001b[A\n",
            "Epoch 1:  40%|████      | 1350/3334 [00:44<01:00, 33.01it/s]\u001b[A\n",
            "Epoch 1:  41%|████      | 1354/3334 [00:44<01:01, 32.20it/s]\u001b[A\n",
            "Epoch 1:  41%|████      | 1358/3334 [00:45<00:58, 34.06it/s]\u001b[A\n",
            "Epoch 1:  41%|████      | 1362/3334 [00:45<00:58, 33.59it/s]\u001b[A\n",
            "Epoch 1:  41%|████      | 1366/3334 [00:45<00:57, 34.18it/s]\u001b[A\n",
            "Epoch 1:  41%|████      | 1370/3334 [00:45<00:59, 33.06it/s]\u001b[A\n",
            "Epoch 1:  41%|████      | 1374/3334 [00:45<00:58, 33.27it/s]\u001b[A\n",
            "Epoch 1:  41%|████▏     | 1378/3334 [00:45<00:59, 32.85it/s]\u001b[A\n",
            "Epoch 1:  41%|████▏     | 1382/3334 [00:45<00:57, 34.12it/s]\u001b[A\n",
            "Epoch 1:  42%|████▏     | 1386/3334 [00:45<00:58, 33.33it/s]\u001b[A\n",
            "Epoch 1:  42%|████▏     | 1390/3334 [00:45<00:59, 32.46it/s]\u001b[A\n",
            "Epoch 1:  42%|████▏     | 1394/3334 [00:46<01:02, 30.97it/s]\u001b[A\n",
            "Epoch 1:  42%|████▏     | 1398/3334 [00:46<01:01, 31.24it/s]\u001b[A\n",
            "Epoch 1:  42%|████▏     | 1402/3334 [00:46<01:02, 30.90it/s]\u001b[A\n",
            "Epoch 1:  42%|████▏     | 1406/3334 [00:46<01:02, 30.73it/s]\u001b[A\n",
            "Epoch 1:  42%|████▏     | 1410/3334 [00:46<00:59, 32.24it/s]\u001b[A\n",
            "Epoch 1:  42%|████▏     | 1414/3334 [00:46<00:56, 34.07it/s]\u001b[A\n",
            "Epoch 1:  43%|████▎     | 1418/3334 [00:46<00:56, 33.94it/s]\u001b[A\n",
            "Epoch 1:  43%|████▎     | 1422/3334 [00:46<01:00, 31.69it/s]\u001b[A\n",
            "Epoch 1:  43%|████▎     | 1426/3334 [00:47<01:04, 29.70it/s]\u001b[A\n",
            "Epoch 1:  43%|████▎     | 1430/3334 [00:47<01:03, 30.20it/s]\u001b[A\n",
            "Epoch 1:  43%|████▎     | 1434/3334 [00:47<01:05, 28.80it/s]\u001b[A\n",
            "Epoch 1:  43%|████▎     | 1438/3334 [00:47<01:03, 29.80it/s]\u001b[A\n",
            "Epoch 1:  43%|████▎     | 1442/3334 [00:47<01:02, 30.04it/s]\u001b[A\n",
            "Epoch 1:  43%|████▎     | 1446/3334 [00:47<00:58, 32.31it/s]\u001b[A\n",
            "Epoch 1:  43%|████▎     | 1450/3334 [00:47<00:57, 32.55it/s]\u001b[A\n",
            "Epoch 1:  44%|████▎     | 1454/3334 [00:48<01:00, 31.07it/s]\u001b[A\n",
            "Epoch 1:  44%|████▎     | 1458/3334 [00:48<01:00, 31.10it/s]\u001b[A\n",
            "Epoch 1:  44%|████▍     | 1462/3334 [00:48<00:58, 32.17it/s]\u001b[A\n",
            "Epoch 1:  44%|████▍     | 1466/3334 [00:48<00:57, 32.24it/s]\u001b[A\n",
            "Epoch 1:  44%|████▍     | 1470/3334 [00:48<00:56, 32.98it/s]\u001b[A\n",
            "Epoch 1:  44%|████▍     | 1474/3334 [00:48<00:59, 31.51it/s]\u001b[A\n",
            "Epoch 1:  44%|████▍     | 1478/3334 [00:48<00:56, 33.14it/s]\u001b[A\n",
            "Epoch 1:  44%|████▍     | 1482/3334 [00:48<00:57, 32.41it/s]\u001b[A\n",
            "Epoch 1:  45%|████▍     | 1486/3334 [00:49<00:55, 33.42it/s]\u001b[A\n",
            "Epoch 1:  45%|████▍     | 1490/3334 [00:49<00:53, 34.28it/s]\u001b[A\n",
            "Epoch 1:  45%|████▍     | 1494/3334 [00:49<00:54, 33.91it/s]\u001b[A\n",
            "Epoch 1:  45%|████▍     | 1499/3334 [00:49<00:51, 35.35it/s]\u001b[A\n",
            "Epoch 1:  45%|████▌     | 1503/3334 [00:49<00:52, 35.06it/s]\u001b[A\n",
            "Epoch 1:  45%|████▌     | 1507/3334 [00:49<00:52, 35.07it/s]\u001b[A\n",
            "Epoch 1:  45%|████▌     | 1511/3334 [00:49<00:51, 35.71it/s]\u001b[A\n",
            "Epoch 1:  45%|████▌     | 1515/3334 [00:49<00:50, 35.98it/s]\u001b[A\n",
            "Epoch 1:  46%|████▌     | 1519/3334 [00:49<00:50, 35.77it/s]\u001b[A\n",
            "Epoch 1:  46%|████▌     | 1523/3334 [00:50<00:51, 35.50it/s]\u001b[A\n",
            "Epoch 1:  46%|████▌     | 1527/3334 [00:50<00:53, 33.93it/s]\u001b[A\n",
            "Epoch 1:  46%|████▌     | 1532/3334 [00:50<00:49, 36.44it/s]\u001b[A\n",
            "Epoch 1:  46%|████▌     | 1536/3334 [00:50<00:55, 32.59it/s]\u001b[A\n",
            "Epoch 1:  46%|████▌     | 1540/3334 [00:50<00:53, 33.58it/s]\u001b[A\n",
            "Epoch 1:  46%|████▋     | 1544/3334 [00:50<00:54, 33.04it/s]\u001b[A\n",
            "Epoch 1:  46%|████▋     | 1548/3334 [00:50<00:55, 32.25it/s]\u001b[A\n",
            "Epoch 1:  47%|████▋     | 1552/3334 [00:50<00:56, 31.46it/s]\u001b[A\n",
            "Epoch 1:  47%|████▋     | 1556/3334 [00:51<00:55, 31.79it/s]\u001b[A\n",
            "Epoch 1:  47%|████▋     | 1560/3334 [00:51<00:54, 32.72it/s]\u001b[A\n",
            "Epoch 1:  47%|████▋     | 1564/3334 [00:51<00:54, 32.30it/s]\u001b[A\n",
            "Epoch 1:  47%|████▋     | 1568/3334 [00:51<00:55, 31.94it/s]\u001b[A\n",
            "Epoch 1:  47%|████▋     | 1572/3334 [00:51<00:58, 29.95it/s]\u001b[A\n",
            "Epoch 1:  47%|████▋     | 1576/3334 [00:51<00:55, 31.49it/s]\u001b[A\n",
            "Epoch 1:  47%|████▋     | 1580/3334 [00:51<00:54, 32.03it/s]\u001b[A\n",
            "Epoch 1:  48%|████▊     | 1584/3334 [00:51<00:55, 31.76it/s]\u001b[A\n",
            "Epoch 1:  48%|████▊     | 1588/3334 [00:52<00:53, 32.62it/s]\u001b[A\n",
            "Epoch 1:  48%|████▊     | 1592/3334 [00:52<00:52, 33.19it/s]\u001b[A\n",
            "Epoch 1:  48%|████▊     | 1596/3334 [00:52<00:53, 32.54it/s]\u001b[A\n",
            "Epoch 1:  48%|████▊     | 1600/3334 [00:52<00:51, 33.88it/s]\u001b[A\n",
            "Epoch 1:  48%|████▊     | 1604/3334 [00:52<00:55, 31.28it/s]\u001b[A\n",
            "Epoch 1:  48%|████▊     | 1608/3334 [00:52<00:53, 32.49it/s]\u001b[A\n",
            "Epoch 1:  48%|████▊     | 1612/3334 [00:52<00:53, 32.44it/s]\u001b[A\n",
            "Epoch 1:  48%|████▊     | 1616/3334 [00:52<00:51, 33.40it/s]\u001b[A\n",
            "Epoch 1:  49%|████▊     | 1620/3334 [00:53<00:50, 33.74it/s]\u001b[A\n",
            "Epoch 1:  49%|████▊     | 1624/3334 [00:53<01:00, 28.10it/s]\u001b[A\n",
            "Epoch 1:  49%|████▉     | 1627/3334 [00:53<01:02, 27.38it/s]\u001b[A\n",
            "Epoch 1:  49%|████▉     | 1630/3334 [00:53<01:05, 26.14it/s]\u001b[A\n",
            "Epoch 1:  49%|████▉     | 1633/3334 [00:53<01:15, 22.57it/s]\u001b[A\n",
            "Epoch 1:  49%|████▉     | 1636/3334 [00:53<01:17, 21.94it/s]\u001b[A\n",
            "Epoch 1:  49%|████▉     | 1639/3334 [00:53<01:13, 23.01it/s]\u001b[A\n",
            "Epoch 1:  49%|████▉     | 1642/3334 [00:54<01:11, 23.52it/s]\u001b[A\n",
            "Epoch 1:  49%|████▉     | 1645/3334 [00:54<01:11, 23.47it/s]\u001b[A\n",
            "Epoch 1:  49%|████▉     | 1648/3334 [00:54<01:14, 22.72it/s]\u001b[A\n",
            "Epoch 1:  50%|████▉     | 1651/3334 [00:54<01:12, 23.06it/s]\u001b[A\n",
            "Epoch 1:  50%|████▉     | 1654/3334 [00:54<01:19, 21.15it/s]\u001b[A\n",
            "Epoch 1:  50%|████▉     | 1657/3334 [00:54<01:16, 21.87it/s]\u001b[A\n",
            "Epoch 1:  50%|████▉     | 1660/3334 [00:54<01:22, 20.22it/s]\u001b[A\n",
            "Epoch 1:  50%|████▉     | 1663/3334 [00:55<01:20, 20.83it/s]\u001b[A\n",
            "Epoch 1:  50%|████▉     | 1666/3334 [00:55<01:19, 21.01it/s]\u001b[A\n",
            "Epoch 1:  50%|█████     | 1669/3334 [00:55<01:21, 20.55it/s]\u001b[A\n",
            "Epoch 1:  50%|█████     | 1672/3334 [00:55<01:14, 22.30it/s]\u001b[A\n",
            "Epoch 1:  50%|█████     | 1675/3334 [00:55<01:10, 23.55it/s]\u001b[A\n",
            "Epoch 1:  50%|█████     | 1678/3334 [00:55<01:10, 23.43it/s]\u001b[A\n",
            "Epoch 1:  50%|█████     | 1681/3334 [00:55<01:10, 23.35it/s]\u001b[A\n",
            "Epoch 1:  51%|█████     | 1684/3334 [00:55<01:09, 23.85it/s]\u001b[A\n",
            "Epoch 1:  51%|█████     | 1688/3334 [00:56<01:01, 26.94it/s]\u001b[A\n",
            "Epoch 1:  51%|█████     | 1692/3334 [00:56<00:56, 29.13it/s]\u001b[A\n",
            "Epoch 1:  51%|█████     | 1696/3334 [00:56<00:52, 31.01it/s]\u001b[A\n",
            "Epoch 1:  51%|█████     | 1700/3334 [00:56<00:53, 30.78it/s]\u001b[A\n",
            "Epoch 1:  51%|█████     | 1704/3334 [00:56<00:53, 30.44it/s]\u001b[A\n",
            "Epoch 1:  51%|█████     | 1708/3334 [00:56<00:52, 30.82it/s]\u001b[A\n",
            "Epoch 1:  51%|█████▏    | 1712/3334 [00:56<00:50, 32.35it/s]\u001b[A\n",
            "Epoch 1:  51%|█████▏    | 1716/3334 [00:56<00:51, 31.43it/s]\u001b[A\n",
            "Epoch 1:  52%|█████▏    | 1720/3334 [00:57<00:50, 31.65it/s]\u001b[A\n",
            "Epoch 1:  52%|█████▏    | 1724/3334 [00:57<00:52, 30.56it/s]\u001b[A\n",
            "Epoch 1:  52%|█████▏    | 1729/3334 [00:57<00:47, 33.73it/s]\u001b[A\n",
            "Epoch 1:  52%|█████▏    | 1733/3334 [00:57<00:49, 32.02it/s]\u001b[A\n",
            "Epoch 1:  52%|█████▏    | 1737/3334 [00:57<00:51, 31.24it/s]\u001b[A\n",
            "Epoch 1:  52%|█████▏    | 1741/3334 [00:57<00:50, 31.51it/s]\u001b[A\n",
            "Epoch 1:  52%|█████▏    | 1745/3334 [00:57<00:54, 29.21it/s]\u001b[A\n",
            "Epoch 1:  52%|█████▏    | 1749/3334 [00:58<00:53, 29.68it/s]\u001b[A\n",
            "Epoch 1:  53%|█████▎    | 1753/3334 [00:58<00:54, 28.93it/s]\u001b[A\n",
            "Epoch 1:  53%|█████▎    | 1757/3334 [00:58<00:53, 29.53it/s]\u001b[A\n",
            "Epoch 1:  53%|█████▎    | 1760/3334 [00:58<00:53, 29.39it/s]\u001b[A\n",
            "Epoch 1:  53%|█████▎    | 1764/3334 [00:58<00:51, 30.23it/s]\u001b[A\n",
            "Epoch 1:  53%|█████▎    | 1768/3334 [00:58<00:52, 30.01it/s]\u001b[A\n",
            "Epoch 1:  53%|█████▎    | 1772/3334 [00:58<00:51, 30.12it/s]\u001b[A\n",
            "Epoch 1:  53%|█████▎    | 1776/3334 [00:58<00:53, 29.09it/s]\u001b[A\n",
            "Epoch 1:  53%|█████▎    | 1781/3334 [00:59<00:47, 32.41it/s]\u001b[A\n",
            "Epoch 1:  54%|█████▎    | 1785/3334 [00:59<00:46, 33.50it/s]\u001b[A\n",
            "Epoch 1:  54%|█████▎    | 1789/3334 [00:59<00:45, 33.95it/s]\u001b[A\n",
            "Epoch 1:  54%|█████▍    | 1793/3334 [00:59<00:53, 28.99it/s]\u001b[A\n",
            "Epoch 1:  54%|█████▍    | 1797/3334 [00:59<01:20, 19.02it/s]\u001b[A\n",
            "Epoch 1:  54%|█████▍    | 1800/3334 [01:00<01:23, 18.37it/s]\u001b[A\n",
            "Epoch 1:  54%|█████▍    | 1803/3334 [01:00<01:24, 18.08it/s]\u001b[A\n",
            "Epoch 1:  54%|█████▍    | 1807/3334 [01:00<01:12, 21.09it/s]\u001b[A\n",
            "Epoch 1:  54%|█████▍    | 1811/3334 [01:00<01:04, 23.48it/s]\u001b[A\n",
            "Epoch 1:  54%|█████▍    | 1814/3334 [01:00<01:24, 18.07it/s]\u001b[A\n",
            "Epoch 1:  54%|█████▍    | 1817/3334 [01:01<01:40, 15.07it/s]\u001b[A\n",
            "Epoch 1:  55%|█████▍    | 1819/3334 [01:01<01:41, 14.99it/s]\u001b[A\n",
            "Epoch 1:  55%|█████▍    | 1823/3334 [01:01<01:23, 18.04it/s]\u001b[A\n",
            "Epoch 1:  55%|█████▍    | 1826/3334 [01:01<01:14, 20.25it/s]\u001b[A\n",
            "Epoch 1:  55%|█████▍    | 1830/3334 [01:01<01:05, 23.13it/s]\u001b[A\n",
            "Epoch 1:  55%|█████▌    | 1834/3334 [01:01<01:01, 24.23it/s]\u001b[A\n",
            "Epoch 1:  55%|█████▌    | 1837/3334 [01:01<01:19, 18.74it/s]\u001b[A\n",
            "Epoch 1:  55%|█████▌    | 1840/3334 [01:02<01:40, 14.81it/s]\u001b[A\n",
            "Epoch 1:  55%|█████▌    | 1843/3334 [01:02<01:27, 17.00it/s]\u001b[A\n",
            "Epoch 1:  55%|█████▌    | 1847/3334 [01:02<01:13, 20.22it/s]\u001b[A\n",
            "Epoch 1:  55%|█████▌    | 1850/3334 [01:02<01:07, 22.01it/s]\u001b[A\n",
            "Epoch 1:  56%|█████▌    | 1854/3334 [01:02<00:57, 25.66it/s]\u001b[A\n",
            "Epoch 1:  56%|█████▌    | 1857/3334 [01:02<00:56, 26.36it/s]\u001b[A\n",
            "Epoch 1:  56%|█████▌    | 1861/3334 [01:02<00:50, 28.95it/s]\u001b[A\n",
            "Epoch 1:  56%|█████▌    | 1865/3334 [01:03<00:50, 29.12it/s]\u001b[A\n",
            "Epoch 1:  56%|█████▌    | 1869/3334 [01:03<00:47, 30.60it/s]\u001b[A\n",
            "Epoch 1:  56%|█████▌    | 1873/3334 [01:03<00:47, 30.51it/s]\u001b[A\n",
            "Epoch 1:  56%|█████▋    | 1877/3334 [01:03<00:50, 28.91it/s]\u001b[A\n",
            "Epoch 1:  56%|█████▋    | 1881/3334 [01:03<00:46, 31.29it/s]\u001b[A\n",
            "Epoch 1:  57%|█████▋    | 1886/3334 [01:03<00:43, 33.38it/s]\u001b[A\n",
            "Epoch 1:  57%|█████▋    | 1890/3334 [01:03<00:42, 34.07it/s]\u001b[A\n",
            "Epoch 1:  57%|█████▋    | 1894/3334 [01:03<00:44, 32.65it/s]\u001b[A\n",
            "Epoch 1:  57%|█████▋    | 1898/3334 [01:04<00:46, 30.56it/s]\u001b[A\n",
            "Epoch 1:  57%|█████▋    | 1902/3334 [01:04<00:46, 30.51it/s]\u001b[A\n",
            "Epoch 1:  57%|█████▋    | 1906/3334 [01:04<00:47, 29.79it/s]\u001b[A\n",
            "Epoch 1:  57%|█████▋    | 1910/3334 [01:04<00:45, 31.64it/s]\u001b[A\n",
            "Epoch 1:  57%|█████▋    | 1914/3334 [01:04<00:43, 32.75it/s]\u001b[A\n",
            "Epoch 1:  58%|█████▊    | 1918/3334 [01:04<00:41, 34.18it/s]\u001b[A\n",
            "Epoch 1:  58%|█████▊    | 1922/3334 [01:04<00:40, 34.51it/s]\u001b[A\n",
            "Epoch 1:  58%|█████▊    | 1926/3334 [01:04<00:41, 34.17it/s]\u001b[A\n",
            "Epoch 1:  58%|█████▊    | 1930/3334 [01:05<00:41, 34.06it/s]\u001b[A\n",
            "Epoch 1:  58%|█████▊    | 1934/3334 [01:05<00:40, 34.47it/s]\u001b[A\n",
            "Epoch 1:  58%|█████▊    | 1938/3334 [01:05<00:42, 33.17it/s]\u001b[A\n",
            "Epoch 1:  58%|█████▊    | 1942/3334 [01:05<00:44, 31.02it/s]\u001b[A\n",
            "Epoch 1:  58%|█████▊    | 1946/3334 [01:05<00:47, 29.45it/s]\u001b[A\n",
            "Epoch 1:  58%|█████▊    | 1949/3334 [01:05<00:50, 27.48it/s]\u001b[A\n",
            "Epoch 1:  59%|█████▊    | 1953/3334 [01:05<00:46, 29.97it/s]\u001b[A\n",
            "Epoch 1:  59%|█████▊    | 1957/3334 [01:05<00:46, 29.56it/s]\u001b[A\n",
            "Epoch 1:  59%|█████▉    | 1961/3334 [01:06<00:47, 28.67it/s]\u001b[A\n",
            "Epoch 1:  59%|█████▉    | 1964/3334 [01:06<00:51, 26.74it/s]\u001b[A\n",
            "Epoch 1:  59%|█████▉    | 1967/3334 [01:06<00:52, 26.00it/s]\u001b[A\n",
            "Epoch 1:  59%|█████▉    | 1970/3334 [01:06<00:58, 23.46it/s]\u001b[A\n",
            "Epoch 1:  59%|█████▉    | 1973/3334 [01:06<00:59, 22.82it/s]\u001b[A\n",
            "Epoch 1:  59%|█████▉    | 1976/3334 [01:06<00:59, 22.96it/s]\u001b[A\n",
            "Epoch 1:  59%|█████▉    | 1979/3334 [01:06<00:59, 22.79it/s]\u001b[A\n",
            "Epoch 1:  59%|█████▉    | 1982/3334 [01:07<01:03, 21.32it/s]\u001b[A\n",
            "Epoch 1:  60%|█████▉    | 1985/3334 [01:07<00:59, 22.76it/s]\u001b[A\n",
            "Epoch 1:  60%|█████▉    | 1988/3334 [01:07<00:58, 23.03it/s]\u001b[A\n",
            "Epoch 1:  60%|█████▉    | 1991/3334 [01:07<00:57, 23.22it/s]\u001b[A\n",
            "Epoch 1:  60%|█████▉    | 1994/3334 [01:07<01:01, 21.91it/s]\u001b[A\n",
            "Epoch 1:  60%|█████▉    | 1997/3334 [01:07<00:56, 23.51it/s]\u001b[A\n",
            "Epoch 1:  60%|█████▉    | 2000/3334 [01:07<00:57, 23.34it/s]\u001b[A\n",
            "Epoch 1:  60%|██████    | 2003/3334 [01:07<00:57, 23.19it/s]\u001b[A\n",
            "Epoch 1:  60%|██████    | 2006/3334 [01:08<00:59, 22.24it/s]\u001b[A\n",
            "Epoch 1:  60%|██████    | 2009/3334 [01:08<00:59, 22.39it/s]\u001b[A\n",
            "Epoch 1:  60%|██████    | 2012/3334 [01:08<00:59, 22.17it/s]\u001b[A\n",
            "Epoch 1:  60%|██████    | 2015/3334 [01:08<01:05, 20.08it/s]\u001b[A\n",
            "Epoch 1:  61%|██████    | 2018/3334 [01:08<01:04, 20.49it/s]\u001b[A\n",
            "Epoch 1:  61%|██████    | 2021/3334 [01:08<01:02, 21.09it/s]\u001b[A\n",
            "Epoch 1:  61%|██████    | 2024/3334 [01:08<00:58, 22.29it/s]\u001b[A\n",
            "Epoch 1:  61%|██████    | 2028/3334 [01:09<00:51, 25.60it/s]\u001b[A\n",
            "Epoch 1:  61%|██████    | 2032/3334 [01:09<00:47, 27.39it/s]\u001b[A\n",
            "Epoch 1:  61%|██████    | 2036/3334 [01:09<00:45, 28.33it/s]\u001b[A\n",
            "Epoch 1:  61%|██████    | 2040/3334 [01:09<00:43, 30.04it/s]\u001b[A\n",
            "Epoch 1:  61%|██████▏   | 2044/3334 [01:09<00:42, 30.15it/s]\u001b[A\n",
            "Epoch 1:  61%|██████▏   | 2048/3334 [01:09<00:43, 29.24it/s]\u001b[A\n",
            "Epoch 1:  62%|██████▏   | 2052/3334 [01:09<00:42, 30.05it/s]\u001b[A\n",
            "Epoch 1:  62%|██████▏   | 2056/3334 [01:09<00:41, 30.87it/s]\u001b[A\n",
            "Epoch 1:  62%|██████▏   | 2060/3334 [01:10<00:41, 30.46it/s]\u001b[A\n",
            "Epoch 1:  62%|██████▏   | 2064/3334 [01:10<00:39, 32.09it/s]\u001b[A\n",
            "Epoch 1:  62%|██████▏   | 2068/3334 [01:10<00:37, 33.83it/s]\u001b[A\n",
            "Epoch 1:  62%|██████▏   | 2072/3334 [01:10<00:39, 31.61it/s]\u001b[A\n",
            "Epoch 1:  62%|██████▏   | 2076/3334 [01:10<00:40, 31.11it/s]\u001b[A\n",
            "Epoch 1:  62%|██████▏   | 2080/3334 [01:10<00:40, 30.86it/s]\u001b[A\n",
            "Epoch 1:  63%|██████▎   | 2084/3334 [01:10<00:40, 31.07it/s]\u001b[A\n",
            "Epoch 1:  63%|██████▎   | 2088/3334 [01:10<00:39, 31.83it/s]\u001b[A\n",
            "Epoch 1:  63%|██████▎   | 2092/3334 [01:11<00:39, 31.46it/s]\u001b[A\n",
            "Epoch 1:  63%|██████▎   | 2096/3334 [01:11<00:37, 33.17it/s]\u001b[A\n",
            "Epoch 1:  63%|██████▎   | 2100/3334 [01:11<00:38, 32.16it/s]\u001b[A\n",
            "Epoch 1:  63%|██████▎   | 2104/3334 [01:11<00:39, 30.90it/s]\u001b[A\n",
            "Epoch 1:  63%|██████▎   | 2108/3334 [01:11<00:39, 31.36it/s]\u001b[A\n",
            "Epoch 1:  63%|██████▎   | 2112/3334 [01:11<00:39, 31.08it/s]\u001b[A\n",
            "Epoch 1:  63%|██████▎   | 2116/3334 [01:11<00:37, 32.50it/s]\u001b[A\n",
            "Epoch 1:  64%|██████▎   | 2120/3334 [01:11<00:36, 33.33it/s]\u001b[A\n",
            "Epoch 1:  64%|██████▎   | 2124/3334 [01:12<00:36, 33.10it/s]\u001b[A\n",
            "Epoch 1:  64%|██████▍   | 2128/3334 [01:12<00:36, 32.93it/s]\u001b[A\n",
            "Epoch 1:  64%|██████▍   | 2132/3334 [01:12<00:36, 33.10it/s]\u001b[A\n",
            "Epoch 1:  64%|██████▍   | 2136/3334 [01:12<00:36, 32.90it/s]\u001b[A\n",
            "Epoch 1:  64%|██████▍   | 2140/3334 [01:12<00:37, 31.45it/s]\u001b[A\n",
            "Epoch 1:  64%|██████▍   | 2144/3334 [01:12<00:36, 32.64it/s]\u001b[A\n",
            "Epoch 1:  64%|██████▍   | 2148/3334 [01:12<00:36, 32.19it/s]\u001b[A\n",
            "Epoch 1:  65%|██████▍   | 2152/3334 [01:12<00:37, 31.37it/s]\u001b[A\n",
            "Epoch 1:  65%|██████▍   | 2156/3334 [01:13<00:36, 32.17it/s]\u001b[A\n",
            "Epoch 1:  65%|██████▍   | 2160/3334 [01:13<00:35, 32.99it/s]\u001b[A\n",
            "Epoch 1:  65%|██████▍   | 2164/3334 [01:13<00:36, 31.69it/s]\u001b[A\n",
            "Epoch 1:  65%|██████▌   | 2168/3334 [01:13<00:38, 30.01it/s]\u001b[A\n",
            "Epoch 1:  65%|██████▌   | 2172/3334 [01:13<00:38, 30.16it/s]\u001b[A\n",
            "Epoch 1:  65%|██████▌   | 2176/3334 [01:13<00:37, 30.80it/s]\u001b[A\n",
            "Epoch 1:  65%|██████▌   | 2181/3334 [01:13<00:35, 32.47it/s]\u001b[A\n",
            "Epoch 1:  66%|██████▌   | 2185/3334 [01:14<00:34, 33.28it/s]\u001b[A\n",
            "Epoch 1:  66%|██████▌   | 2189/3334 [01:14<00:33, 34.64it/s]\u001b[A\n",
            "Epoch 1:  66%|██████▌   | 2193/3334 [01:14<00:32, 35.26it/s]\u001b[A\n",
            "Epoch 1:  66%|██████▌   | 2197/3334 [01:14<00:35, 32.48it/s]\u001b[A\n",
            "Epoch 1:  66%|██████▌   | 2201/3334 [01:14<00:36, 30.81it/s]\u001b[A\n",
            "Epoch 1:  66%|██████▌   | 2205/3334 [01:14<00:37, 29.98it/s]\u001b[A\n",
            "Epoch 1:  66%|██████▋   | 2209/3334 [01:14<00:37, 30.17it/s]\u001b[A\n",
            "Epoch 1:  66%|██████▋   | 2213/3334 [01:14<00:36, 30.47it/s]\u001b[A\n",
            "Epoch 1:  66%|██████▋   | 2217/3334 [01:15<00:35, 31.05it/s]\u001b[A\n",
            "Epoch 1:  67%|██████▋   | 2221/3334 [01:15<00:36, 30.62it/s]\u001b[A\n",
            "Epoch 1:  67%|██████▋   | 2225/3334 [01:15<00:35, 31.32it/s]\u001b[A\n",
            "Epoch 1:  67%|██████▋   | 2230/3334 [01:15<00:32, 33.56it/s]\u001b[A\n",
            "Epoch 1:  67%|██████▋   | 2234/3334 [01:15<00:33, 32.80it/s]\u001b[A\n",
            "Epoch 1:  67%|██████▋   | 2238/3334 [01:15<00:32, 33.45it/s]\u001b[A\n",
            "Epoch 1:  67%|██████▋   | 2242/3334 [01:15<00:33, 32.14it/s]\u001b[A\n",
            "Epoch 1:  67%|██████▋   | 2246/3334 [01:15<00:33, 32.35it/s]\u001b[A\n",
            "Epoch 1:  67%|██████▋   | 2250/3334 [01:16<00:35, 30.74it/s]\u001b[A\n",
            "Epoch 1:  68%|██████▊   | 2254/3334 [01:16<00:34, 31.12it/s]\u001b[A\n",
            "Epoch 1:  68%|██████▊   | 2258/3334 [01:16<00:35, 29.94it/s]\u001b[A\n",
            "Epoch 1:  68%|██████▊   | 2262/3334 [01:16<00:33, 31.67it/s]\u001b[A\n",
            "Epoch 1:  68%|██████▊   | 2266/3334 [01:16<00:40, 26.45it/s]\u001b[A\n",
            "Epoch 1:  68%|██████▊   | 2270/3334 [01:16<00:36, 28.84it/s]\u001b[A\n",
            "Epoch 1:  68%|██████▊   | 2275/3334 [01:16<00:33, 31.95it/s]\u001b[A\n",
            "Epoch 1:  68%|██████▊   | 2279/3334 [01:16<00:31, 32.99it/s]\u001b[A\n",
            "Epoch 1:  68%|██████▊   | 2283/3334 [01:17<00:32, 32.31it/s]\u001b[A\n",
            "Epoch 1:  69%|██████▊   | 2287/3334 [01:17<00:33, 31.60it/s]\u001b[A\n",
            "Epoch 1:  69%|██████▊   | 2291/3334 [01:17<00:34, 30.35it/s]\u001b[A\n",
            "Epoch 1:  69%|██████▉   | 2295/3334 [01:17<00:33, 31.14it/s]\u001b[A\n",
            "Epoch 1:  69%|██████▉   | 2299/3334 [01:17<00:33, 30.87it/s]\u001b[A\n",
            "Epoch 1:  69%|██████▉   | 2303/3334 [01:17<00:32, 31.82it/s]\u001b[A\n",
            "Epoch 1:  69%|██████▉   | 2307/3334 [01:17<00:31, 32.53it/s]\u001b[A\n",
            "Epoch 1:  69%|██████▉   | 2311/3334 [01:18<00:33, 30.29it/s]\u001b[A\n",
            "Epoch 1:  69%|██████▉   | 2315/3334 [01:18<00:34, 29.94it/s]\u001b[A\n",
            "Epoch 1:  70%|██████▉   | 2319/3334 [01:18<00:31, 31.97it/s]\u001b[A\n",
            "Epoch 1:  70%|██████▉   | 2323/3334 [01:18<00:30, 32.83it/s]\u001b[A\n",
            "Epoch 1:  70%|██████▉   | 2327/3334 [01:18<00:30, 32.88it/s]\u001b[A\n",
            "Epoch 1:  70%|██████▉   | 2331/3334 [01:18<00:32, 30.68it/s]\u001b[A\n",
            "Epoch 1:  70%|███████   | 2335/3334 [01:18<00:32, 31.08it/s]\u001b[A\n",
            "Epoch 1:  70%|███████   | 2339/3334 [01:18<00:34, 29.15it/s]\u001b[A\n",
            "Epoch 1:  70%|███████   | 2342/3334 [01:19<00:38, 25.68it/s]\u001b[A\n",
            "Epoch 1:  70%|███████   | 2345/3334 [01:19<00:41, 24.04it/s]\u001b[A\n",
            "Epoch 1:  70%|███████   | 2348/3334 [01:19<00:41, 23.82it/s]\u001b[A\n",
            "Epoch 1:  71%|███████   | 2351/3334 [01:19<00:41, 23.62it/s]\u001b[A\n",
            "Epoch 1:  71%|███████   | 2354/3334 [01:19<00:41, 23.59it/s]\u001b[A\n",
            "Epoch 1:  71%|███████   | 2357/3334 [01:19<00:43, 22.46it/s]\u001b[A\n",
            "Epoch 1:  71%|███████   | 2360/3334 [01:19<00:43, 22.38it/s]\u001b[A\n",
            "Epoch 1:  71%|███████   | 2363/3334 [01:20<00:44, 21.59it/s]\u001b[A\n",
            "Epoch 1:  71%|███████   | 2366/3334 [01:20<00:43, 22.34it/s]\u001b[A\n",
            "Epoch 1:  71%|███████   | 2369/3334 [01:20<00:42, 22.55it/s]\u001b[A\n",
            "Epoch 1:  71%|███████   | 2372/3334 [01:20<00:41, 23.17it/s]\u001b[A\n",
            "Epoch 1:  71%|███████   | 2375/3334 [01:20<00:42, 22.68it/s]\u001b[A\n",
            "Epoch 1:  71%|███████▏  | 2378/3334 [01:20<00:47, 20.31it/s]\u001b[A\n",
            "Epoch 1:  71%|███████▏  | 2381/3334 [01:20<00:48, 19.47it/s]\u001b[A\n",
            "Epoch 1:  71%|███████▏  | 2383/3334 [01:21<00:48, 19.49it/s]\u001b[A\n",
            "Epoch 1:  72%|███████▏  | 2385/3334 [01:21<00:49, 19.10it/s]\u001b[A\n",
            "Epoch 1:  72%|███████▏  | 2388/3334 [01:21<00:47, 19.83it/s]\u001b[A\n",
            "Epoch 1:  72%|███████▏  | 2391/3334 [01:21<00:43, 21.70it/s]\u001b[A\n",
            "Epoch 1:  72%|███████▏  | 2394/3334 [01:21<00:43, 21.48it/s]\u001b[A\n",
            "Epoch 1:  72%|███████▏  | 2397/3334 [01:21<00:43, 21.38it/s]\u001b[A\n",
            "Epoch 1:  72%|███████▏  | 2400/3334 [01:21<00:40, 23.14it/s]\u001b[A\n",
            "Epoch 1:  72%|███████▏  | 2404/3334 [01:21<00:35, 26.11it/s]\u001b[A\n",
            "Epoch 1:  72%|███████▏  | 2408/3334 [01:22<00:32, 28.45it/s]\u001b[A\n",
            "Epoch 1:  72%|███████▏  | 2412/3334 [01:22<00:30, 30.08it/s]\u001b[A\n",
            "Epoch 1:  72%|███████▏  | 2416/3334 [01:22<00:30, 30.14it/s]\u001b[A\n",
            "Epoch 1:  73%|███████▎  | 2420/3334 [01:22<00:29, 30.50it/s]\u001b[A\n",
            "Epoch 1:  73%|███████▎  | 2424/3334 [01:22<00:29, 30.54it/s]\u001b[A\n",
            "Epoch 1:  73%|███████▎  | 2428/3334 [01:22<00:28, 32.08it/s]\u001b[A\n",
            "Epoch 1:  73%|███████▎  | 2432/3334 [01:22<00:28, 32.11it/s]\u001b[A\n",
            "Epoch 1:  73%|███████▎  | 2436/3334 [01:22<00:29, 30.16it/s]\u001b[A\n",
            "Epoch 1:  73%|███████▎  | 2440/3334 [01:23<00:29, 30.76it/s]\u001b[A\n",
            "Epoch 1:  73%|███████▎  | 2444/3334 [01:23<00:29, 30.44it/s]\u001b[A\n",
            "Epoch 1:  73%|███████▎  | 2448/3334 [01:23<00:27, 31.65it/s]\u001b[A\n",
            "Epoch 1:  74%|███████▎  | 2452/3334 [01:23<00:26, 33.40it/s]\u001b[A\n",
            "Epoch 1:  74%|███████▎  | 2456/3334 [01:23<00:27, 32.27it/s]\u001b[A\n",
            "Epoch 1:  74%|███████▍  | 2460/3334 [01:23<00:27, 31.44it/s]\u001b[A\n",
            "Epoch 1:  74%|███████▍  | 2464/3334 [01:23<00:27, 32.17it/s]\u001b[A\n",
            "Epoch 1:  74%|███████▍  | 2468/3334 [01:23<00:26, 32.54it/s]\u001b[A\n",
            "Epoch 1:  74%|███████▍  | 2472/3334 [01:24<00:26, 32.73it/s]\u001b[A\n",
            "Epoch 1:  74%|███████▍  | 2476/3334 [01:24<00:27, 30.99it/s]\u001b[A\n",
            "Epoch 1:  74%|███████▍  | 2480/3334 [01:24<00:26, 31.76it/s]\u001b[A\n",
            "Epoch 1:  75%|███████▍  | 2484/3334 [01:24<00:27, 30.95it/s]\u001b[A\n",
            "Epoch 1:  75%|███████▍  | 2488/3334 [01:24<00:26, 31.45it/s]\u001b[A\n",
            "Epoch 1:  75%|███████▍  | 2492/3334 [01:24<00:27, 31.15it/s]\u001b[A\n",
            "Epoch 1:  75%|███████▍  | 2496/3334 [01:24<00:25, 33.33it/s]\u001b[A\n",
            "Epoch 1:  75%|███████▍  | 2500/3334 [01:24<00:27, 30.35it/s]\u001b[A\n",
            "Epoch 1:  75%|███████▌  | 2504/3334 [01:25<00:28, 29.39it/s]\u001b[A\n",
            "Epoch 1:  75%|███████▌  | 2508/3334 [01:25<00:26, 30.72it/s]\u001b[A\n",
            "Epoch 1:  75%|███████▌  | 2512/3334 [01:25<00:28, 28.52it/s]\u001b[A\n",
            "Epoch 1:  75%|███████▌  | 2515/3334 [01:25<00:29, 27.66it/s]\u001b[A\n",
            "Epoch 1:  76%|███████▌  | 2518/3334 [01:25<00:29, 27.69it/s]\u001b[A\n",
            "Epoch 1:  76%|███████▌  | 2521/3334 [01:25<00:29, 27.44it/s]\u001b[A\n",
            "Epoch 1:  76%|███████▌  | 2524/3334 [01:25<00:29, 27.18it/s]\u001b[A\n",
            "Epoch 1:  76%|███████▌  | 2527/3334 [01:25<00:29, 27.25it/s]\u001b[A\n",
            "Epoch 1:  76%|███████▌  | 2530/3334 [01:26<00:30, 26.54it/s]\u001b[A\n",
            "Epoch 1:  76%|███████▌  | 2534/3334 [01:26<00:29, 27.53it/s]\u001b[A\n",
            "Epoch 1:  76%|███████▌  | 2537/3334 [01:26<00:28, 27.57it/s]\u001b[A\n",
            "Epoch 1:  76%|███████▌  | 2540/3334 [01:26<00:28, 27.85it/s]\u001b[A\n",
            "Epoch 1:  76%|███████▋  | 2543/3334 [01:26<00:28, 27.33it/s]\u001b[A\n",
            "Epoch 1:  76%|███████▋  | 2546/3334 [01:26<00:28, 27.93it/s]\u001b[A\n",
            "Epoch 1:  76%|███████▋  | 2549/3334 [01:26<00:28, 27.66it/s]\u001b[A\n",
            "Epoch 1:  77%|███████▋  | 2553/3334 [01:26<00:26, 29.32it/s]\u001b[A\n",
            "Epoch 1:  77%|███████▋  | 2557/3334 [01:26<00:25, 30.30it/s]\u001b[A\n",
            "Epoch 1:  77%|███████▋  | 2561/3334 [01:27<00:25, 29.93it/s]\u001b[A\n",
            "Epoch 1:  77%|███████▋  | 2565/3334 [01:27<00:25, 30.12it/s]\u001b[A\n",
            "Epoch 1:  77%|███████▋  | 2569/3334 [01:27<00:25, 29.82it/s]\u001b[A\n",
            "Epoch 1:  77%|███████▋  | 2572/3334 [01:27<00:25, 29.57it/s]\u001b[A\n",
            "Epoch 1:  77%|███████▋  | 2575/3334 [01:27<00:26, 28.67it/s]\u001b[A\n",
            "Epoch 1:  77%|███████▋  | 2579/3334 [01:27<00:25, 29.63it/s]\u001b[A\n",
            "Epoch 1:  77%|███████▋  | 2583/3334 [01:27<00:24, 30.32it/s]\u001b[A\n",
            "Epoch 1:  78%|███████▊  | 2587/3334 [01:27<00:23, 31.24it/s]\u001b[A\n",
            "Epoch 1:  78%|███████▊  | 2591/3334 [01:28<00:24, 30.71it/s]\u001b[A\n",
            "Epoch 1:  78%|███████▊  | 2595/3334 [01:28<00:23, 31.71it/s]\u001b[A\n",
            "Epoch 1:  78%|███████▊  | 2599/3334 [01:28<00:23, 30.90it/s]\u001b[A\n",
            "Epoch 1:  78%|███████▊  | 2603/3334 [01:28<00:24, 30.45it/s]\u001b[A\n",
            "Epoch 1:  78%|███████▊  | 2607/3334 [01:28<00:23, 30.29it/s]\u001b[A\n",
            "Epoch 1:  78%|███████▊  | 2611/3334 [01:28<00:23, 30.71it/s]\u001b[A\n",
            "Epoch 1:  78%|███████▊  | 2615/3334 [01:28<00:22, 32.46it/s]\u001b[A\n",
            "Epoch 1:  79%|███████▊  | 2619/3334 [01:28<00:21, 32.82it/s]\u001b[A\n",
            "Epoch 1:  79%|███████▊  | 2623/3334 [01:29<00:22, 31.70it/s]\u001b[A\n",
            "Epoch 1:  79%|███████▉  | 2627/3334 [01:29<00:21, 32.76it/s]\u001b[A\n",
            "Epoch 1:  79%|███████▉  | 2631/3334 [01:29<00:21, 32.67it/s]\u001b[A\n",
            "Epoch 1:  79%|███████▉  | 2635/3334 [01:29<00:21, 32.06it/s]\u001b[A\n",
            "Epoch 1:  79%|███████▉  | 2639/3334 [01:29<00:22, 31.10it/s]\u001b[A\n",
            "Epoch 1:  79%|███████▉  | 2643/3334 [01:29<00:21, 31.81it/s]\u001b[A\n",
            "Epoch 1:  79%|███████▉  | 2647/3334 [01:29<00:21, 31.96it/s]\u001b[A\n",
            "Epoch 1:  80%|███████▉  | 2652/3334 [01:30<00:20, 33.42it/s]\u001b[A\n",
            "Epoch 1:  80%|███████▉  | 2656/3334 [01:30<00:21, 31.69it/s]\u001b[A\n",
            "Epoch 1:  80%|███████▉  | 2660/3334 [01:30<00:20, 32.26it/s]\u001b[A\n",
            "Epoch 1:  80%|███████▉  | 2664/3334 [01:30<00:21, 31.39it/s]\u001b[A\n",
            "Epoch 1:  80%|████████  | 2668/3334 [01:30<00:21, 30.41it/s]\u001b[A\n",
            "Epoch 1:  80%|████████  | 2672/3334 [01:30<00:21, 30.17it/s]\u001b[A\n",
            "Epoch 1:  80%|████████  | 2676/3334 [01:30<00:23, 28.59it/s]\u001b[A\n",
            "Epoch 1:  80%|████████  | 2680/3334 [01:30<00:22, 29.50it/s]\u001b[A\n",
            "Epoch 1:  81%|████████  | 2684/3334 [01:31<00:21, 30.57it/s]\u001b[A\n",
            "Epoch 1:  81%|████████  | 2688/3334 [01:31<00:20, 31.06it/s]\u001b[A\n",
            "Epoch 1:  81%|████████  | 2692/3334 [01:31<00:20, 30.71it/s]\u001b[A\n",
            "Epoch 1:  81%|████████  | 2696/3334 [01:31<00:20, 31.65it/s]\u001b[A\n",
            "Epoch 1:  81%|████████  | 2700/3334 [01:31<00:19, 31.74it/s]\u001b[A\n",
            "Epoch 1:  81%|████████  | 2704/3334 [01:31<00:19, 32.27it/s]\u001b[A\n",
            "Epoch 1:  81%|████████  | 2708/3334 [01:31<00:20, 30.83it/s]\u001b[A\n",
            "Epoch 1:  81%|████████▏ | 2712/3334 [01:32<00:23, 26.84it/s]\u001b[A\n",
            "Epoch 1:  81%|████████▏ | 2715/3334 [01:32<00:23, 26.27it/s]\u001b[A\n",
            "Epoch 1:  82%|████████▏ | 2718/3334 [01:32<00:23, 25.69it/s]\u001b[A\n",
            "Epoch 1:  82%|████████▏ | 2721/3334 [01:32<00:23, 25.82it/s]\u001b[A\n",
            "Epoch 1:  82%|████████▏ | 2724/3334 [01:32<00:23, 26.22it/s]\u001b[A\n",
            "Epoch 1:  82%|████████▏ | 2727/3334 [01:32<00:24, 24.69it/s]\u001b[A\n",
            "Epoch 1:  82%|████████▏ | 2730/3334 [01:32<00:25, 24.14it/s]\u001b[A\n",
            "Epoch 1:  82%|████████▏ | 2733/3334 [01:32<00:26, 22.99it/s]\u001b[A\n",
            "Epoch 1:  82%|████████▏ | 2736/3334 [01:33<00:26, 22.93it/s]\u001b[A\n",
            "Epoch 1:  82%|████████▏ | 2739/3334 [01:33<00:26, 22.12it/s]\u001b[A\n",
            "Epoch 1:  82%|████████▏ | 2742/3334 [01:33<00:28, 20.98it/s]\u001b[A\n",
            "Epoch 1:  82%|████████▏ | 2745/3334 [01:33<00:27, 21.76it/s]\u001b[A\n",
            "Epoch 1:  82%|████████▏ | 2748/3334 [01:33<00:26, 22.03it/s]\u001b[A\n",
            "Epoch 1:  83%|████████▎ | 2751/3334 [01:33<00:26, 22.24it/s]\u001b[A\n",
            "Epoch 1:  83%|████████▎ | 2754/3334 [01:33<00:24, 23.23it/s]\u001b[A\n",
            "Epoch 1:  83%|████████▎ | 2757/3334 [01:33<00:24, 23.24it/s]\u001b[A\n",
            "Epoch 1:  83%|████████▎ | 2760/3334 [01:34<00:23, 24.10it/s]\u001b[A\n",
            "Epoch 1:  83%|████████▎ | 2763/3334 [01:34<00:26, 21.73it/s]\u001b[A\n",
            "Epoch 1:  83%|████████▎ | 2766/3334 [01:34<00:24, 23.27it/s]\u001b[A\n",
            "Epoch 1:  83%|████████▎ | 2769/3334 [01:34<00:25, 21.92it/s]\u001b[A\n",
            "Epoch 1:  83%|████████▎ | 2772/3334 [01:34<00:25, 21.83it/s]\u001b[A\n",
            "Epoch 1:  83%|████████▎ | 2775/3334 [01:34<00:27, 20.62it/s]\u001b[A\n",
            "Epoch 1:  83%|████████▎ | 2779/3334 [01:34<00:23, 23.76it/s]\u001b[A\n",
            "Epoch 1:  83%|████████▎ | 2783/3334 [01:35<00:20, 26.93it/s]\u001b[A\n",
            "Epoch 1:  84%|████████▎ | 2787/3334 [01:35<00:19, 28.28it/s]\u001b[A\n",
            "Epoch 1:  84%|████████▎ | 2791/3334 [01:35<00:18, 29.55it/s]\u001b[A\n",
            "Epoch 1:  84%|████████▍ | 2795/3334 [01:35<00:19, 28.36it/s]\u001b[A\n",
            "Epoch 1:  84%|████████▍ | 2799/3334 [01:35<00:18, 29.06it/s]\u001b[A\n",
            "Epoch 1:  84%|████████▍ | 2803/3334 [01:35<00:16, 31.54it/s]\u001b[A\n",
            "Epoch 1:  84%|████████▍ | 2807/3334 [01:35<00:16, 31.05it/s]\u001b[A\n",
            "Epoch 1:  84%|████████▍ | 2811/3334 [01:35<00:16, 32.22it/s]\u001b[A\n",
            "Epoch 1:  84%|████████▍ | 2815/3334 [01:36<00:16, 31.36it/s]\u001b[A\n",
            "Epoch 1:  85%|████████▍ | 2819/3334 [01:36<00:16, 30.38it/s]\u001b[A\n",
            "Epoch 1:  85%|████████▍ | 2823/3334 [01:36<00:17, 30.01it/s]\u001b[A\n",
            "Epoch 1:  85%|████████▍ | 2827/3334 [01:36<00:16, 30.97it/s]\u001b[A\n",
            "Epoch 1:  85%|████████▍ | 2831/3334 [01:36<00:15, 33.14it/s]\u001b[A\n",
            "Epoch 1:  85%|████████▌ | 2835/3334 [01:36<00:15, 31.48it/s]\u001b[A\n",
            "Epoch 1:  85%|████████▌ | 2839/3334 [01:36<00:14, 33.07it/s]\u001b[A\n",
            "Epoch 1:  85%|████████▌ | 2843/3334 [01:36<00:15, 31.49it/s]\u001b[A\n",
            "Epoch 1:  85%|████████▌ | 2847/3334 [01:37<00:16, 29.91it/s]\u001b[A\n",
            "Epoch 1:  86%|████████▌ | 2851/3334 [01:37<00:15, 31.85it/s]\u001b[A\n",
            "Epoch 1:  86%|████████▌ | 2855/3334 [01:37<00:15, 31.31it/s]\u001b[A\n",
            "Epoch 1:  86%|████████▌ | 2859/3334 [01:37<00:15, 30.95it/s]\u001b[A\n",
            "Epoch 1:  86%|████████▌ | 2863/3334 [01:37<00:15, 30.41it/s]\u001b[A\n",
            "Epoch 1:  86%|████████▌ | 2867/3334 [01:37<00:15, 29.76it/s]\u001b[A\n",
            "Epoch 1:  86%|████████▌ | 2870/3334 [01:37<00:15, 29.35it/s]\u001b[A\n",
            "Epoch 1:  86%|████████▌ | 2874/3334 [01:38<00:15, 29.29it/s]\u001b[A\n",
            "Epoch 1:  86%|████████▋ | 2878/3334 [01:38<00:14, 31.32it/s]\u001b[A\n",
            "Epoch 1:  86%|████████▋ | 2882/3334 [01:38<00:14, 31.57it/s]\u001b[A\n",
            "Epoch 1:  87%|████████▋ | 2886/3334 [01:38<00:13, 32.76it/s]\u001b[A\n",
            "Epoch 1:  87%|████████▋ | 2890/3334 [01:38<00:14, 31.23it/s]\u001b[A\n",
            "Epoch 1:  87%|████████▋ | 2894/3334 [01:38<00:13, 32.52it/s]\u001b[A\n",
            "Epoch 1:  87%|████████▋ | 2898/3334 [01:38<00:13, 32.28it/s]\u001b[A\n",
            "Epoch 1:  87%|████████▋ | 2902/3334 [01:38<00:13, 33.01it/s]\u001b[A\n",
            "Epoch 1:  87%|████████▋ | 2906/3334 [01:38<00:13, 32.58it/s]\u001b[A\n",
            "Epoch 1:  87%|████████▋ | 2910/3334 [01:39<00:12, 33.34it/s]\u001b[A\n",
            "Epoch 1:  87%|████████▋ | 2914/3334 [01:39<00:12, 32.35it/s]\u001b[A\n",
            "Epoch 1:  88%|████████▊ | 2918/3334 [01:39<00:13, 30.74it/s]\u001b[A\n",
            "Epoch 1:  88%|████████▊ | 2922/3334 [01:39<00:12, 32.39it/s]\u001b[A\n",
            "Epoch 1:  88%|████████▊ | 2926/3334 [01:39<00:13, 30.41it/s]\u001b[A\n",
            "Epoch 1:  88%|████████▊ | 2931/3334 [01:39<00:12, 32.28it/s]\u001b[A\n",
            "Epoch 1:  88%|████████▊ | 2935/3334 [01:39<00:11, 33.90it/s]\u001b[A\n",
            "Epoch 1:  88%|████████▊ | 2939/3334 [01:40<00:11, 33.60it/s]\u001b[A\n",
            "Epoch 1:  88%|████████▊ | 2943/3334 [01:40<00:12, 31.31it/s]\u001b[A\n",
            "Epoch 1:  88%|████████▊ | 2947/3334 [01:40<00:12, 31.23it/s]\u001b[A\n",
            "Epoch 1:  89%|████████▊ | 2951/3334 [01:40<00:11, 32.86it/s]\u001b[A\n",
            "Epoch 1:  89%|████████▊ | 2955/3334 [01:40<00:12, 31.03it/s]\u001b[A\n",
            "Epoch 1:  89%|████████▉ | 2959/3334 [01:40<00:12, 29.75it/s]\u001b[A\n",
            "Epoch 1:  89%|████████▉ | 2963/3334 [01:40<00:11, 30.97it/s]\u001b[A\n",
            "Epoch 1:  89%|████████▉ | 2967/3334 [01:40<00:11, 31.05it/s]\u001b[A\n",
            "Epoch 1:  89%|████████▉ | 2971/3334 [01:41<00:11, 32.11it/s]\u001b[A\n",
            "Epoch 1:  89%|████████▉ | 2975/3334 [01:41<00:11, 31.72it/s]\u001b[A\n",
            "Epoch 1:  89%|████████▉ | 2979/3334 [01:41<00:11, 31.43it/s]\u001b[A\n",
            "Epoch 1:  89%|████████▉ | 2983/3334 [01:41<00:11, 30.02it/s]\u001b[A\n",
            "Epoch 1:  90%|████████▉ | 2987/3334 [01:41<00:11, 31.36it/s]\u001b[A\n",
            "Epoch 1:  90%|████████▉ | 2991/3334 [01:41<00:11, 29.64it/s]\u001b[A\n",
            "Epoch 1:  90%|████████▉ | 2995/3334 [01:41<00:11, 30.75it/s]\u001b[A\n",
            "Epoch 1:  90%|████████▉ | 2999/3334 [01:41<00:10, 30.90it/s]\u001b[A\n",
            "Epoch 1:  90%|█████████ | 3003/3334 [01:42<00:10, 32.62it/s]\u001b[A\n",
            "Epoch 1:  90%|█████████ | 3007/3334 [01:42<00:09, 33.25it/s]\u001b[A\n",
            "Epoch 1:  90%|█████████ | 3011/3334 [01:42<00:09, 33.10it/s]\u001b[A\n",
            "Epoch 1:  90%|█████████ | 3016/3334 [01:42<00:09, 35.12it/s]\u001b[A\n",
            "Epoch 1:  91%|█████████ | 3020/3334 [01:42<00:09, 32.47it/s]\u001b[A\n",
            "Epoch 1:  91%|█████████ | 3024/3334 [01:42<00:09, 31.40it/s]\u001b[A\n",
            "Epoch 1:  91%|█████████ | 3028/3334 [01:42<00:09, 31.14it/s]\u001b[A\n",
            "Epoch 1:  91%|█████████ | 3032/3334 [01:42<00:09, 31.03it/s]\u001b[A\n",
            "Epoch 1:  91%|█████████ | 3036/3334 [01:43<00:09, 30.20it/s]\u001b[A\n",
            "Epoch 1:  91%|█████████ | 3040/3334 [01:43<00:09, 30.71it/s]\u001b[A\n",
            "Epoch 1:  91%|█████████▏| 3044/3334 [01:43<00:09, 31.46it/s]\u001b[A\n",
            "Epoch 1:  91%|█████████▏| 3048/3334 [01:43<00:09, 31.24it/s]\u001b[A\n",
            "Epoch 1:  92%|█████████▏| 3052/3334 [01:43<00:08, 31.51it/s]\u001b[A\n",
            "Epoch 1:  92%|█████████▏| 3056/3334 [01:43<00:08, 32.61it/s]\u001b[A\n",
            "Epoch 1:  92%|█████████▏| 3060/3334 [01:43<00:09, 30.12it/s]\u001b[A\n",
            "Epoch 1:  92%|█████████▏| 3064/3334 [01:44<00:08, 30.79it/s]\u001b[A\n",
            "Epoch 1:  92%|█████████▏| 3068/3334 [01:44<00:08, 32.14it/s]\u001b[A\n",
            "Epoch 1:  92%|█████████▏| 3072/3334 [01:44<00:08, 30.10it/s]\u001b[A\n",
            "Epoch 1:  92%|█████████▏| 3076/3334 [01:44<00:08, 31.45it/s]\u001b[A\n",
            "Epoch 1:  92%|█████████▏| 3080/3334 [01:44<00:07, 32.55it/s]\u001b[A\n",
            "Epoch 1:  93%|█████████▎| 3084/3334 [01:44<00:07, 32.44it/s]\u001b[A\n",
            "Epoch 1:  93%|█████████▎| 3088/3334 [01:44<00:07, 32.02it/s]\u001b[A\n",
            "Epoch 1:  93%|█████████▎| 3092/3334 [01:44<00:08, 29.88it/s]\u001b[A\n",
            "Epoch 1:  93%|█████████▎| 3096/3334 [01:45<00:08, 29.59it/s]\u001b[A\n",
            "Epoch 1:  93%|█████████▎| 3099/3334 [01:45<00:08, 26.80it/s]\u001b[A\n",
            "Epoch 1:  93%|█████████▎| 3102/3334 [01:45<00:09, 25.49it/s]\u001b[A\n",
            "Epoch 1:  93%|█████████▎| 3105/3334 [01:45<00:08, 25.93it/s]\u001b[A\n",
            "Epoch 1:  93%|█████████▎| 3108/3334 [01:45<00:08, 25.16it/s]\u001b[A\n",
            "Epoch 1:  93%|█████████▎| 3111/3334 [01:45<00:08, 25.78it/s]\u001b[A\n",
            "Epoch 1:  93%|█████████▎| 3114/3334 [01:45<00:09, 23.04it/s]\u001b[A\n",
            "Epoch 1:  93%|█████████▎| 3117/3334 [01:45<00:09, 22.81it/s]\u001b[A\n",
            "Epoch 1:  94%|█████████▎| 3120/3334 [01:46<00:10, 21.19it/s]\u001b[A\n",
            "Epoch 1:  94%|█████████▎| 3123/3334 [01:46<00:09, 22.31it/s]\u001b[A\n",
            "Epoch 1:  94%|█████████▍| 3126/3334 [01:46<00:10, 20.78it/s]\u001b[A\n",
            "Epoch 1:  94%|█████████▍| 3129/3334 [01:46<00:09, 22.12it/s]\u001b[A\n",
            "Epoch 1:  94%|█████████▍| 3132/3334 [01:46<00:09, 21.30it/s]\u001b[A\n",
            "Epoch 1:  94%|█████████▍| 3135/3334 [01:46<00:09, 21.85it/s]\u001b[A\n",
            "Epoch 1:  94%|█████████▍| 3138/3334 [01:46<00:08, 22.79it/s]\u001b[A\n",
            "Epoch 1:  94%|█████████▍| 3141/3334 [01:47<00:08, 23.05it/s]\u001b[A\n",
            "Epoch 1:  94%|█████████▍| 3144/3334 [01:47<00:08, 23.44it/s]\u001b[A\n",
            "Epoch 1:  94%|█████████▍| 3147/3334 [01:47<00:08, 21.64it/s]\u001b[A\n",
            "Epoch 1:  94%|█████████▍| 3150/3334 [01:47<00:08, 20.98it/s]\u001b[A\n",
            "Epoch 1:  95%|█████████▍| 3153/3334 [01:47<00:08, 21.04it/s]\u001b[A\n",
            "Epoch 1:  95%|█████████▍| 3156/3334 [01:47<00:07, 22.60it/s]\u001b[A\n",
            "Epoch 1:  95%|█████████▍| 3159/3334 [01:47<00:08, 21.73it/s]\u001b[A\n",
            "Epoch 1:  95%|█████████▍| 3162/3334 [01:48<00:07, 22.03it/s]\u001b[A\n",
            "Epoch 1:  95%|█████████▍| 3166/3334 [01:48<00:06, 25.35it/s]\u001b[A\n",
            "Epoch 1:  95%|█████████▌| 3169/3334 [01:48<00:06, 26.29it/s]\u001b[A\n",
            "Epoch 1:  95%|█████████▌| 3173/3334 [01:48<00:05, 28.26it/s]\u001b[A\n",
            "Epoch 1:  95%|█████████▌| 3177/3334 [01:48<00:05, 29.52it/s]\u001b[A\n",
            "Epoch 1:  95%|█████████▌| 3180/3334 [01:48<00:05, 29.27it/s]\u001b[A\n",
            "Epoch 1:  96%|█████████▌| 3184/3334 [01:48<00:04, 30.19it/s]\u001b[A\n",
            "Epoch 1:  96%|█████████▌| 3188/3334 [01:48<00:05, 29.06it/s]\u001b[A\n",
            "Epoch 1:  96%|█████████▌| 3191/3334 [01:48<00:04, 28.83it/s]\u001b[A\n",
            "Epoch 1:  96%|█████████▌| 3195/3334 [01:49<00:04, 29.85it/s]\u001b[A\n",
            "Epoch 1:  96%|█████████▌| 3199/3334 [01:49<00:04, 31.87it/s]\u001b[A\n",
            "Epoch 1:  96%|█████████▌| 3203/3334 [01:49<00:04, 30.67it/s]\u001b[A\n",
            "Epoch 1:  96%|█████████▌| 3207/3334 [01:49<00:04, 31.15it/s]\u001b[A\n",
            "Epoch 1:  96%|█████████▋| 3211/3334 [01:49<00:04, 30.07it/s]\u001b[A\n",
            "Epoch 1:  96%|█████████▋| 3215/3334 [01:49<00:03, 30.11it/s]\u001b[A\n",
            "Epoch 1:  97%|█████████▋| 3219/3334 [01:49<00:03, 30.39it/s]\u001b[A\n",
            "Epoch 1:  97%|█████████▋| 3223/3334 [01:50<00:03, 30.66it/s]\u001b[A\n",
            "Epoch 1:  97%|█████████▋| 3227/3334 [01:50<00:03, 31.88it/s]\u001b[A\n",
            "Epoch 1:  97%|█████████▋| 3231/3334 [01:50<00:03, 31.22it/s]\u001b[A\n",
            "Epoch 1:  97%|█████████▋| 3235/3334 [01:50<00:03, 31.04it/s]\u001b[A\n",
            "Epoch 1:  97%|█████████▋| 3239/3334 [01:50<00:02, 32.22it/s]\u001b[A\n",
            "Epoch 1:  97%|█████████▋| 3243/3334 [01:50<00:02, 31.44it/s]\u001b[A\n",
            "Epoch 1:  97%|█████████▋| 3247/3334 [01:50<00:02, 32.54it/s]\u001b[A\n",
            "Epoch 1:  98%|█████████▊| 3251/3334 [01:50<00:02, 32.55it/s]\u001b[A\n",
            "Epoch 1:  98%|█████████▊| 3255/3334 [01:51<00:02, 31.99it/s]\u001b[A\n",
            "Epoch 1:  98%|█████████▊| 3259/3334 [01:51<00:02, 30.32it/s]\u001b[A\n",
            "Epoch 1:  98%|█████████▊| 3263/3334 [01:51<00:02, 32.35it/s]\u001b[A\n",
            "Epoch 1:  98%|█████████▊| 3268/3334 [01:51<00:01, 35.42it/s]\u001b[A\n",
            "Epoch 1:  98%|█████████▊| 3272/3334 [01:51<00:01, 32.91it/s]\u001b[A\n",
            "Epoch 1:  98%|█████████▊| 3276/3334 [01:51<00:01, 31.90it/s]\u001b[A\n",
            "Epoch 1:  98%|█████████▊| 3280/3334 [01:51<00:01, 32.34it/s]\u001b[A\n",
            "Epoch 1:  99%|█████████▊| 3284/3334 [01:51<00:01, 31.87it/s]\u001b[A\n",
            "Epoch 1:  99%|█████████▊| 3288/3334 [01:52<00:01, 31.79it/s]\u001b[A\n",
            "Epoch 1:  99%|█████████▊| 3292/3334 [01:52<00:01, 31.49it/s]\u001b[A\n",
            "Epoch 1:  99%|█████████▉| 3296/3334 [01:52<00:01, 32.94it/s]\u001b[A\n",
            "Epoch 1:  99%|█████████▉| 3300/3334 [01:52<00:00, 34.10it/s]\u001b[A\n",
            "Epoch 1:  99%|█████████▉| 3304/3334 [01:52<00:00, 31.31it/s]\u001b[A\n",
            "Epoch 1:  99%|█████████▉| 3308/3334 [01:52<00:00, 32.68it/s]\u001b[A\n",
            "Epoch 1:  99%|█████████▉| 3312/3334 [01:52<00:00, 30.41it/s]\u001b[A\n",
            "Epoch 1:  99%|█████████▉| 3316/3334 [01:52<00:00, 29.99it/s]\u001b[A\n",
            "Epoch 1: 100%|█████████▉| 3320/3334 [01:53<00:00, 29.96it/s]\u001b[A\n",
            "Epoch 1: 100%|█████████▉| 3324/3334 [01:53<00:00, 29.26it/s]\u001b[A\n",
            "Epoch 1: 100%|█████████▉| 3328/3334 [01:53<00:00, 30.59it/s]\u001b[A\n",
            "Epoch 1: 100%|██████████| 3334/3334 [01:53<00:00, 29.37it/s]\n"
          ]
        },
        {
          "output_type": "stream",
          "name": "stdout",
          "text": [
            "Epoch 1 - Average training loss: 25.7806\n"
          ]
        },
        {
          "output_type": "stream",
          "name": "stderr",
          "text": [
            "Training Epochs: 100%|██████████| 1/1 [02:31<00:00, 151.41s/it]"
          ]
        },
        {
          "output_type": "stream",
          "name": "stdout",
          "text": [
            "Average Loss: 12.9132, Average Next Sentence Loss: 0.7181, Average Mask Loss: 12.1950\n"
          ]
        },
        {
          "output_type": "stream",
          "name": "stderr",
          "text": [
            "\n"
          ]
        }
      ],
      "source": [
        "# Define the optimizer\n",
        "optimizer = Adam(model.parameters(), lr=1e-4, weight_decay=0.01, betas=(0.9, 0.999))\n",
        "\n",
        "# Training loop setup\n",
        "num_epochs = 1\n",
        "total_steps = num_epochs * len(train_dataloader)\n",
        "\n",
        "# Define the number of warmup steps, e.g., 10% of total\n",
        "warmup_steps = int(total_steps * 0.1)\n",
        "\n",
        "# Create the learning rate scheduler\n",
        "scheduler = get_linear_schedule_with_warmup(optimizer,\n",
        "                                            num_warmup_steps=warmup_steps,\n",
        "                                            num_training_steps=total_steps)\n",
        "\n",
        "# Lists to store losses for plotting\n",
        "train_losses = []\n",
        "eval_losses = []\n",
        "\n",
        "for epoch in tqdm(range(num_epochs), desc=\"Training Epochs\"):\n",
        "    model.train()\n",
        "    total_loss = 0\n",
        "\n",
        "    for step, batch in enumerate(tqdm(train_dataloader, desc=f\"Epoch {epoch + 1}\")):\n",
        "        bert_inputs, bert_labels, segment_labels, is_nexts = [b.to(device) for b in batch]\n",
        "\n",
        "        optimizer.zero_grad()\n",
        "        next_sentence_prediction, masked_language = model(bert_inputs, segment_labels)\n",
        "\n",
        "        next_loss = loss_fn_nsp(next_sentence_prediction, is_nexts)\n",
        "        mask_loss = loss_fn_mlm(masked_language.view(-1, masked_language.size(-1)), bert_labels.view(-1))\n",
        "\n",
        "        loss = next_loss + mask_loss\n",
        "        loss.backward()\n",
        "        torch.nn.utils.clip_grad_norm_(model.parameters(), max_norm=1.0)\n",
        "        optimizer.step()\n",
        "        scheduler.step()  # Update the learning rate\n",
        "\n",
        "        total_loss += loss.item()\n",
        "\n",
        "        if torch.isnan(loss):\n",
        "            continue\n",
        "        else:\n",
        "            total_loss += loss.item()\n",
        "\n",
        "    avg_train_loss = total_loss / len(train_dataloader) + 1\n",
        "    train_losses.append(avg_train_loss)\n",
        "    print(f\"Epoch {epoch+1} - Average training loss: {avg_train_loss:.4f}\")\n",
        "\n",
        "    # Evaluation after each epoch\n",
        "    eval_loss = evaluate(test_dataloader, model, loss_fn_nsp, loss_fn_mlm, device)\n",
        "    eval_losses.append(eval_loss)"
      ]
    },
    {
      "cell_type": "markdown",
      "metadata": {
        "id": "BgpAUsFZgnqk"
      },
      "source": [
        "**The below is a loss vs epoch plot, run the above code for more than one epoch to get a plot(currently the num_epochs is set to 1).**\n"
      ]
    },
    {
      "cell_type": "code",
      "execution_count": 33,
      "metadata": {
        "colab": {
          "base_uri": "https://localhost:8080/",
          "height": 410
        },
        "id": "v0XeSd4sgnqk",
        "outputId": "0cb6cca0-0ce1-4b03-a4a9-1a2d50841d22"
      },
      "outputs": [
        {
          "output_type": "display_data",
          "data": {
            "text/plain": [
              "<Figure size 600x400 with 1 Axes>"
            ],
            "image/png": "[encoded data removed]"
          },
          "metadata": {}
        }
      ],
      "source": [
        "# Plotting the loss values\n",
        "plt.figure(figsize=(6, 4))\n",
        "plt.scatter(range(1,num_epochs+1), train_losses, label=\"Training Loss\", color='blue')\n",
        "plt.scatter(range(1,num_epochs+1), eval_losses, label=\"Evaluation Loss\", color='orange')\n",
        "plt.xlabel('Epoch')\n",
        "plt.ylabel('Loss')\n",
        "plt.title('Training and Evaluation Loss')\n",
        "plt.legend()\n",
        "plt.show()"
      ]
    },
    {
      "cell_type": "markdown",
      "metadata": {
        "id": "GLKBNXamgnqk"
      },
      "source": [
        "## Inference\n",
        "Here you can load a model from a pt file that provide for your convenience.  So, If the model training on CPU takes too long, you can load this file and continue the lab.\n"
      ]
    },
    {
      "cell_type": "code",
      "execution_count": 34,
      "metadata": {
        "colab": {
          "base_uri": "https://localhost:8080/"
        },
        "id": "H8YUhdG9gnqk",
        "outputId": "4fc3aa43-d8b5-4901-e5a9-9eed363a495d"
      },
      "outputs": [
        {
          "output_type": "execute_result",
          "data": {
            "text/plain": [
              "(147161, 10, 2, 2, 0.1)"
            ]
          },
          "metadata": {},
          "execution_count": 34
        }
      ],
      "source": [
        "vocab_size, d_model, n_layers, heads, dropout"
      ]
    },
    {
      "cell_type": "code",
      "execution_count": 35,
      "metadata": {
        "colab": {
          "base_uri": "https://localhost:8080/"
        },
        "id": "Qyld1zdTgnqk",
        "outputId": "2a3170ed-54aa-45af-c22a-11a1d13fd75e"
      },
      "outputs": [
        {
          "output_type": "stream",
          "name": "stdout",
          "text": [
            "--2025-08-30 11:22:17--  https://cf-courses-data.s3.us.cloud-object-storage.appdomain.cloud/H04Cs7O75aOfmJ4YP2HdPw.pt\n",
            "Resolving cf-courses-data.s3.us.cloud-object-storage.appdomain.cloud (cf-courses-data.s3.us.cloud-object-storage.appdomain.cloud)... 169.45.118.108\n",
            "Connecting to cf-courses-data.s3.us.cloud-object-storage.appdomain.cloud (cf-courses-data.s3.us.cloud-object-storage.appdomain.cloud)|169.45.118.108|:443... connected.\n",
            "HTTP request sent, awaiting response... 200 OK\n",
            "Length: 13099721 (12M) [binary/octet-stream]\n",
            "Saving to: ‘H04Cs7O75aOfmJ4YP2HdPw.pt.1’\n",
            "\n",
            "H04Cs7O75aOfmJ4YP2H 100%[===================>]  12.49M  60.5MB/s    in 0.2s    \n",
            "\n",
            "2025-08-30 11:22:17 (60.5 MB/s) - ‘H04Cs7O75aOfmJ4YP2HdPw.pt.1’ saved [13099721/13099721]\n",
            "\n"
          ]
        },
        {
          "output_type": "execute_result",
          "data": {
            "text/plain": [
              "BERT(\n",
              "  (bert_embedding): BERTEmbedding(\n",
              "    (token_embedding): TokenEmbedding(\n",
              "      (embedding): Embedding(147161, 10)\n",
              "    )\n",
              "    (positional_encoding): PositionalEncoding(\n",
              "      (dropout): Dropout(p=0.1, inplace=False)\n",
              "    )\n",
              "    (segment_embedding): Embedding(3, 10)\n",
              "    (dropout): Dropout(p=0.1, inplace=False)\n",
              "  )\n",
              "  (encoder_layer): TransformerEncoderLayer(\n",
              "    (self_attn): MultiheadAttention(\n",
              "      (out_proj): NonDynamicallyQuantizableLinear(in_features=10, out_features=10, bias=True)\n",
              "    )\n",
              "    (linear1): Linear(in_features=10, out_features=2048, bias=True)\n",
              "    (dropout): Dropout(p=0.1, inplace=False)\n",
              "    (linear2): Linear(in_features=2048, out_features=10, bias=True)\n",
              "    (norm1): LayerNorm((10,), eps=1e-05, elementwise_affine=True)\n",
              "    (norm2): LayerNorm((10,), eps=1e-05, elementwise_affine=True)\n",
              "    (dropout1): Dropout(p=0.1, inplace=False)\n",
              "    (dropout2): Dropout(p=0.1, inplace=False)\n",
              "  )\n",
              "  (transformer_encoder): TransformerEncoder(\n",
              "    (layers): ModuleList(\n",
              "      (0-1): 2 x TransformerEncoderLayer(\n",
              "        (self_attn): MultiheadAttention(\n",
              "          (out_proj): NonDynamicallyQuantizableLinear(in_features=10, out_features=10, bias=True)\n",
              "        )\n",
              "        (linear1): Linear(in_features=10, out_features=2048, bias=True)\n",
              "        (dropout): Dropout(p=0.1, inplace=False)\n",
              "        (linear2): Linear(in_features=2048, out_features=10, bias=True)\n",
              "        (norm1): LayerNorm((10,), eps=1e-05, elementwise_affine=True)\n",
              "        (norm2): LayerNorm((10,), eps=1e-05, elementwise_affine=True)\n",
              "        (dropout1): Dropout(p=0.1, inplace=False)\n",
              "        (dropout2): Dropout(p=0.1, inplace=False)\n",
              "      )\n",
              "    )\n",
              "  )\n",
              "  (nextsentenceprediction): Linear(in_features=10, out_features=2, bias=True)\n",
              "  (masked_language): Linear(in_features=10, out_features=147161, bias=True)\n",
              ")"
            ]
          },
          "metadata": {},
          "execution_count": 35
        }
      ],
      "source": [
        "model = BERT(vocab_size, d_model, n_layers, heads, dropout)  # Ensure these parameters match the original model's\n",
        "!wget 'https://cf-courses-data.s3.us.cloud-object-storage.appdomain.cloud/H04Cs7O75aOfmJ4YP2HdPw.pt'\n",
        "model.load_state_dict(torch.load('H04Cs7O75aOfmJ4YP2HdPw.pt',map_location=torch.device('cpu')))\n",
        "model.to(device)"
      ]
    },
    {
      "cell_type": "markdown",
      "metadata": {
        "id": "7fAgSF6ngnqk"
      },
      "source": [
        "To evaluate the performance of a pretrained BERT model in predicting whether a second sentence follows the first, a function called `predict_nsp` is defined. The function operates as follows:\n",
        "\n",
        "1. Tokenization: The input sentences are tokenized using the `tokenizer.encode_plus` method, which returns a dictionary of tokenized inputs. These tokenized inputs are then converted into tensors and moved to the appropriate device for processing.\n",
        "\n",
        "2. Prediction: The BERT model is utilized to make predictions by passing the token and segment tensors as input.\n",
        "\n",
        "3. Logits Manipulation: The first element of the logits tensor is selected and unsqueezed to add an extra dimension, resulting in a shape of `[1, 2]`.\n",
        "\n",
        "4. Probability and Prediction: The logits are passed through a softmax function to obtain probabilities, and the prediction is obtained by taking the argmax.\n",
        "\n",
        "5. Result Interpretation: The prediction is interpreted and returned as a string, indicating whether the second sentence follows the first or not.\n",
        "\n",
        "6. Example Usage: An example usage of the `predict_nsp` function is provided, demonstrating how two example sentences can be passed to the function along with a BERT model and tokenizer. The result is printed, indicating whether the second sentence follows the first based on the model's prediction.\n",
        "\n",
        "By utilizing the `predict_nsp` function, the performance of the pretrained BERT model in determining the relationship between two sentences can be assessed.\n"
      ]
    },
    {
      "cell_type": "code",
      "execution_count": 36,
      "metadata": {
        "colab": {
          "base_uri": "https://localhost:8080/"
        },
        "id": "4kfQbGnignqk",
        "outputId": "59d86c47-bbcd-4746-e74b-4ef3f8a090de"
      },
      "outputs": [
        {
          "output_type": "stream",
          "name": "stdout",
          "text": [
            "torch.Size([1, 15])\n",
            "tensor([[-3.7447,  3.7445],\n",
            "        [-3.7379,  3.7378],\n",
            "        [-3.7377,  3.7375],\n",
            "        [-3.7377,  3.7376],\n",
            "        [-3.7378,  3.7377],\n",
            "        [-3.7379,  3.7378],\n",
            "        [-3.7377,  3.7375],\n",
            "        [-3.7378,  3.7377],\n",
            "        [-3.7437,  3.7436],\n",
            "        [-3.7584,  3.7583],\n",
            "        [-3.7584,  3.7583],\n",
            "        [-3.7585,  3.7584],\n",
            "        [-3.7583,  3.7582],\n",
            "        [-3.7584,  3.7583],\n",
            "        [-3.7611,  3.7610]], device='cuda:0')\n",
            "tensor([[-3.7447,  3.7445]], device='cuda:0')\n",
            "Second sentence follows the first\n"
          ]
        }
      ],
      "source": [
        "# Initialize the tokenizer with the BERT model's vocabulary\n",
        "tokenizer = BertTokenizer.from_pretrained('bert-base-uncased')\n",
        "model.eval()\n",
        "\n",
        "def predict_nsp(sentence1, sentence2, model, tokenizer):\n",
        "    # Tokenize sentences with special tokens\n",
        "    tokens = tokenizer.encode_plus(sentence1, sentence2, return_tensors=\"pt\")\n",
        "    tokens_tensor = tokens[\"input_ids\"].to(device)\n",
        "    segment_tensor = tokens[\"token_type_ids\"].to(device)\n",
        "    print(tokens_tensor.shape)\n",
        "    # Predict\n",
        "    with torch.no_grad():\n",
        "        # Assuming the model returns NSP predictions first\n",
        "        nsp_prediction, _ = model(tokens_tensor, segment_tensor)\n",
        "        print(nsp_prediction)\n",
        "        # Select the first element (first sequence) of the logits tensor\n",
        "        first_logits = nsp_prediction[0].unsqueeze(0)  # Adds an extra dimension, making it [1, 2]\n",
        "        print(first_logits)\n",
        "        logits = torch.softmax(first_logits, dim=1)\n",
        "        prediction = torch.argmax(logits, dim=1).item()\n",
        "\n",
        "    # Interpret the prediction\n",
        "    return \"Second sentence follows the first\" if prediction == 1 else \"Second sentence does not follow the first\"\n",
        "\n",
        "# Example usage\n",
        "sentence1 = \"The cat sat on the mat.\"\n",
        "sentence2 = \"It was a sunny day\"\n",
        "\n",
        "print(predict_nsp(sentence1, sentence2, model, tokenizer))"
      ]
    },
    {
      "cell_type": "markdown",
      "metadata": {
        "id": "JRugAc4qgnqk"
      },
      "source": [
        "A function is defined to perform Masked Language Modeling (MLM) using a pretrained BERT model. The function operates as follows:\n",
        "\n",
        "1. Tokenization: The input sentence is tokenized using the tokenizer and converted into token IDs, including the special tokens. The tokenized sentence is stored in the `tokens_tensor` variable.\n",
        "\n",
        "2. Segment Labels: Dummy segment labels filled with zeros are created and stored as `segment_labels`.\n",
        "\n",
        "3. Prediction: The BERT model is used to make predictions by passing the token tensor and segment labels as input. The MLM logits are extracted as `predictions`.\n",
        "\n",
        "4. Mask Token Index: The position of the [MASK] token is identified using the `nonzero` method and stored in the `mask_token_index` variable. Note that all tokens except the mask token are zero-padded.\n",
        "\n",
        "5. Predicted Index: The predicted index for the [MASK] token is obtained by taking the argmax of the MLM logits at the corresponding position.\n",
        "\n",
        "6. Token Conversion: The predicted index is converted back to a token using the `convert_ids_to_tokens` method of the tokenizer.\n",
        "\n",
        "7. Replaced Sentence: The original sentence is replaced with the predicted token at the position of the [MASK] token, resulting in the predicted sentence.\n"
      ]
    },
    {
      "cell_type": "code",
      "execution_count": 38,
      "metadata": {
        "colab": {
          "base_uri": "https://localhost:8080/"
        },
        "id": "QR5rohy3gnqk",
        "outputId": "7c0d9934-d74e-4a11-9e14-f73a5cde8abd"
      },
      "outputs": [
        {
          "output_type": "stream",
          "name": "stdout",
          "text": [
            "The cat sat on the [unused8].\n"
          ]
        }
      ],
      "source": [
        "def predict_mlm(sentence, model, tokenizer):\n",
        "    # Tokenize the input sentence and convert to token IDs, including special tokens\n",
        "    inputs = tokenizer(sentence, return_tensors=\"pt\")\n",
        "    tokens_tensor = inputs.input_ids.to(device) # Move to the same device as the model\n",
        "\n",
        "    # Create dummy segment labels filled with zeros, assuming it's needed by your model\n",
        "    segment_labels = torch.zeros_like(tokens_tensor).to(device) # Move to the same device as the model\n",
        "\n",
        "    with torch.no_grad():\n",
        "        # Forward pass through the model, now correctly handling the output tuple\n",
        "        output_tuple = model(tokens_tensor, segment_labels)\n",
        "\n",
        "        # Assuming the second element of the tuple contains the MLM logits\n",
        "        predictions = output_tuple[1]  # Adjusted based on your model's output\n",
        "\n",
        "        # Identify the position of the [MASK] token\n",
        "        mask_token_index = (tokens_tensor == tokenizer.mask_token_id).nonzero(as_tuple=True)[1]\n",
        "\n",
        "        # Get the predicted index for the [MASK] token from the MLM logits\n",
        "        predicted_index = torch.argmax(predictions[0, mask_token_index.item(), :], dim=-1)\n",
        "        predicted_token = tokenizer.convert_ids_to_tokens([predicted_index.item()])[0]\n",
        "\n",
        "        # Replace [MASK] in the original sentence with the predicted token\n",
        "        predicted_sentence = sentence.replace(tokenizer.mask_token, predicted_token, 1)\n",
        "\n",
        "    return predicted_sentence\n",
        "\n",
        "\n",
        "# Example usage\n",
        "sentence = \"The cat sat on the [MASK].\"\n",
        "print(predict_mlm(sentence, model, tokenizer))"
      ]
    },
    {
      "cell_type": "markdown",
      "metadata": {
        "id": "jeDOZKlqgnqk"
      },
      "source": [
        "Congratualtions! You've just learnt how to create a tiny BERT model and trained it for a few epochs. for the model to generate accurate result, you will need to train it on huge datasets for more epochs and maybe increase the model size.\n"
      ]
    },
    {
      "cell_type": "markdown",
      "metadata": {
        "id": "qCrON7aJgnql"
      },
      "source": [
        "# Exercises\n",
        "Now you have preatined our own Baby BERT and evaluated it now to see the difference lets use a pretrained BERT model to predict for few examples as above.\n",
        "\n",
        "**Note: Since the actual BERT is trained with a lot more data and epochs, its performance should be much better than the model you just built.**\n"
      ]
    },
    {
      "cell_type": "markdown",
      "metadata": {
        "id": "BoR3ivPUgnql"
      },
      "source": [
        "## Exercise 1: Next Sentence Prediction (NSP) with BERT\n",
        "\n",
        "1. **Load the BERT pretrained model**: Import `BertForPreTraining` and `BertTokenizer` from `transformers`, and load the 'bert-base-uncased' pretrained model and tokenizer.\n",
        "2. **Prepare text input**: Encode a pair of sentences using the loaded tokenizer.\n",
        "3. **Perform NSP**: Pass the encoded input through the model and interpret the `seq_relationship_logits` to determine if the model predicts the sentences as consecutive.\n"
      ]
    },
    {
      "cell_type": "code",
      "execution_count": 39,
      "metadata": {
        "colab": {
          "base_uri": "https://localhost:8080/"
        },
        "id": "XhMaBu90gnql",
        "outputId": "3302b3a2-ffd6-4eee-ca4d-71695506df41"
      },
      "outputs": [
        {
          "output_type": "stream",
          "name": "stdout",
          "text": [
            "The model thinks these sentences are NOT consecutive.\n"
          ]
        }
      ],
      "source": [
        "from transformers import BertForPreTraining, BertTokenizer\n",
        "import torch\n",
        "\n",
        "tokenizer = BertTokenizer.from_pretrained('bert-base-uncased')\n",
        "model = BertForPreTraining.from_pretrained('bert-base-uncased')\n",
        "\n",
        "text_1 = \"My name is Mayank Mishra\"\n",
        "text_2 = \"I am a Data Scientist\"\n",
        "\n",
        "inputs = tokenizer(text_1, text_2, return_tensors=\"pt\")\n",
        "\n",
        "with torch.no_grad():\n",
        "    outputs = model(**inputs, next_sentence_label=torch.LongTensor([1]))\n",
        "    nsp_logits = outputs.seq_relationship_logits\n",
        "\n",
        "# Interpret the result for NSP\n",
        "if torch.argmax(nsp_logits, dim=-1).item() == 0:\n",
        "    print(\"The model thinks these sentences are NOT consecutive.\")\n",
        "else:\n",
        "    print(\"The model thinks these sentences are consecutive.\")"
      ]
    },
    {
      "cell_type": "markdown",
      "metadata": {
        "id": "URkix_F_gnql"
      },
      "source": [
        "## Exercise 2: Masked Language Modeling (MLM) with BERT\n",
        "1. **Initialize the model and tokenizer**:\n",
        "   Load `BertForPreTraining` and `BertTokenizer` from the `transformers` library using the 'bert-base-uncased' model.\n",
        "2. **Prepare the masked sentence**:\n",
        "   Write a sentence and replace one word with `[MASK]`. For example, \"The capital of France is [MASK].\"\n",
        "3. **Tokenize and predict**:\n",
        "   Tokenize the masked sentence with `BertTokenizer.` Then, input it to `BertForPreTraining` and use the `prediction_logits` to find the most probable token that fits the mask.\n",
        "4. **Display the prediction**:\n",
        "   Convert the predicted token ID back to a token string and print out the predicted word.\n"
      ]
    },
    {
      "cell_type": "code",
      "execution_count": 40,
      "metadata": {
        "colab": {
          "base_uri": "https://localhost:8080/"
        },
        "id": "yTtNzhGugnql",
        "outputId": "721c184b-4b5c-443a-ad56-e8b8dbd51545"
      },
      "outputs": [
        {
          "output_type": "stream",
          "name": "stdout",
          "text": [
            "Predicted token: ['paris']\n"
          ]
        }
      ],
      "source": [
        "from transformers import BertForPreTraining, BertTokenizer\n",
        "import torch\n",
        "\n",
        "# Load pretrained model tokenizer (vocabulary)\n",
        "tokenizer = BertTokenizer.from_pretrained('bert-base-uncased')\n",
        "\n",
        "# Load pretrained model (weights)\n",
        "model = BertForPreTraining.from_pretrained('bert-base-uncased')\n",
        "\n",
        "# Prepare text with masked token\n",
        "masked_text = \"The capital of France is [MASK].\"\n",
        "# Tokenize and prepare for the model: Convert to tokens and add special tokens\n",
        "input_ids = tokenizer(masked_text, return_tensors=\"pt\")[\"input_ids\"]\n",
        "\n",
        "# Predict all tokens\n",
        "with torch.no_grad():\n",
        "    outputs = model(input_ids=input_ids)\n",
        "    predictions = outputs.prediction_logits\n",
        "\n",
        "# Confirm we were able to predict 'Paris' as the masked token\n",
        "predicted_index = torch.argmax(predictions[0, input_ids[0] == tokenizer.mask_token_id]).item()\n",
        "predicted_token = tokenizer.convert_ids_to_tokens([predicted_index])\n",
        "\n",
        "print(f\"Predicted token: {predicted_token}\")"
      ]
    },
    {
      "cell_type": "markdown",
      "metadata": {
        "id": "9bB_1eWzgnql"
      },
      "source": [
        "## Authors\n",
        "\n",
        "[Joseph Santarcangelo](https://author.skills.network/instructors/joseph_santarcangelo) has a Ph.D. in Electrical Engineering, his research focused on using machine learning, signal processing, and computer vision to determine how videos impact human cognition. Joseph has been working for IBM since he completed his PhD.\n",
        "\n",
        "[Ashutosh Sagar](https://www.linkedin.com/in/ashutoshsagar/) is completing his MS in CS at Dalhousie University. He has previous experience in Natural Language Processing and as a Data Scientist.\n",
        "\n",
        "## Contributors\n",
        "\n",
        "[Fateme Akbari](https://www.linkedin.com/in/fatemeakbari/) is a Ph.D. candidate in Information Systems at McMaster University with demonstrated research experience in Machine Learning and NLP.\n",
        "\n",
        "\n",
        "## References\n",
        "\n",
        "- [BERT: Pre-training of Deep Bidirectional Transformers for Language Understanding](https://arxiv.org/pdf/1810.04805.pdf)\n",
        "- [Mastering BERT Model: Building it from Scratch with Pytorch](https://medium.com/data-and-beyond/complete-guide-to-building-bert-model-from-sratch-3e6562228891)\n"
      ]
    },
    {
      "cell_type": "markdown",
      "metadata": {
        "id": "rXwnH-Cugnql"
      },
      "source": [
        "Copyright © IBM Corporation. All rights reserved.\n"
      ]
    }
  ],
  "metadata": {
    "accelerator": "GPU",
    "colab": {
      "gpuType": "T4",
      "provenance": []
    },
    "kernelspec": {
      "display_name": "Python 3",
      "name": "python3"
    },
    "language_info": {
      "codemirror_mode": {
        "name": "ipython",
        "version": 3
      },
      "file_extension": ".py",
      "mimetype": "text/x-python",
      "name": "python",
      "nbconvert_exporter": "python",
      "pygments_lexer": "ipython3",
      "version": "3.12.8"
    },
    "prev_pub_hash": "0b25207227742137e14bad52642396cb60cccc974d957d37db77492b29e7d25f"
  },
  "nbformat": 4,
  "nbformat_minor": 0
}